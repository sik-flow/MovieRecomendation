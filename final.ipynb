{
 "cells": [
  {
   "cell_type": "markdown",
   "metadata": {},
   "source": [
    "# Module 5 Project\n",
    "\n",
    "* Student name: Bronwen Cohn-Cort\n",
    "* Student pace: self-paced\n",
    "* Scheduled project review date/time: July 8, 2020 3:15 PM (subject to change)\n",
    "* Instructor name: Jeff Herman\n",
    "* Blog post URL: https://bronwencc.github.io/data_science_using_lasso_and_ridge_regression_in_python"
   ]
  },
  {
   "cell_type": "markdown",
   "metadata": {},
   "source": [
    "This notebook will look at a dataset of strategy games from the Apple App Store to get a model to predict whether an app has a higher (4.5 or 5) or lower (4 or under) Average User Rating.\n",
    "\n",
    "The dataset is from https://www.kaggle.com/tristan581/17k-apple-app-store-strategy-games/ on the Kaggle website.  It was unzipped from the file `7k-apple-app-store-strategy-games.zip` to `appstore_games.csv`, contained in this repository.\n",
    "\n",
    "The most accurate model is the `AdaBoostClassifier` and its optimal parameters were found to be `algorithm = 'SAMME.R'`, `learning_rate = 0.25` and `n_estimators = 75`.  With these parameters and the `finalbinsdf` dataframe (using eleven features), the highest accuracy is ~64% to predict whether a strategy game app's average rating is high (4.5 or 5) or low (4 or under)."
   ]
  },
  {
   "cell_type": "markdown",
   "metadata": {},
   "source": [
    "# Obtain\n",
    "### Import Statements"
   ]
  },
  {
   "cell_type": "code",
   "execution_count": 1,
   "metadata": {},
   "outputs": [],
   "source": [
    "import pandas as pd"
   ]
  },
  {
   "cell_type": "code",
   "execution_count": 2,
   "metadata": {},
   "outputs": [],
   "source": [
    "import matplotlib.pyplot as plt\n",
    "%matplotlib inline\n",
    "plt.style.use(\"seaborn\")"
   ]
  },
  {
   "cell_type": "code",
   "execution_count": 3,
   "metadata": {},
   "outputs": [],
   "source": [
    "import numpy as np"
   ]
  },
  {
   "cell_type": "code",
   "execution_count": 4,
   "metadata": {},
   "outputs": [],
   "source": [
    "from sklearn.model_selection import train_test_split\n",
    "from sklearn.metrics import accuracy_score, confusion_matrix, f1_score \n",
    "from sklearn.tree import DecisionTreeClassifier\n",
    "from sklearn.ensemble import RandomForestClassifier, AdaBoostClassifier\n",
    "from sklearn.preprocessing import StandardScaler\n",
    "from sklearn import svm\n",
    "from sklearn.model_selection import GridSearchCV\n",
    "from sklearn.pipeline import Pipeline"
   ]
  },
  {
   "cell_type": "code",
   "execution_count": 5,
   "metadata": {},
   "outputs": [],
   "source": [
    "from xgboost import XGBClassifier"
   ]
  },
  {
   "cell_type": "code",
   "execution_count": 6,
   "metadata": {},
   "outputs": [],
   "source": [
    "from scipy import stats"
   ]
  },
  {
   "cell_type": "code",
   "execution_count": 7,
   "metadata": {},
   "outputs": [],
   "source": [
    "import time"
   ]
  },
  {
   "cell_type": "code",
   "execution_count": 8,
   "metadata": {},
   "outputs": [],
   "source": [
    "import os"
   ]
  },
  {
   "cell_type": "markdown",
   "metadata": {},
   "source": [
    "### Create \"files\" and \"images\" folders in directory"
   ]
  },
  {
   "cell_type": "code",
   "execution_count": 9,
   "metadata": {},
   "outputs": [],
   "source": [
    "current = os.curdir\n",
    "newfolders = ['files','images']\n",
    "for newfolder in newfolders:\n",
    "    newpath = os.path.join(current,newfolder)\n",
    "    if not os.path.exists(newpath):\n",
    "        os.makedirs(newpath)"
   ]
  },
  {
   "cell_type": "markdown",
   "metadata": {},
   "source": [
    "### Simple Functions\n",
    "These are to simplify resuming working on a dataframe saved as a .CSV file and other similarly useful blocks of code."
   ]
  },
  {
   "cell_type": "code",
   "execution_count": 10,
   "metadata": {},
   "outputs": [],
   "source": [
    "def getData(dfpath):\n",
    "    '''\n",
    "    A simple function to read in the requested, previously saved, .CSV file reached at dfpath as a pandas DataFrame with\n",
    "    the first column becoming the index.\n",
    "    \n",
    "    Args\n",
    "        dfpath (str) : the path from the current directory that contains the requested file\n",
    "    \n",
    "    Returns\n",
    "        (pandas DataFrame) : the requested .CSV file as a DataFrame with the first column as the index\n",
    "    '''\n",
    "    mydf = pd.read_csv(dfpath, index_col=[0])#takes the first column to become the index\n",
    "    return mydf"
   ]
  },
  {
   "cell_type": "code",
   "execution_count": 11,
   "metadata": {},
   "outputs": [],
   "source": [
    "#creating dataframe of one column (named 1, as a number) with null values and the provided index\n",
    "def emptyframe(specindex):\n",
    "    '''\n",
    "    Creates a pandas dataframe with the provided index with a sole column labeled 1 (as a number) consisting of NaN values.\n",
    "    \n",
    "    Args\n",
    "        specindex (pandas DataFrame Index or similar) : The preferred index values for this new dataframe.\n",
    "    \n",
    "    Returns\n",
    "        empdf (pandas DataFrame) : index is specindex, column titled 1 contains only NaN values for all of the index\n",
    "    '''\n",
    "    empdf = pd.DataFrame(data={1:np.nan},index=specindex)\n",
    "    return empdf"
   ]
  },
  {
   "cell_type": "markdown",
   "metadata": {},
   "source": [
    "## Pre-processing Data"
   ]
  },
  {
   "cell_type": "code",
   "execution_count": 12,
   "metadata": {},
   "outputs": [
    {
     "data": {
      "text/html": [
       "<div>\n",
       "<style scoped>\n",
       "    .dataframe tbody tr th:only-of-type {\n",
       "        vertical-align: middle;\n",
       "    }\n",
       "\n",
       "    .dataframe tbody tr th {\n",
       "        vertical-align: top;\n",
       "    }\n",
       "\n",
       "    .dataframe thead th {\n",
       "        text-align: right;\n",
       "    }\n",
       "</style>\n",
       "<table border=\"1\" class=\"dataframe\">\n",
       "  <thead>\n",
       "    <tr style=\"text-align: right;\">\n",
       "      <th></th>\n",
       "      <th>URL</th>\n",
       "      <th>ID</th>\n",
       "      <th>Name</th>\n",
       "      <th>Subtitle</th>\n",
       "      <th>Icon URL</th>\n",
       "      <th>Average User Rating</th>\n",
       "      <th>User Rating Count</th>\n",
       "      <th>Price</th>\n",
       "      <th>In-app Purchases</th>\n",
       "      <th>Description</th>\n",
       "      <th>Developer</th>\n",
       "      <th>Age Rating</th>\n",
       "      <th>Languages</th>\n",
       "      <th>Size</th>\n",
       "      <th>Primary Genre</th>\n",
       "      <th>Genres</th>\n",
       "      <th>Original Release Date</th>\n",
       "      <th>Current Version Release Date</th>\n",
       "    </tr>\n",
       "  </thead>\n",
       "  <tbody>\n",
       "    <tr>\n",
       "      <td>0</td>\n",
       "      <td>https://apps.apple.com/us/app/sudoku/id284921427</td>\n",
       "      <td>284921427</td>\n",
       "      <td>Sudoku</td>\n",
       "      <td>NaN</td>\n",
       "      <td>https://is2-ssl.mzstatic.com/image/thumb/Purpl...</td>\n",
       "      <td>4.0</td>\n",
       "      <td>3553.0</td>\n",
       "      <td>2.99</td>\n",
       "      <td>NaN</td>\n",
       "      <td>Join over 21,000,000 of our fans and download ...</td>\n",
       "      <td>Mighty Mighty Good Games</td>\n",
       "      <td>4+</td>\n",
       "      <td>DA, NL, EN, FI, FR, DE, IT, JA, KO, NB, PL, PT...</td>\n",
       "      <td>15853568.0</td>\n",
       "      <td>Games</td>\n",
       "      <td>Games, Strategy, Puzzle</td>\n",
       "      <td>11/07/2008</td>\n",
       "      <td>30/05/2017</td>\n",
       "    </tr>\n",
       "    <tr>\n",
       "      <td>1</td>\n",
       "      <td>https://apps.apple.com/us/app/reversi/id284926400</td>\n",
       "      <td>284926400</td>\n",
       "      <td>Reversi</td>\n",
       "      <td>NaN</td>\n",
       "      <td>https://is4-ssl.mzstatic.com/image/thumb/Purpl...</td>\n",
       "      <td>3.5</td>\n",
       "      <td>284.0</td>\n",
       "      <td>1.99</td>\n",
       "      <td>NaN</td>\n",
       "      <td>The classic game of Reversi, also known as Oth...</td>\n",
       "      <td>Kiss The Machine</td>\n",
       "      <td>4+</td>\n",
       "      <td>EN</td>\n",
       "      <td>12328960.0</td>\n",
       "      <td>Games</td>\n",
       "      <td>Games, Strategy, Board</td>\n",
       "      <td>11/07/2008</td>\n",
       "      <td>17/05/2018</td>\n",
       "    </tr>\n",
       "    <tr>\n",
       "      <td>2</td>\n",
       "      <td>https://apps.apple.com/us/app/morocco/id284946595</td>\n",
       "      <td>284946595</td>\n",
       "      <td>Morocco</td>\n",
       "      <td>NaN</td>\n",
       "      <td>https://is5-ssl.mzstatic.com/image/thumb/Purpl...</td>\n",
       "      <td>3.0</td>\n",
       "      <td>8376.0</td>\n",
       "      <td>0.00</td>\n",
       "      <td>NaN</td>\n",
       "      <td>Play the classic strategy game Othello (also k...</td>\n",
       "      <td>Bayou Games</td>\n",
       "      <td>4+</td>\n",
       "      <td>EN</td>\n",
       "      <td>674816.0</td>\n",
       "      <td>Games</td>\n",
       "      <td>Games, Board, Strategy</td>\n",
       "      <td>11/07/2008</td>\n",
       "      <td>5/09/2017</td>\n",
       "    </tr>\n",
       "    <tr>\n",
       "      <td>3</td>\n",
       "      <td>https://apps.apple.com/us/app/sudoku-free/id28...</td>\n",
       "      <td>285755462</td>\n",
       "      <td>Sudoku (Free)</td>\n",
       "      <td>NaN</td>\n",
       "      <td>https://is3-ssl.mzstatic.com/image/thumb/Purpl...</td>\n",
       "      <td>3.5</td>\n",
       "      <td>190394.0</td>\n",
       "      <td>0.00</td>\n",
       "      <td>NaN</td>\n",
       "      <td>Top 100 free app for over a year.\\nRated \"Best...</td>\n",
       "      <td>Mighty Mighty Good Games</td>\n",
       "      <td>4+</td>\n",
       "      <td>DA, NL, EN, FI, FR, DE, IT, JA, KO, NB, PL, PT...</td>\n",
       "      <td>21552128.0</td>\n",
       "      <td>Games</td>\n",
       "      <td>Games, Strategy, Puzzle</td>\n",
       "      <td>23/07/2008</td>\n",
       "      <td>30/05/2017</td>\n",
       "    </tr>\n",
       "    <tr>\n",
       "      <td>4</td>\n",
       "      <td>https://apps.apple.com/us/app/senet-deluxe/id2...</td>\n",
       "      <td>285831220</td>\n",
       "      <td>Senet Deluxe</td>\n",
       "      <td>NaN</td>\n",
       "      <td>https://is1-ssl.mzstatic.com/image/thumb/Purpl...</td>\n",
       "      <td>3.5</td>\n",
       "      <td>28.0</td>\n",
       "      <td>2.99</td>\n",
       "      <td>NaN</td>\n",
       "      <td>\"Senet Deluxe - The Ancient Game of Life and A...</td>\n",
       "      <td>RoGame Software</td>\n",
       "      <td>4+</td>\n",
       "      <td>DA, NL, EN, FR, DE, EL, IT, JA, KO, NO, PT, RU...</td>\n",
       "      <td>34689024.0</td>\n",
       "      <td>Games</td>\n",
       "      <td>Games, Strategy, Board, Education</td>\n",
       "      <td>18/07/2008</td>\n",
       "      <td>22/07/2018</td>\n",
       "    </tr>\n",
       "  </tbody>\n",
       "</table>\n",
       "</div>"
      ],
      "text/plain": [
       "                                                 URL         ID  \\\n",
       "0   https://apps.apple.com/us/app/sudoku/id284921427  284921427   \n",
       "1  https://apps.apple.com/us/app/reversi/id284926400  284926400   \n",
       "2  https://apps.apple.com/us/app/morocco/id284946595  284946595   \n",
       "3  https://apps.apple.com/us/app/sudoku-free/id28...  285755462   \n",
       "4  https://apps.apple.com/us/app/senet-deluxe/id2...  285831220   \n",
       "\n",
       "            Name Subtitle                                           Icon URL  \\\n",
       "0         Sudoku      NaN  https://is2-ssl.mzstatic.com/image/thumb/Purpl...   \n",
       "1        Reversi      NaN  https://is4-ssl.mzstatic.com/image/thumb/Purpl...   \n",
       "2        Morocco      NaN  https://is5-ssl.mzstatic.com/image/thumb/Purpl...   \n",
       "3  Sudoku (Free)      NaN  https://is3-ssl.mzstatic.com/image/thumb/Purpl...   \n",
       "4   Senet Deluxe      NaN  https://is1-ssl.mzstatic.com/image/thumb/Purpl...   \n",
       "\n",
       "   Average User Rating  User Rating Count  Price In-app Purchases  \\\n",
       "0                  4.0             3553.0   2.99              NaN   \n",
       "1                  3.5              284.0   1.99              NaN   \n",
       "2                  3.0             8376.0   0.00              NaN   \n",
       "3                  3.5           190394.0   0.00              NaN   \n",
       "4                  3.5               28.0   2.99              NaN   \n",
       "\n",
       "                                         Description  \\\n",
       "0  Join over 21,000,000 of our fans and download ...   \n",
       "1  The classic game of Reversi, also known as Oth...   \n",
       "2  Play the classic strategy game Othello (also k...   \n",
       "3  Top 100 free app for over a year.\\nRated \"Best...   \n",
       "4  \"Senet Deluxe - The Ancient Game of Life and A...   \n",
       "\n",
       "                  Developer Age Rating  \\\n",
       "0  Mighty Mighty Good Games         4+   \n",
       "1          Kiss The Machine         4+   \n",
       "2               Bayou Games         4+   \n",
       "3  Mighty Mighty Good Games         4+   \n",
       "4           RoGame Software         4+   \n",
       "\n",
       "                                           Languages        Size  \\\n",
       "0  DA, NL, EN, FI, FR, DE, IT, JA, KO, NB, PL, PT...  15853568.0   \n",
       "1                                                 EN  12328960.0   \n",
       "2                                                 EN    674816.0   \n",
       "3  DA, NL, EN, FI, FR, DE, IT, JA, KO, NB, PL, PT...  21552128.0   \n",
       "4  DA, NL, EN, FR, DE, EL, IT, JA, KO, NO, PT, RU...  34689024.0   \n",
       "\n",
       "  Primary Genre                             Genres Original Release Date  \\\n",
       "0         Games            Games, Strategy, Puzzle            11/07/2008   \n",
       "1         Games             Games, Strategy, Board            11/07/2008   \n",
       "2         Games             Games, Board, Strategy            11/07/2008   \n",
       "3         Games            Games, Strategy, Puzzle            23/07/2008   \n",
       "4         Games  Games, Strategy, Board, Education            18/07/2008   \n",
       "\n",
       "  Current Version Release Date  \n",
       "0                   30/05/2017  \n",
       "1                   17/05/2018  \n",
       "2                    5/09/2017  \n",
       "3                   30/05/2017  \n",
       "4                   22/07/2018  "
      ]
     },
     "execution_count": 12,
     "metadata": {},
     "output_type": "execute_result"
    }
   ],
   "source": [
    "#import data\n",
    "#downloaded .zip file from https://www.kaggle.com/tristan581/17k-apple-app-store-strategy-games/\n",
    "df = pd.read_csv(\"appstore_games.csv\")\n",
    "df.head()"
   ]
  },
  {
   "cell_type": "code",
   "execution_count": 13,
   "metadata": {},
   "outputs": [
    {
     "data": {
      "text/plain": [
       "4.5    0.378389\n",
       "4.0    0.227748\n",
       "5.0    0.130935\n",
       "3.5    0.122338\n",
       "3.0    0.067980\n",
       "2.5    0.041926\n",
       "2.0    0.020897\n",
       "1.5    0.007935\n",
       "1.0    0.001852\n",
       "Name: Average User Rating, dtype: float64"
      ]
     },
     "execution_count": 13,
     "metadata": {},
     "output_type": "execute_result"
    }
   ],
   "source": [
    "#looking at expected target data\n",
    "df[\"Average User Rating\"].value_counts(normalize=True)"
   ]
  },
  {
   "cell_type": "markdown",
   "metadata": {},
   "source": [
    "# Scrub"
   ]
  },
  {
   "cell_type": "code",
   "execution_count": 14,
   "metadata": {},
   "outputs": [
    {
     "name": "stdout",
     "output_type": "stream",
     "text": [
      "<class 'pandas.core.frame.DataFrame'>\n",
      "Int64Index: 7561 entries, 0 to 16993\n",
      "Data columns (total 18 columns):\n",
      "URL                             7561 non-null object\n",
      "ID                              7561 non-null int64\n",
      "Name                            7561 non-null object\n",
      "Subtitle                        2724 non-null object\n",
      "Icon URL                        7561 non-null object\n",
      "Average User Rating             7561 non-null float64\n",
      "User Rating Count               7561 non-null float64\n",
      "Price                           7561 non-null float64\n",
      "In-app Purchases                4634 non-null object\n",
      "Description                     7561 non-null object\n",
      "Developer                       7561 non-null object\n",
      "Age Rating                      7561 non-null object\n",
      "Languages                       7537 non-null object\n",
      "Size                            7561 non-null float64\n",
      "Primary Genre                   7561 non-null object\n",
      "Genres                          7561 non-null object\n",
      "Original Release Date           7561 non-null object\n",
      "Current Version Release Date    7561 non-null object\n",
      "dtypes: float64(4), int64(1), object(13)\n",
      "memory usage: 1.1+ MB\n"
     ]
    }
   ],
   "source": [
    " #dropping the rows which have a null value for Average User Rating (the target value)\n",
    "df.dropna(axis='index', subset=[\"Average User Rating\"], inplace=True)\n",
    "df.info()"
   ]
  },
  {
   "cell_type": "markdown",
   "metadata": {},
   "source": [
    "`Subtitle`, `In-app Purchases`, and `Languages` still have null values outstanding.  The records missing `Languages` are a small percentage, so I will drop them."
   ]
  },
  {
   "cell_type": "code",
   "execution_count": 15,
   "metadata": {},
   "outputs": [
    {
     "name": "stdout",
     "output_type": "stream",
     "text": [
      "Dropped 24 records that have null for Languages.\n",
      "<class 'pandas.core.frame.DataFrame'>\n",
      "Int64Index: 7537 entries, 0 to 16993\n",
      "Data columns (total 18 columns):\n",
      "URL                             7537 non-null object\n",
      "ID                              7537 non-null int64\n",
      "Name                            7537 non-null object\n",
      "Subtitle                        2714 non-null object\n",
      "Icon URL                        7537 non-null object\n",
      "Average User Rating             7537 non-null float64\n",
      "User Rating Count               7537 non-null float64\n",
      "Price                           7537 non-null float64\n",
      "In-app Purchases                4618 non-null object\n",
      "Description                     7537 non-null object\n",
      "Developer                       7537 non-null object\n",
      "Age Rating                      7537 non-null object\n",
      "Languages                       7537 non-null object\n",
      "Size                            7537 non-null float64\n",
      "Primary Genre                   7537 non-null object\n",
      "Genres                          7537 non-null object\n",
      "Original Release Date           7537 non-null object\n",
      "Current Version Release Date    7537 non-null object\n",
      "dtypes: float64(4), int64(1), object(13)\n",
      "memory usage: 1.1+ MB\n"
     ]
    }
   ],
   "source": [
    "print(f\"Dropped {7561-7537} records that have null for Languages.\")\n",
    "df.dropna(axis='index',subset=[\"Languages\"], inplace=True)\n",
    "df.info()"
   ]
  },
  {
   "cell_type": "code",
   "execution_count": 16,
   "metadata": {},
   "outputs": [],
   "source": [
    "#save df as .CSV for easy resuming later\n",
    "df.to_csv(\"files/data7537.csv\")"
   ]
  },
  {
   "cell_type": "markdown",
   "metadata": {},
   "source": [
    "# Exploratory Data Analysis\n",
    "\n",
    "Looking at the rest of the dataset to see what each is like:\n",
    "1. Text:\n",
    "    - Description\n",
    "    - Developer\n",
    "    - URL\n",
    "    - Icon URL\n",
    "    - Name\n",
    "2. Numeric\n",
    "    - ID\n",
    "    - Original Release Date\n",
    "    - Current Version Release Date\n",
    "3. Histograms:\n",
    "    - User Rating Count\n",
    "    - Price\n",
    "    - Size\n",
    "4. `value_count`'s\n",
    "    - Age Rating\n",
    "    - Primary Genre\n",
    "5. Dictionaries\n",
    "    - Genres\n",
    "    - In-app Purchases\n",
    "    - Languages"
   ]
  },
  {
   "cell_type": "code",
   "execution_count": 17,
   "metadata": {
    "scrolled": true
   },
   "outputs": [
    {
     "name": "stdout",
     "output_type": "stream",
     "text": [
      "URL 0 \n",
      " https://apps.apple.com/us/app/sudoku/id284921427\n",
      "URL 1 \n",
      " https://apps.apple.com/us/app/reversi/id284926400\n",
      "URL 2 \n",
      " https://apps.apple.com/us/app/morocco/id284946595\n",
      "Icon URL 0 \n",
      " https://is2-ssl.mzstatic.com/image/thumb/Purple127/v4/7d/23/c6/7d23c660-aba8-308a-05c0-19385a377c0e/source/512x512bb.jpg\n",
      "Icon URL 1 \n",
      " https://is4-ssl.mzstatic.com/image/thumb/Purple128/v4/f7/e8/10/f7e810c8-72b4-cd85-e2d3-fbcb1e3ef381/source/512x512bb.jpg\n",
      "Icon URL 2 \n",
      " https://is5-ssl.mzstatic.com/image/thumb/Purple118/v4/98/b2/41/98b241cc-29b7-5f67-0060-1e030f35562f/source/512x512bb.jpg\n",
      "Description 0 \n",
      " Join over 21,000,000 of our fans and download one of our Sudoku games today!\\n\\nMakers of the Best Sudoku Game of 2008, Sudoku (Free), we offer you the best selling Sudoku game for iPhone with great features and 1000 unique puzzles! \\n\\nSudoku will give you many hours of fun and puzzle solving. Enjoy the challenge of solving Sudoku puzzles whenever or wherever you are using your iPhone or iPod Touch. \\n\\nOPTIONS\\n\\nAll options are on by default, but you can turn them off in the Options menu\\n\\u2022 Show Incorrect :: Shows incorrect answers in red.  \\n\\u2022 Smart Buttons :: Disables the number button when that number is completed on the game board.   \\n\\u2022 Smart Notes :: Removes the number from the notes in the box, column, and row that contains the cell with your correct answer.\\n\\nFEATURES\\n\\n\\u2022 1000 unique handcrafted puzzles\\n\\u2022 ALL puzzles solvable WITHOUT guessing\\n\\u2022 Four different skill levels\\n\\u2022 Challenge a friend\\n\\u2022 Multiple color schemes\\n\\u2022 \"ALL notes\": tap the \"All notes\" button on to show all the possible answers for each square.  Tap the \"All notes\" button off to remove the notes.\\n\\u2022 Hints: shows the answer for the selected square or a random square when one is not selected\\n\\u2022 Pause the game at any time and resume where you left off\\n\\u2022 Best times, progress statistics, and much more\\n\\nDo you want more? Try one of our other versions of sudoku which have all the same great features!\\n* Try Color Sudoku for a fun twist to solving sudoku puzzles. \\n* For advanced puzzle solving, try Expert Sudoku to challenge your sudoku solving skills.\n",
      "Description 1 \n",
      " The classic game of Reversi, also known as Othello, is a much-loved strategy board game. It is often described as taking only a minute to learn but a lifetime to master. Each game only takes a few minutes, making it ideal for your iPhone or iPod Touch. It can be played by all ages. This continues to be one of the most sought-after versions of the game for the natural AI when playing against the CPU and the refreshing, crisp graphics.\\n\\nFEATURES:\\n\\n- One or two player mode\\n- Six levels of difficulty from beginner to guru\\n- Each level has its own style of play\\n- Strong computer opponent at higher levels\\n- Fast computer play!\\n- Option for suggestions to help improve your game play\\n- Four gorgeously styled boards\\n- Unlimited undo and redo\\n- Scoreboard\\n- Auto-save game in progress\\n- Can listen to your iPod whilst playing\\n\\n\"There are several free Reversi games in the app store, but none have the breadth of options or depth of AI of this paid version. AppCraver looks forward to seeing what developer Kiss The Machine comes up with next\" - www.appcraver.com\\n\\n\"For those who are serious about playing Reversi and want a serious AI challenge get this one\" - mrbass.org best iPhone and iPod Touch games\n",
      "Description 2 \n",
      " Play the classic strategy game Othello (also known as Reversi) on your iPhone or iPod Touch. The object is to finish the game with more of your pieces on the board than your opponent.\\n\\nFEATURES\\n\\n- Play against the iPhone or against another person.\\n- Three difficulty levels allow for casual play while still providing a challenge to experienced players.\\n- Option to show (or hide) the current legal moves. Very useful when learning to play.\\n- Option to turn on or off disc flipping animations. \\n- Automatically saves the game when you leave so you can pick it back up later.\n",
      "Developer 0 \n",
      " Mighty Mighty Good Games\n",
      "Developer 1 \n",
      " Kiss The Machine\n",
      "Developer 2 \n",
      " Bayou Games\n",
      "Name 0 \n",
      " Sudoku\n",
      "Name 1 \n",
      " Reversi\n",
      "Name 2 \n",
      " Morocco\n"
     ]
    }
   ],
   "source": [
    "#print in full: URL, Icon URL, Description, Developer, Name\n",
    "for each in [\"URL\",\"Icon URL\",\"Description\",\"Developer\",\"Name\"]:\n",
    "    for i in range(0,3):\n",
    "        print(each, i,\"\\n\", df.loc[i,each])"
   ]
  },
  {
   "cell_type": "markdown",
   "metadata": {},
   "source": [
    "Most of the columns with text would be best converted to a numerical or categorical representation, as the Natural Language Processing techniques required to explore the text data is beyond the scope of this project.  It is similarly beyond this project's scope to download and analyze all of the image files using the `Icon URL`.  The `URL` contains the same information already in `ID` and `Name` so that column is also unnecessary for this project. As each record presumably has a unique `ID` number, it could not be treated as a categorical variable and will not be useful for modeling."
   ]
  },
  {
   "cell_type": "code",
   "execution_count": 18,
   "metadata": {
    "scrolled": true
   },
   "outputs": [
    {
     "data": {
      "text/plain": [
       "Backgammon Unlimited                   2\n",
       "Tap The Egg And You Might Win          2\n",
       "WW2 TD Battlefield Heroes              2\n",
       "Rust Bucket                            2\n",
       "Sportimo                               2\n",
       "                                      ..\n",
       "Color Block Flow - Tricky Challenge    1\n",
       "Civil War: 1863                        1\n",
       "Solarmax2                              1\n",
       "Throne: Kingdom at War                 1\n",
       "Wicked Snow White                      1\n",
       "Name: Name, Length: 7464, dtype: int64"
      ]
     },
     "execution_count": 18,
     "metadata": {},
     "output_type": "execute_result"
    }
   ],
   "source": [
    "#checking to see if it might make sense to have Name be a function of frequency; if several are named Sudoku, for example\n",
    "df.Name.value_counts()"
   ]
  },
  {
   "cell_type": "markdown",
   "metadata": {},
   "source": [
    "Slightly more advanced Natural Language Processing techniques can categorize `Name`, `Developer`, `Subtitle` and `Description` to find all of the Sudoku games, for example, but in this project they will be reduced to simple functions of their lengths.\n",
    "\n",
    "No name (without any processing) appears more than twice, so the length of the String of `Name` will be the proxy for this feature in the modeling.  However, with a number of distinct names that appear more than once (such as \"Silde Me! - Jigsaw Puzzle Pro Ultimate edition\"), it looks as though the data has duplicate records.  A check of the `ID`, presumed to be unique, will confirm this suspicion."
   ]
  },
  {
   "cell_type": "code",
   "execution_count": 19,
   "metadata": {
    "scrolled": true
   },
   "outputs": [
    {
     "data": {
      "text/plain": [
       "642313308     2\n",
       "1042336481    2\n",
       "522314512     2\n",
       "1138713731    2\n",
       "961338039     2\n",
       "             ..\n",
       "1082667587    1\n",
       "1046825540    1\n",
       "1255031365    1\n",
       "1461475910    1\n",
       "955957248     1\n",
       "Name: ID, Length: 7464, dtype: int64"
      ]
     },
     "execution_count": 19,
     "metadata": {},
     "output_type": "execute_result"
    }
   ],
   "source": [
    "#seeing if the ID column also has several duplicates\n",
    "df.ID.value_counts()"
   ]
  },
  {
   "cell_type": "markdown",
   "metadata": {},
   "source": [
    "### Handling Duplicates of Names and ID's\n",
    "Filtering the records with the same `Name` and the same `ID` to see how similar the rest of the information is."
   ]
  },
  {
   "cell_type": "code",
   "execution_count": 20,
   "metadata": {},
   "outputs": [],
   "source": [
    "def listduplicates(indexedseries):\n",
    "    '''\n",
    "    It takes in a series, assumed to be from dataframe[\"column name\"].value_counts(), where its index is the value and \n",
    "    the corresponding number is the frequency of that value appearing in \"column name\".\n",
    "    \n",
    "    Args\n",
    "        indexedseries (pandas Series) : a series of integers with an index made up of the measured quantities/values\n",
    "    \n",
    "    Returns\n",
    "        serieslist (list) : a list of indexedseries index values that had corresponding integers greater than 1. If the \n",
    "                            indexedseries provided is directly from pandas value_counts() of a column, serieslist contains\n",
    "                            those original values from that column that appeared more than once.\n",
    "    '''\n",
    "    serieslist=[]\n",
    "    for value,count in zip(indexedseries.index,indexedseries):#count is an integer\n",
    "        if count>1:#if value appears more than once in series, count is greater than 1\n",
    "            serieslist.append(value)#adding the recurring item from series' index to a list\n",
    "    return serieslist"
   ]
  },
  {
   "cell_type": "code",
   "execution_count": 21,
   "metadata": {},
   "outputs": [
    {
     "data": {
      "text/plain": [
       "[642313308, 1042336481, 522314512, 1138713731, 961338039]"
      ]
     },
     "execution_count": 21,
     "metadata": {},
     "output_type": "execute_result"
    }
   ],
   "source": [
    "#looking at the first five ID's that appear twice\n",
    "idvals = listduplicates(df.ID.value_counts())\n",
    "idvals[:5]"
   ]
  },
  {
   "cell_type": "code",
   "execution_count": 22,
   "metadata": {},
   "outputs": [],
   "source": [
    "#getting a list of the app names that appear more than once\n",
    "samenames = listduplicates(df.Name.value_counts())"
   ]
  },
  {
   "cell_type": "code",
   "execution_count": 23,
   "metadata": {},
   "outputs": [
    {
     "data": {
      "text/html": [
       "<div>\n",
       "<style scoped>\n",
       "    .dataframe tbody tr th:only-of-type {\n",
       "        vertical-align: middle;\n",
       "    }\n",
       "\n",
       "    .dataframe tbody tr th {\n",
       "        vertical-align: top;\n",
       "    }\n",
       "\n",
       "    .dataframe thead th {\n",
       "        text-align: right;\n",
       "    }\n",
       "</style>\n",
       "<table border=\"1\" class=\"dataframe\">\n",
       "  <thead>\n",
       "    <tr style=\"text-align: right;\">\n",
       "      <th></th>\n",
       "      <th>URL</th>\n",
       "      <th>ID</th>\n",
       "      <th>Name</th>\n",
       "      <th>Subtitle</th>\n",
       "      <th>Icon URL</th>\n",
       "      <th>Average User Rating</th>\n",
       "      <th>User Rating Count</th>\n",
       "      <th>Price</th>\n",
       "      <th>In-app Purchases</th>\n",
       "      <th>Description</th>\n",
       "      <th>Developer</th>\n",
       "      <th>Age Rating</th>\n",
       "      <th>Languages</th>\n",
       "      <th>Size</th>\n",
       "      <th>Primary Genre</th>\n",
       "      <th>Genres</th>\n",
       "      <th>Original Release Date</th>\n",
       "      <th>Current Version Release Date</th>\n",
       "    </tr>\n",
       "  </thead>\n",
       "  <tbody>\n",
       "    <tr>\n",
       "      <td>15</td>\n",
       "      <td>https://apps.apple.com/us/app/awele-oware-manc...</td>\n",
       "      <td>289217958</td>\n",
       "      <td>Awele/Oware - Mancala HD</td>\n",
       "      <td>NaN</td>\n",
       "      <td>https://is3-ssl.mzstatic.com/image/thumb/Purpl...</td>\n",
       "      <td>3.0</td>\n",
       "      <td>112.0</td>\n",
       "      <td>0.0</td>\n",
       "      <td>0.99</td>\n",
       "      <td>Awele/Oware is the oldest African board game a...</td>\n",
       "      <td>SOLILAB</td>\n",
       "      <td>4+</td>\n",
       "      <td>EN, FR, DE, IT, ES</td>\n",
       "      <td>122826752.0</td>\n",
       "      <td>Games</td>\n",
       "      <td>Games, Strategy, Board</td>\n",
       "      <td>31/08/2008</td>\n",
       "      <td>6/04/2015</td>\n",
       "    </tr>\n",
       "    <tr>\n",
       "      <td>16</td>\n",
       "      <td>https://apps.apple.com/us/app/awele-oware-manc...</td>\n",
       "      <td>289217958</td>\n",
       "      <td>Awele/Oware - Mancala HD</td>\n",
       "      <td>NaN</td>\n",
       "      <td>https://is3-ssl.mzstatic.com/image/thumb/Purpl...</td>\n",
       "      <td>3.0</td>\n",
       "      <td>112.0</td>\n",
       "      <td>0.0</td>\n",
       "      <td>0.99</td>\n",
       "      <td>Awele/Oware is the oldest African board game a...</td>\n",
       "      <td>SOLILAB</td>\n",
       "      <td>4+</td>\n",
       "      <td>EN, FR, DE, IT, ES</td>\n",
       "      <td>122826752.0</td>\n",
       "      <td>Games</td>\n",
       "      <td>Games, Strategy, Board</td>\n",
       "      <td>31/08/2008</td>\n",
       "      <td>6/04/2015</td>\n",
       "    </tr>\n",
       "    <tr>\n",
       "      <td>123</td>\n",
       "      <td>https://apps.apple.com/us/app/checkers/id32102...</td>\n",
       "      <td>321026028</td>\n",
       "      <td>Checkers</td>\n",
       "      <td>Checkers (Draughts) &amp; puzzles.</td>\n",
       "      <td>https://is3-ssl.mzstatic.com/image/thumb/Purpl...</td>\n",
       "      <td>4.5</td>\n",
       "      <td>36581.0</td>\n",
       "      <td>0.0</td>\n",
       "      <td>NaN</td>\n",
       "      <td>Checkers (also called \"Draughts\") is challengi...</td>\n",
       "      <td>Vintolo Ltd</td>\n",
       "      <td>4+</td>\n",
       "      <td>EN</td>\n",
       "      <td>69393408.0</td>\n",
       "      <td>Games</td>\n",
       "      <td>Games, Entertainment, Board, Strategy</td>\n",
       "      <td>4/07/2009</td>\n",
       "      <td>14/06/2019</td>\n",
       "    </tr>\n",
       "    <tr>\n",
       "      <td>124</td>\n",
       "      <td>https://apps.apple.com/us/app/checkers/id32102...</td>\n",
       "      <td>321026028</td>\n",
       "      <td>Checkers</td>\n",
       "      <td>Checkers (Draughts) &amp; puzzles.</td>\n",
       "      <td>https://is3-ssl.mzstatic.com/image/thumb/Purpl...</td>\n",
       "      <td>4.5</td>\n",
       "      <td>36581.0</td>\n",
       "      <td>0.0</td>\n",
       "      <td>NaN</td>\n",
       "      <td>Checkers (also called \"Draughts\") is challengi...</td>\n",
       "      <td>Vintolo Ltd</td>\n",
       "      <td>4+</td>\n",
       "      <td>EN</td>\n",
       "      <td>69393408.0</td>\n",
       "      <td>Games</td>\n",
       "      <td>Games, Entertainment, Board, Strategy</td>\n",
       "      <td>4/07/2009</td>\n",
       "      <td>14/06/2019</td>\n",
       "    </tr>\n",
       "    <tr>\n",
       "      <td>234</td>\n",
       "      <td>https://apps.apple.com/us/app/bungee-stickmen-...</td>\n",
       "      <td>348741265</td>\n",
       "      <td>Bungee Stickmen - Australian Landmarks {LITE +}</td>\n",
       "      <td>NaN</td>\n",
       "      <td>https://is5-ssl.mzstatic.com/image/thumb/Purpl...</td>\n",
       "      <td>3.0</td>\n",
       "      <td>1229.0</td>\n",
       "      <td>0.0</td>\n",
       "      <td>37.99, 199.99, 0.99</td>\n",
       "      <td>\\u2588 Have hours of fun doing 180 jumps in th...</td>\n",
       "      <td>Poulet Maison Ptd Ltd</td>\n",
       "      <td>12+</td>\n",
       "      <td>ZH, EN, FR, DE, IT, JA, ES</td>\n",
       "      <td>10781853.0</td>\n",
       "      <td>Medical</td>\n",
       "      <td>Medical, Adventure, Strategy, Games</td>\n",
       "      <td>13/01/2010</td>\n",
       "      <td>27/02/2010</td>\n",
       "    </tr>\n",
       "  </tbody>\n",
       "</table>\n",
       "</div>"
      ],
      "text/plain": [
       "                                                   URL         ID  \\\n",
       "15   https://apps.apple.com/us/app/awele-oware-manc...  289217958   \n",
       "16   https://apps.apple.com/us/app/awele-oware-manc...  289217958   \n",
       "123  https://apps.apple.com/us/app/checkers/id32102...  321026028   \n",
       "124  https://apps.apple.com/us/app/checkers/id32102...  321026028   \n",
       "234  https://apps.apple.com/us/app/bungee-stickmen-...  348741265   \n",
       "\n",
       "                                                Name  \\\n",
       "15                          Awele/Oware - Mancala HD   \n",
       "16                          Awele/Oware - Mancala HD   \n",
       "123                                         Checkers   \n",
       "124                                         Checkers   \n",
       "234  Bungee Stickmen - Australian Landmarks {LITE +}   \n",
       "\n",
       "                           Subtitle  \\\n",
       "15                              NaN   \n",
       "16                              NaN   \n",
       "123  Checkers (Draughts) & puzzles.   \n",
       "124  Checkers (Draughts) & puzzles.   \n",
       "234                             NaN   \n",
       "\n",
       "                                              Icon URL  Average User Rating  \\\n",
       "15   https://is3-ssl.mzstatic.com/image/thumb/Purpl...                  3.0   \n",
       "16   https://is3-ssl.mzstatic.com/image/thumb/Purpl...                  3.0   \n",
       "123  https://is3-ssl.mzstatic.com/image/thumb/Purpl...                  4.5   \n",
       "124  https://is3-ssl.mzstatic.com/image/thumb/Purpl...                  4.5   \n",
       "234  https://is5-ssl.mzstatic.com/image/thumb/Purpl...                  3.0   \n",
       "\n",
       "     User Rating Count  Price     In-app Purchases  \\\n",
       "15               112.0    0.0                 0.99   \n",
       "16               112.0    0.0                 0.99   \n",
       "123            36581.0    0.0                  NaN   \n",
       "124            36581.0    0.0                  NaN   \n",
       "234             1229.0    0.0  37.99, 199.99, 0.99   \n",
       "\n",
       "                                           Description              Developer  \\\n",
       "15   Awele/Oware is the oldest African board game a...                SOLILAB   \n",
       "16   Awele/Oware is the oldest African board game a...                SOLILAB   \n",
       "123  Checkers (also called \"Draughts\") is challengi...            Vintolo Ltd   \n",
       "124  Checkers (also called \"Draughts\") is challengi...            Vintolo Ltd   \n",
       "234  \\u2588 Have hours of fun doing 180 jumps in th...  Poulet Maison Ptd Ltd   \n",
       "\n",
       "    Age Rating                   Languages         Size Primary Genre  \\\n",
       "15          4+          EN, FR, DE, IT, ES  122826752.0         Games   \n",
       "16          4+          EN, FR, DE, IT, ES  122826752.0         Games   \n",
       "123         4+                          EN   69393408.0         Games   \n",
       "124         4+                          EN   69393408.0         Games   \n",
       "234        12+  ZH, EN, FR, DE, IT, JA, ES   10781853.0       Medical   \n",
       "\n",
       "                                    Genres Original Release Date  \\\n",
       "15                  Games, Strategy, Board            31/08/2008   \n",
       "16                  Games, Strategy, Board            31/08/2008   \n",
       "123  Games, Entertainment, Board, Strategy             4/07/2009   \n",
       "124  Games, Entertainment, Board, Strategy             4/07/2009   \n",
       "234    Medical, Adventure, Strategy, Games            13/01/2010   \n",
       "\n",
       "    Current Version Release Date  \n",
       "15                     6/04/2015  \n",
       "16                     6/04/2015  \n",
       "123                   14/06/2019  \n",
       "124                   14/06/2019  \n",
       "234                   27/02/2010  "
      ]
     },
     "execution_count": 23,
     "metadata": {},
     "output_type": "execute_result"
    }
   ],
   "source": [
    "#creating a dataframe by filtering for the records with app names that appear more than once\n",
    "namedf = df[df[\"Name\"].isin(samenames)]\n",
    "namedf.head()"
   ]
  },
  {
   "cell_type": "code",
   "execution_count": 24,
   "metadata": {
    "scrolled": true
   },
   "outputs": [
    {
     "data": {
      "text/plain": [
       "1367755773    2\n",
       "944393348     2\n",
       "1269916759    2\n",
       "1308856791    2\n",
       "1236846171    2\n",
       "             ..\n",
       "1015000630    2\n",
       "1292539617    2\n",
       "961338039     2\n",
       "1270821305    2\n",
       "1058245379    2\n",
       "Name: ID, Length: 73, dtype: int64"
      ]
     },
     "execution_count": 24,
     "metadata": {},
     "output_type": "execute_result"
    }
   ],
   "source": [
    "#check to see whether every record in the dataframe based on duplicate names has a double for ID as well\n",
    "namedf.ID.value_counts()"
   ]
  },
  {
   "cell_type": "code",
   "execution_count": 25,
   "metadata": {},
   "outputs": [
    {
     "data": {
      "text/plain": [
       "Sport Car Driving: City Advent                     2\n",
       "Dice 50                                            2\n",
       "Battle On The Sea for iPad                         2\n",
       "KillZ - idle clicker rpg                           2\n",
       "Fort Sumter: Secession Crisis                      2\n",
       "                                                  ..\n",
       "DayD Tower Rush HD                                 2\n",
       "\"Papa's Scooperia To Go!\"                          2\n",
       "Happy Chef 2                                       2\n",
       "Expert Plumber Puzzle - Fix The Pipe-line Crack    2\n",
       "Repair The Bridge Mania Lite                       2\n",
       "Name: Name, Length: 73, dtype: int64"
      ]
     },
     "execution_count": 25,
     "metadata": {},
     "output_type": "execute_result"
    }
   ],
   "source": [
    "#create dataframe based on ID duplicates\n",
    "idendf = df[df[\"ID\"].isin(idvals)]\n",
    "#look at the app names for whether they also appear more than once\n",
    "idendf.Name.value_counts()"
   ]
  },
  {
   "cell_type": "markdown",
   "metadata": {},
   "source": [
    "Similarly to `namedf`, it appears that all records in `idendf` are twins."
   ]
  },
  {
   "cell_type": "code",
   "execution_count": 26,
   "metadata": {},
   "outputs": [
    {
     "data": {
      "text/html": [
       "<div>\n",
       "<style scoped>\n",
       "    .dataframe tbody tr th:only-of-type {\n",
       "        vertical-align: middle;\n",
       "    }\n",
       "\n",
       "    .dataframe tbody tr th {\n",
       "        vertical-align: top;\n",
       "    }\n",
       "\n",
       "    .dataframe thead th {\n",
       "        text-align: right;\n",
       "    }\n",
       "</style>\n",
       "<table border=\"1\" class=\"dataframe\">\n",
       "  <thead>\n",
       "    <tr style=\"text-align: right;\">\n",
       "      <th></th>\n",
       "      <th>URL</th>\n",
       "      <th>ID</th>\n",
       "      <th>Name</th>\n",
       "      <th>Subtitle</th>\n",
       "      <th>Icon URL</th>\n",
       "      <th>Average User Rating</th>\n",
       "      <th>User Rating Count</th>\n",
       "      <th>Price</th>\n",
       "      <th>In-app Purchases</th>\n",
       "      <th>Description</th>\n",
       "      <th>Developer</th>\n",
       "      <th>Age Rating</th>\n",
       "      <th>Languages</th>\n",
       "      <th>Size</th>\n",
       "      <th>Primary Genre</th>\n",
       "      <th>Genres</th>\n",
       "      <th>Original Release Date</th>\n",
       "      <th>Current Version Release Date</th>\n",
       "    </tr>\n",
       "  </thead>\n",
       "  <tbody>\n",
       "    <tr>\n",
       "      <td>15</td>\n",
       "      <td>https://apps.apple.com/us/app/awele-oware-manc...</td>\n",
       "      <td>289217958</td>\n",
       "      <td>Awele/Oware - Mancala HD</td>\n",
       "      <td>NaN</td>\n",
       "      <td>https://is3-ssl.mzstatic.com/image/thumb/Purpl...</td>\n",
       "      <td>3.0</td>\n",
       "      <td>112.0</td>\n",
       "      <td>0.0</td>\n",
       "      <td>0.99</td>\n",
       "      <td>Awele/Oware is the oldest African board game a...</td>\n",
       "      <td>SOLILAB</td>\n",
       "      <td>4+</td>\n",
       "      <td>EN, FR, DE, IT, ES</td>\n",
       "      <td>122826752.0</td>\n",
       "      <td>Games</td>\n",
       "      <td>Games, Strategy, Board</td>\n",
       "      <td>31/08/2008</td>\n",
       "      <td>6/04/2015</td>\n",
       "    </tr>\n",
       "    <tr>\n",
       "      <td>16</td>\n",
       "      <td>https://apps.apple.com/us/app/awele-oware-manc...</td>\n",
       "      <td>289217958</td>\n",
       "      <td>Awele/Oware - Mancala HD</td>\n",
       "      <td>NaN</td>\n",
       "      <td>https://is3-ssl.mzstatic.com/image/thumb/Purpl...</td>\n",
       "      <td>3.0</td>\n",
       "      <td>112.0</td>\n",
       "      <td>0.0</td>\n",
       "      <td>0.99</td>\n",
       "      <td>Awele/Oware is the oldest African board game a...</td>\n",
       "      <td>SOLILAB</td>\n",
       "      <td>4+</td>\n",
       "      <td>EN, FR, DE, IT, ES</td>\n",
       "      <td>122826752.0</td>\n",
       "      <td>Games</td>\n",
       "      <td>Games, Strategy, Board</td>\n",
       "      <td>31/08/2008</td>\n",
       "      <td>6/04/2015</td>\n",
       "    </tr>\n",
       "    <tr>\n",
       "      <td>123</td>\n",
       "      <td>https://apps.apple.com/us/app/checkers/id32102...</td>\n",
       "      <td>321026028</td>\n",
       "      <td>Checkers</td>\n",
       "      <td>Checkers (Draughts) &amp; puzzles.</td>\n",
       "      <td>https://is3-ssl.mzstatic.com/image/thumb/Purpl...</td>\n",
       "      <td>4.5</td>\n",
       "      <td>36581.0</td>\n",
       "      <td>0.0</td>\n",
       "      <td>NaN</td>\n",
       "      <td>Checkers (also called \"Draughts\") is challengi...</td>\n",
       "      <td>Vintolo Ltd</td>\n",
       "      <td>4+</td>\n",
       "      <td>EN</td>\n",
       "      <td>69393408.0</td>\n",
       "      <td>Games</td>\n",
       "      <td>Games, Entertainment, Board, Strategy</td>\n",
       "      <td>4/07/2009</td>\n",
       "      <td>14/06/2019</td>\n",
       "    </tr>\n",
       "    <tr>\n",
       "      <td>124</td>\n",
       "      <td>https://apps.apple.com/us/app/checkers/id32102...</td>\n",
       "      <td>321026028</td>\n",
       "      <td>Checkers</td>\n",
       "      <td>Checkers (Draughts) &amp; puzzles.</td>\n",
       "      <td>https://is3-ssl.mzstatic.com/image/thumb/Purpl...</td>\n",
       "      <td>4.5</td>\n",
       "      <td>36581.0</td>\n",
       "      <td>0.0</td>\n",
       "      <td>NaN</td>\n",
       "      <td>Checkers (also called \"Draughts\") is challengi...</td>\n",
       "      <td>Vintolo Ltd</td>\n",
       "      <td>4+</td>\n",
       "      <td>EN</td>\n",
       "      <td>69393408.0</td>\n",
       "      <td>Games</td>\n",
       "      <td>Games, Entertainment, Board, Strategy</td>\n",
       "      <td>4/07/2009</td>\n",
       "      <td>14/06/2019</td>\n",
       "    </tr>\n",
       "    <tr>\n",
       "      <td>234</td>\n",
       "      <td>https://apps.apple.com/us/app/bungee-stickmen-...</td>\n",
       "      <td>348741265</td>\n",
       "      <td>Bungee Stickmen - Australian Landmarks {LITE +}</td>\n",
       "      <td>NaN</td>\n",
       "      <td>https://is5-ssl.mzstatic.com/image/thumb/Purpl...</td>\n",
       "      <td>3.0</td>\n",
       "      <td>1229.0</td>\n",
       "      <td>0.0</td>\n",
       "      <td>37.99, 199.99, 0.99</td>\n",
       "      <td>\\u2588 Have hours of fun doing 180 jumps in th...</td>\n",
       "      <td>Poulet Maison Ptd Ltd</td>\n",
       "      <td>12+</td>\n",
       "      <td>ZH, EN, FR, DE, IT, JA, ES</td>\n",
       "      <td>10781853.0</td>\n",
       "      <td>Medical</td>\n",
       "      <td>Medical, Adventure, Strategy, Games</td>\n",
       "      <td>13/01/2010</td>\n",
       "      <td>27/02/2010</td>\n",
       "    </tr>\n",
       "    <tr>\n",
       "      <td>235</td>\n",
       "      <td>https://apps.apple.com/us/app/bungee-stickmen-...</td>\n",
       "      <td>348741265</td>\n",
       "      <td>Bungee Stickmen - Australian Landmarks {LITE +}</td>\n",
       "      <td>NaN</td>\n",
       "      <td>https://is5-ssl.mzstatic.com/image/thumb/Purpl...</td>\n",
       "      <td>3.0</td>\n",
       "      <td>1229.0</td>\n",
       "      <td>0.0</td>\n",
       "      <td>37.99, 199.99, 0.99</td>\n",
       "      <td>\\u2588 Have hours of fun doing 180 jumps in th...</td>\n",
       "      <td>Poulet Maison Ptd Ltd</td>\n",
       "      <td>12+</td>\n",
       "      <td>ZH, EN, FR, DE, IT, JA, ES</td>\n",
       "      <td>10781853.0</td>\n",
       "      <td>Medical</td>\n",
       "      <td>Medical, Adventure, Strategy, Games</td>\n",
       "      <td>13/01/2010</td>\n",
       "      <td>27/02/2010</td>\n",
       "    </tr>\n",
       "  </tbody>\n",
       "</table>\n",
       "</div>"
      ],
      "text/plain": [
       "                                                   URL         ID  \\\n",
       "15   https://apps.apple.com/us/app/awele-oware-manc...  289217958   \n",
       "16   https://apps.apple.com/us/app/awele-oware-manc...  289217958   \n",
       "123  https://apps.apple.com/us/app/checkers/id32102...  321026028   \n",
       "124  https://apps.apple.com/us/app/checkers/id32102...  321026028   \n",
       "234  https://apps.apple.com/us/app/bungee-stickmen-...  348741265   \n",
       "235  https://apps.apple.com/us/app/bungee-stickmen-...  348741265   \n",
       "\n",
       "                                                Name  \\\n",
       "15                          Awele/Oware - Mancala HD   \n",
       "16                          Awele/Oware - Mancala HD   \n",
       "123                                         Checkers   \n",
       "124                                         Checkers   \n",
       "234  Bungee Stickmen - Australian Landmarks {LITE +}   \n",
       "235  Bungee Stickmen - Australian Landmarks {LITE +}   \n",
       "\n",
       "                           Subtitle  \\\n",
       "15                              NaN   \n",
       "16                              NaN   \n",
       "123  Checkers (Draughts) & puzzles.   \n",
       "124  Checkers (Draughts) & puzzles.   \n",
       "234                             NaN   \n",
       "235                             NaN   \n",
       "\n",
       "                                              Icon URL  Average User Rating  \\\n",
       "15   https://is3-ssl.mzstatic.com/image/thumb/Purpl...                  3.0   \n",
       "16   https://is3-ssl.mzstatic.com/image/thumb/Purpl...                  3.0   \n",
       "123  https://is3-ssl.mzstatic.com/image/thumb/Purpl...                  4.5   \n",
       "124  https://is3-ssl.mzstatic.com/image/thumb/Purpl...                  4.5   \n",
       "234  https://is5-ssl.mzstatic.com/image/thumb/Purpl...                  3.0   \n",
       "235  https://is5-ssl.mzstatic.com/image/thumb/Purpl...                  3.0   \n",
       "\n",
       "     User Rating Count  Price     In-app Purchases  \\\n",
       "15               112.0    0.0                 0.99   \n",
       "16               112.0    0.0                 0.99   \n",
       "123            36581.0    0.0                  NaN   \n",
       "124            36581.0    0.0                  NaN   \n",
       "234             1229.0    0.0  37.99, 199.99, 0.99   \n",
       "235             1229.0    0.0  37.99, 199.99, 0.99   \n",
       "\n",
       "                                           Description              Developer  \\\n",
       "15   Awele/Oware is the oldest African board game a...                SOLILAB   \n",
       "16   Awele/Oware is the oldest African board game a...                SOLILAB   \n",
       "123  Checkers (also called \"Draughts\") is challengi...            Vintolo Ltd   \n",
       "124  Checkers (also called \"Draughts\") is challengi...            Vintolo Ltd   \n",
       "234  \\u2588 Have hours of fun doing 180 jumps in th...  Poulet Maison Ptd Ltd   \n",
       "235  \\u2588 Have hours of fun doing 180 jumps in th...  Poulet Maison Ptd Ltd   \n",
       "\n",
       "    Age Rating                   Languages         Size Primary Genre  \\\n",
       "15          4+          EN, FR, DE, IT, ES  122826752.0         Games   \n",
       "16          4+          EN, FR, DE, IT, ES  122826752.0         Games   \n",
       "123         4+                          EN   69393408.0         Games   \n",
       "124         4+                          EN   69393408.0         Games   \n",
       "234        12+  ZH, EN, FR, DE, IT, JA, ES   10781853.0       Medical   \n",
       "235        12+  ZH, EN, FR, DE, IT, JA, ES   10781853.0       Medical   \n",
       "\n",
       "                                    Genres Original Release Date  \\\n",
       "15                  Games, Strategy, Board            31/08/2008   \n",
       "16                  Games, Strategy, Board            31/08/2008   \n",
       "123  Games, Entertainment, Board, Strategy             4/07/2009   \n",
       "124  Games, Entertainment, Board, Strategy             4/07/2009   \n",
       "234    Medical, Adventure, Strategy, Games            13/01/2010   \n",
       "235    Medical, Adventure, Strategy, Games            13/01/2010   \n",
       "\n",
       "    Current Version Release Date  \n",
       "15                     6/04/2015  \n",
       "16                     6/04/2015  \n",
       "123                   14/06/2019  \n",
       "124                   14/06/2019  \n",
       "234                   27/02/2010  \n",
       "235                   27/02/2010  "
      ]
     },
     "execution_count": 26,
     "metadata": {},
     "output_type": "execute_result"
    }
   ],
   "source": [
    "#looking at an example to see whether other variables are the same and what the frame looks like\n",
    "idendf.head(6)"
   ]
  },
  {
   "cell_type": "markdown",
   "metadata": {},
   "source": [
    "The first two records of `idendf` are identical from the information displayed.  Next, the merging of the `idendf` and the `namedf` on the `ID` column."
   ]
  },
  {
   "cell_type": "code",
   "execution_count": 27,
   "metadata": {},
   "outputs": [],
   "source": [
    "#joining the dataframes idendf and namedf, where ID is the same\n",
    "doubledf = pd.merge(idendf, namedf, on='ID', how='outer')"
   ]
  },
  {
   "cell_type": "code",
   "execution_count": 28,
   "metadata": {
    "scrolled": true
   },
   "outputs": [
    {
     "data": {
      "text/plain": [
       "URL_x                               0\n",
       "ID                                  0\n",
       "Name_x                              0\n",
       "Subtitle_x                        192\n",
       "Icon URL_x                          0\n",
       "Average User Rating_x               0\n",
       "User Rating Count_x                 0\n",
       "Price_x                             0\n",
       "In-app Purchases_x                112\n",
       "Description_x                       0\n",
       "Developer_x                         0\n",
       "Age Rating_x                        0\n",
       "Languages_x                         0\n",
       "Size_x                              0\n",
       "Primary Genre_x                     0\n",
       "Genres_x                            0\n",
       "Original Release Date_x             0\n",
       "Current Version Release Date_x      0\n",
       "URL_y                               0\n",
       "Name_y                              0\n",
       "Subtitle_y                        192\n",
       "Icon URL_y                          0\n",
       "Average User Rating_y               0\n",
       "User Rating Count_y                 0\n",
       "Price_y                             0\n",
       "In-app Purchases_y                112\n",
       "Description_y                       0\n",
       "Developer_y                         0\n",
       "Age Rating_y                        0\n",
       "Languages_y                         0\n",
       "Size_y                              0\n",
       "Primary Genre_y                     0\n",
       "Genres_y                            0\n",
       "Original Release Date_y             0\n",
       "Current Version Release Date_y      0\n",
       "dtype: int64"
      ]
     },
     "execution_count": 28,
     "metadata": {},
     "output_type": "execute_result"
    }
   ],
   "source": [
    "#checking for null values, which would indicate where one dataframe had a record that the other did not\n",
    "doubledf.isna().sum()"
   ]
  },
  {
   "cell_type": "markdown",
   "metadata": {},
   "source": [
    "The 'outer' merge just performed would put null values for records that had an `ID` in one dataframe and not the other. The merged dataframe `doubledf` has null values in only four columns and all columns of `_x` or `_y` would need at least one null value to indicate at least one record did not match. Since this shows there are no entire records in `_x` columns or `_y` columns with null values, the two dataframes `namedf` and `idendf` contain only records with the same `ID`'s.\n",
    "\n",
    "In addition, the merged dataframe indicates `idendf` and `namedf` have the same number of null values in the same columns (`Subtitle` and `In-app Purchases`).  Below, there's a comparison of the shapes of all three dataframes to check the math."
   ]
  },
  {
   "cell_type": "code",
   "execution_count": 29,
   "metadata": {},
   "outputs": [
    {
     "name": "stdout",
     "output_type": "stream",
     "text": [
      "(292, 35)\n",
      "(146, 18)\n",
      "(146, 18)\n"
     ]
    }
   ],
   "source": [
    "#compare number of rows and columns in each dataframe\n",
    "for frame in [doubledf,namedf,idendf]:\n",
    "    print(frame.shape)"
   ]
  },
  {
   "cell_type": "markdown",
   "metadata": {},
   "source": [
    "$18+18$ adds to $36$, but since the dataframes were merged on the `ID` column, there would be $35$ columns in the combined `doubledf`.  Also, the merge doubled the rows so as to include all records from the `ID` column of each ($146+146=292$).\n",
    "\n",
    "Since the records are the same, I could use either a duplicate's `Name` or `ID` to remove one copy of each duplicate record from `df`."
   ]
  },
  {
   "cell_type": "code",
   "execution_count": 30,
   "metadata": {},
   "outputs": [
    {
     "name": "stdout",
     "output_type": "stream",
     "text": [
      "(146, 18)\n",
      "The code will remove 73.0 records from the 7537 total, resulting in 7464 records.\n"
     ]
    }
   ],
   "source": [
    "print(idendf.shape)\n",
    "print(f\"The code will remove {idendf.shape[0]/2} records from the {df.shape[0]} total, resulting in {7537-73} records.\")"
   ]
  },
  {
   "cell_type": "code",
   "execution_count": 31,
   "metadata": {},
   "outputs": [],
   "source": [
    "#remove records from dataframe, using idendf's index to match appropriate rows, as the index has not been reset\n",
    "#and it still matches up with the original index from df\n",
    "duplindices=[]\n",
    "for n, i in enumerate(idendf.index):\n",
    "    if n%2 != 0:#gets every other index from idendf since each record neighbors its duplicate\n",
    "        duplindices.append(i)#adds the index to list to be dropped\n",
    "#new dataframe without every other index of the duplicates\n",
    "edadf = df.drop(index=duplindices)"
   ]
  },
  {
   "cell_type": "code",
   "execution_count": 32,
   "metadata": {},
   "outputs": [
    {
     "name": "stdout",
     "output_type": "stream",
     "text": [
      "Duplicate ID count for EDA dataframe: 0\n"
     ]
    }
   ],
   "source": [
    "#find how many ID's appear more than once\n",
    "edadfids = listduplicates(edadf.ID.value_counts())\n",
    "print(f\"Duplicate ID count for EDA dataframe: {len(edadfids)}\")"
   ]
  },
  {
   "cell_type": "code",
   "execution_count": 33,
   "metadata": {},
   "outputs": [
    {
     "data": {
      "text/plain": [
       "(7464, 18)"
      ]
     },
     "execution_count": 33,
     "metadata": {},
     "output_type": "execute_result"
    }
   ],
   "source": [
    "edadf.shape"
   ]
  },
  {
   "cell_type": "code",
   "execution_count": 34,
   "metadata": {},
   "outputs": [],
   "source": [
    "#save edadf as CSV to resume later\n",
    "edadf.to_csv(\"files/data7464.csv\")"
   ]
  },
  {
   "cell_type": "code",
   "execution_count": 35,
   "metadata": {
    "scrolled": true
   },
   "outputs": [
    {
     "name": "stdout",
     "output_type": "stream",
     "text": [
      "<class 'pandas.core.frame.DataFrame'>\n",
      "Int64Index: 7464 entries, 0 to 16993\n",
      "Data columns (total 18 columns):\n",
      "URL                             7464 non-null object\n",
      "ID                              7464 non-null int64\n",
      "Name                            7464 non-null object\n",
      "Subtitle                        2689 non-null object\n",
      "Icon URL                        7464 non-null object\n",
      "Average User Rating             7464 non-null float64\n",
      "User Rating Count               7464 non-null float64\n",
      "Price                           7464 non-null float64\n",
      "In-app Purchases                4573 non-null object\n",
      "Description                     7464 non-null object\n",
      "Developer                       7464 non-null object\n",
      "Age Rating                      7464 non-null object\n",
      "Languages                       7464 non-null object\n",
      "Size                            7464 non-null float64\n",
      "Primary Genre                   7464 non-null object\n",
      "Genres                          7464 non-null object\n",
      "Original Release Date           7464 non-null object\n",
      "Current Version Release Date    7464 non-null object\n",
      "dtypes: float64(4), int64(1), object(13)\n",
      "memory usage: 1.1+ MB\n"
     ]
    }
   ],
   "source": [
    "edadf = getData(\"files/data7464.csv\")\n",
    "#checking the dataframe is read in as expected\n",
    "edadf.info()"
   ]
  },
  {
   "cell_type": "markdown",
   "metadata": {},
   "source": [
    "### Continuing with Name EDA"
   ]
  },
  {
   "cell_type": "code",
   "execution_count": 36,
   "metadata": {},
   "outputs": [
    {
     "data": {
      "text/plain": [
       "0                             Sudoku\n",
       "1                            Reversi\n",
       "2                            Morocco\n",
       "3                      Sudoku (Free)\n",
       "4                       Senet Deluxe\n",
       "5     Sudoku - Classic number puzzle\n",
       "7                             Colony\n",
       "8                              Carte\n",
       "9                   \"Barrels O' Fun\"\n",
       "11                        Lumen Lite\n",
       "Name: Name, dtype: object"
      ]
     },
     "execution_count": 36,
     "metadata": {},
     "output_type": "execute_result"
    }
   ],
   "source": [
    "edadf.Name.head(10)"
   ]
  },
  {
   "cell_type": "markdown",
   "metadata": {},
   "source": [
    "The number of characters in the title will become a numerical proxy for the Name variable."
   ]
  },
  {
   "cell_type": "code",
   "execution_count": 37,
   "metadata": {},
   "outputs": [
    {
     "data": {
      "text/html": [
       "<div>\n",
       "<style scoped>\n",
       "    .dataframe tbody tr th:only-of-type {\n",
       "        vertical-align: middle;\n",
       "    }\n",
       "\n",
       "    .dataframe tbody tr th {\n",
       "        vertical-align: top;\n",
       "    }\n",
       "\n",
       "    .dataframe thead th {\n",
       "        text-align: right;\n",
       "    }\n",
       "</style>\n",
       "<table border=\"1\" class=\"dataframe\">\n",
       "  <thead>\n",
       "    <tr style=\"text-align: right;\">\n",
       "      <th></th>\n",
       "      <th>1</th>\n",
       "      <th>NameLength</th>\n",
       "    </tr>\n",
       "  </thead>\n",
       "  <tbody>\n",
       "    <tr>\n",
       "      <td>0</td>\n",
       "      <td>Sudoku</td>\n",
       "      <td>6</td>\n",
       "    </tr>\n",
       "    <tr>\n",
       "      <td>1</td>\n",
       "      <td>Reversi</td>\n",
       "      <td>7</td>\n",
       "    </tr>\n",
       "    <tr>\n",
       "      <td>2</td>\n",
       "      <td>Morocco</td>\n",
       "      <td>7</td>\n",
       "    </tr>\n",
       "    <tr>\n",
       "      <td>3</td>\n",
       "      <td>Sudoku (Free)</td>\n",
       "      <td>13</td>\n",
       "    </tr>\n",
       "    <tr>\n",
       "      <td>4</td>\n",
       "      <td>Senet Deluxe</td>\n",
       "      <td>12</td>\n",
       "    </tr>\n",
       "  </tbody>\n",
       "</table>\n",
       "</div>"
      ],
      "text/plain": [
       "               1  NameLength\n",
       "0         Sudoku           6\n",
       "1        Reversi           7\n",
       "2        Morocco           7\n",
       "3  Sudoku (Free)          13\n",
       "4   Senet Deluxe          12"
      ]
     },
     "execution_count": 37,
     "metadata": {},
     "output_type": "execute_result"
    }
   ],
   "source": [
    "namelengthdf = emptyframe(edadf.index)\n",
    "namelengthdf[1]=edadf.Name\n",
    "namelengthdf[\"NameLength\"] = [len(name) for name in edadf[\"Name\"]]\n",
    "namelengthdf.head()"
   ]
  },
  {
   "cell_type": "markdown",
   "metadata": {},
   "source": [
    "### Understanding Subtitle column"
   ]
  },
  {
   "cell_type": "code",
   "execution_count": 38,
   "metadata": {
    "scrolled": true
   },
   "outputs": [
    {
     "data": {
      "text/html": [
       "<div>\n",
       "<style scoped>\n",
       "    .dataframe tbody tr th:only-of-type {\n",
       "        vertical-align: middle;\n",
       "    }\n",
       "\n",
       "    .dataframe tbody tr th {\n",
       "        vertical-align: top;\n",
       "    }\n",
       "\n",
       "    .dataframe thead th {\n",
       "        text-align: right;\n",
       "    }\n",
       "</style>\n",
       "<table border=\"1\" class=\"dataframe\">\n",
       "  <thead>\n",
       "    <tr style=\"text-align: right;\">\n",
       "      <th></th>\n",
       "      <th>URL</th>\n",
       "      <th>ID</th>\n",
       "      <th>Name</th>\n",
       "      <th>Subtitle</th>\n",
       "      <th>Icon URL</th>\n",
       "      <th>Average User Rating</th>\n",
       "      <th>User Rating Count</th>\n",
       "      <th>Price</th>\n",
       "      <th>In-app Purchases</th>\n",
       "      <th>Description</th>\n",
       "      <th>Developer</th>\n",
       "      <th>Age Rating</th>\n",
       "      <th>Languages</th>\n",
       "      <th>Size</th>\n",
       "      <th>Primary Genre</th>\n",
       "      <th>Genres</th>\n",
       "      <th>Original Release Date</th>\n",
       "      <th>Current Version Release Date</th>\n",
       "    </tr>\n",
       "  </thead>\n",
       "  <tbody>\n",
       "    <tr>\n",
       "      <td>5</td>\n",
       "      <td>https://apps.apple.com/us/app/sudoku-classic-n...</td>\n",
       "      <td>286210009</td>\n",
       "      <td>Sudoku - Classic number puzzle</td>\n",
       "      <td>Original brain training</td>\n",
       "      <td>https://is1-ssl.mzstatic.com/image/thumb/Purpl...</td>\n",
       "      <td>3.0</td>\n",
       "      <td>47.0</td>\n",
       "      <td>0.00</td>\n",
       "      <td>1.99</td>\n",
       "      <td>Sudoku will tease your brain, challenge you or...</td>\n",
       "      <td>OutOfTheBit Ltd</td>\n",
       "      <td>4+</td>\n",
       "      <td>EN</td>\n",
       "      <td>48672768.0</td>\n",
       "      <td>Games</td>\n",
       "      <td>Games, Entertainment, Strategy, Puzzle</td>\n",
       "      <td>30/07/2008</td>\n",
       "      <td>29/04/2019</td>\n",
       "    </tr>\n",
       "    <tr>\n",
       "      <td>19</td>\n",
       "      <td>https://apps.apple.com/us/app/cool-sudoku-jigs...</td>\n",
       "      <td>290614255</td>\n",
       "      <td>Cool Sudoku, Jigsaw, Killer</td>\n",
       "      <td>Sudoku, Jigsaw, Killer, Kakuro</td>\n",
       "      <td>https://is5-ssl.mzstatic.com/image/thumb/Purpl...</td>\n",
       "      <td>3.5</td>\n",
       "      <td>357.0</td>\n",
       "      <td>0.00</td>\n",
       "      <td>0.99, 0.99, 0.99</td>\n",
       "      <td>You can now play Sudoku, Killer Sudoku, Jigsaw...</td>\n",
       "      <td>Splash Software Ltd.</td>\n",
       "      <td>4+</td>\n",
       "      <td>EN</td>\n",
       "      <td>52236288.0</td>\n",
       "      <td>Games</td>\n",
       "      <td>Games, Strategy, Puzzle, Entertainment</td>\n",
       "      <td>24/09/2008</td>\n",
       "      <td>26/04/2019</td>\n",
       "    </tr>\n",
       "    <tr>\n",
       "      <td>27</td>\n",
       "      <td>https://apps.apple.com/us/app/lux-touch-3-worl...</td>\n",
       "      <td>292538570</td>\n",
       "      <td>Lux Touch 3 - World Domination</td>\n",
       "      <td>Game of Global Conquest</td>\n",
       "      <td>https://is4-ssl.mzstatic.com/image/thumb/Purpl...</td>\n",
       "      <td>3.5</td>\n",
       "      <td>72428.0</td>\n",
       "      <td>0.00</td>\n",
       "      <td>NaN</td>\n",
       "      <td>Lux is a game of strategy and world conquest!\\...</td>\n",
       "      <td>Sillysoft Games</td>\n",
       "      <td>9+</td>\n",
       "      <td>EN</td>\n",
       "      <td>55071744.0</td>\n",
       "      <td>Games</td>\n",
       "      <td>Games, Entertainment, Strategy, Board</td>\n",
       "      <td>7/10/2008</td>\n",
       "      <td>23/01/2019</td>\n",
       "    </tr>\n",
       "    <tr>\n",
       "      <td>33</td>\n",
       "      <td>https://apps.apple.com/us/app/chess-tchess-pro...</td>\n",
       "      <td>295445501</td>\n",
       "      <td>Chess - tChess Pro</td>\n",
       "      <td>For beginners to professionals</td>\n",
       "      <td>https://is1-ssl.mzstatic.com/image/thumb/Purpl...</td>\n",
       "      <td>4.0</td>\n",
       "      <td>3062.0</td>\n",
       "      <td>7.99</td>\n",
       "      <td>NaN</td>\n",
       "      <td>tChess Pro is the high-quality, critically acc...</td>\n",
       "      <td>Tom Kerrigan</td>\n",
       "      <td>4+</td>\n",
       "      <td>EN, FR, DE, JA, KO, ZH</td>\n",
       "      <td>7517184.0</td>\n",
       "      <td>Games</td>\n",
       "      <td>Games, Board, Entertainment, Strategy</td>\n",
       "      <td>5/11/2008</td>\n",
       "      <td>7/04/2019</td>\n",
       "    </tr>\n",
       "    <tr>\n",
       "      <td>36</td>\n",
       "      <td>https://apps.apple.com/us/app/chess-tchess-lit...</td>\n",
       "      <td>296756437</td>\n",
       "      <td>Chess - tChess Lite</td>\n",
       "      <td>Fun and easy to use</td>\n",
       "      <td>https://is4-ssl.mzstatic.com/image/thumb/Purpl...</td>\n",
       "      <td>3.5</td>\n",
       "      <td>5488.0</td>\n",
       "      <td>0.99</td>\n",
       "      <td>NaN</td>\n",
       "      <td>tChess Lite is the popular chess game designed...</td>\n",
       "      <td>Tom Kerrigan</td>\n",
       "      <td>4+</td>\n",
       "      <td>EN, FR, DE, JA, KO, ZH</td>\n",
       "      <td>5874688.0</td>\n",
       "      <td>Games</td>\n",
       "      <td>Games, Strategy, Entertainment, Board</td>\n",
       "      <td>15/11/2008</td>\n",
       "      <td>7/04/2019</td>\n",
       "    </tr>\n",
       "    <tr>\n",
       "      <td>45</td>\n",
       "      <td>https://apps.apple.com/us/app/lux-dlx-3-map-co...</td>\n",
       "      <td>299813413</td>\n",
       "      <td>Lux DLX 3 - Map Conquest Game</td>\n",
       "      <td>World Domination Supreme!</td>\n",
       "      <td>https://is3-ssl.mzstatic.com/image/thumb/Purpl...</td>\n",
       "      <td>4.0</td>\n",
       "      <td>5629.0</td>\n",
       "      <td>4.99</td>\n",
       "      <td>NaN</td>\n",
       "      <td>Lux DLX is an epic game of strategy &amp; conquest...</td>\n",
       "      <td>Sillysoft Games</td>\n",
       "      <td>9+</td>\n",
       "      <td>DA, NL, EN, FR, DE, IT, NO, NB, PT, ES, SV</td>\n",
       "      <td>93993984.0</td>\n",
       "      <td>Games</td>\n",
       "      <td>Games, Strategy, Board, Entertainment</td>\n",
       "      <td>19/12/2008</td>\n",
       "      <td>26/03/2019</td>\n",
       "    </tr>\n",
       "    <tr>\n",
       "      <td>55</td>\n",
       "      <td>https://apps.apple.com/us/app/arcs/id302510211</td>\n",
       "      <td>302510211</td>\n",
       "      <td>Arcs</td>\n",
       "      <td>Circular puzzle game</td>\n",
       "      <td>https://is3-ssl.mzstatic.com/image/thumb/Purpl...</td>\n",
       "      <td>4.0</td>\n",
       "      <td>413.0</td>\n",
       "      <td>2.99</td>\n",
       "      <td>NaN</td>\n",
       "      <td>Arcs is a spin on the classic sliding tile puz...</td>\n",
       "      <td>Pomegranate Apps LLC</td>\n",
       "      <td>4+</td>\n",
       "      <td>EN</td>\n",
       "      <td>5106688.0</td>\n",
       "      <td>Games</td>\n",
       "      <td>Games, Puzzle, Entertainment, Strategy</td>\n",
       "      <td>21/01/2009</td>\n",
       "      <td>10/05/2018</td>\n",
       "    </tr>\n",
       "    <tr>\n",
       "      <td>66</td>\n",
       "      <td>https://apps.apple.com/us/app/omar-sharif-brid...</td>\n",
       "      <td>304878580</td>\n",
       "      <td>Omar Sharif Bridge</td>\n",
       "      <td>2019 Edition</td>\n",
       "      <td>https://is2-ssl.mzstatic.com/image/thumb/Purpl...</td>\n",
       "      <td>2.5</td>\n",
       "      <td>359.0</td>\n",
       "      <td>5.99</td>\n",
       "      <td>NaN</td>\n",
       "      <td>Welcome to the 2019 edition of Omar Sharif Bri...</td>\n",
       "      <td>ZingMagic Limited</td>\n",
       "      <td>4+</td>\n",
       "      <td>EN</td>\n",
       "      <td>33982464.0</td>\n",
       "      <td>Games</td>\n",
       "      <td>Games, Card, Entertainment, Strategy</td>\n",
       "      <td>17/02/2009</td>\n",
       "      <td>11/12/2018</td>\n",
       "    </tr>\n",
       "  </tbody>\n",
       "</table>\n",
       "</div>"
      ],
      "text/plain": [
       "                                                  URL         ID  \\\n",
       "5   https://apps.apple.com/us/app/sudoku-classic-n...  286210009   \n",
       "19  https://apps.apple.com/us/app/cool-sudoku-jigs...  290614255   \n",
       "27  https://apps.apple.com/us/app/lux-touch-3-worl...  292538570   \n",
       "33  https://apps.apple.com/us/app/chess-tchess-pro...  295445501   \n",
       "36  https://apps.apple.com/us/app/chess-tchess-lit...  296756437   \n",
       "45  https://apps.apple.com/us/app/lux-dlx-3-map-co...  299813413   \n",
       "55     https://apps.apple.com/us/app/arcs/id302510211  302510211   \n",
       "66  https://apps.apple.com/us/app/omar-sharif-brid...  304878580   \n",
       "\n",
       "                              Name                        Subtitle  \\\n",
       "5   Sudoku - Classic number puzzle         Original brain training   \n",
       "19     Cool Sudoku, Jigsaw, Killer  Sudoku, Jigsaw, Killer, Kakuro   \n",
       "27  Lux Touch 3 - World Domination         Game of Global Conquest   \n",
       "33              Chess - tChess Pro  For beginners to professionals   \n",
       "36             Chess - tChess Lite             Fun and easy to use   \n",
       "45   Lux DLX 3 - Map Conquest Game       World Domination Supreme!   \n",
       "55                            Arcs            Circular puzzle game   \n",
       "66              Omar Sharif Bridge                    2019 Edition   \n",
       "\n",
       "                                             Icon URL  Average User Rating  \\\n",
       "5   https://is1-ssl.mzstatic.com/image/thumb/Purpl...                  3.0   \n",
       "19  https://is5-ssl.mzstatic.com/image/thumb/Purpl...                  3.5   \n",
       "27  https://is4-ssl.mzstatic.com/image/thumb/Purpl...                  3.5   \n",
       "33  https://is1-ssl.mzstatic.com/image/thumb/Purpl...                  4.0   \n",
       "36  https://is4-ssl.mzstatic.com/image/thumb/Purpl...                  3.5   \n",
       "45  https://is3-ssl.mzstatic.com/image/thumb/Purpl...                  4.0   \n",
       "55  https://is3-ssl.mzstatic.com/image/thumb/Purpl...                  4.0   \n",
       "66  https://is2-ssl.mzstatic.com/image/thumb/Purpl...                  2.5   \n",
       "\n",
       "    User Rating Count  Price  In-app Purchases  \\\n",
       "5                47.0   0.00              1.99   \n",
       "19              357.0   0.00  0.99, 0.99, 0.99   \n",
       "27            72428.0   0.00               NaN   \n",
       "33             3062.0   7.99               NaN   \n",
       "36             5488.0   0.99               NaN   \n",
       "45             5629.0   4.99               NaN   \n",
       "55              413.0   2.99               NaN   \n",
       "66              359.0   5.99               NaN   \n",
       "\n",
       "                                          Description             Developer  \\\n",
       "5   Sudoku will tease your brain, challenge you or...       OutOfTheBit Ltd   \n",
       "19  You can now play Sudoku, Killer Sudoku, Jigsaw...  Splash Software Ltd.   \n",
       "27  Lux is a game of strategy and world conquest!\\...       Sillysoft Games   \n",
       "33  tChess Pro is the high-quality, critically acc...          Tom Kerrigan   \n",
       "36  tChess Lite is the popular chess game designed...          Tom Kerrigan   \n",
       "45  Lux DLX is an epic game of strategy & conquest...       Sillysoft Games   \n",
       "55  Arcs is a spin on the classic sliding tile puz...  Pomegranate Apps LLC   \n",
       "66  Welcome to the 2019 edition of Omar Sharif Bri...     ZingMagic Limited   \n",
       "\n",
       "   Age Rating                                   Languages        Size  \\\n",
       "5          4+                                          EN  48672768.0   \n",
       "19         4+                                          EN  52236288.0   \n",
       "27         9+                                          EN  55071744.0   \n",
       "33         4+                      EN, FR, DE, JA, KO, ZH   7517184.0   \n",
       "36         4+                      EN, FR, DE, JA, KO, ZH   5874688.0   \n",
       "45         9+  DA, NL, EN, FR, DE, IT, NO, NB, PT, ES, SV  93993984.0   \n",
       "55         4+                                          EN   5106688.0   \n",
       "66         4+                                          EN  33982464.0   \n",
       "\n",
       "   Primary Genre                                  Genres  \\\n",
       "5          Games  Games, Entertainment, Strategy, Puzzle   \n",
       "19         Games  Games, Strategy, Puzzle, Entertainment   \n",
       "27         Games   Games, Entertainment, Strategy, Board   \n",
       "33         Games   Games, Board, Entertainment, Strategy   \n",
       "36         Games   Games, Strategy, Entertainment, Board   \n",
       "45         Games   Games, Strategy, Board, Entertainment   \n",
       "55         Games  Games, Puzzle, Entertainment, Strategy   \n",
       "66         Games    Games, Card, Entertainment, Strategy   \n",
       "\n",
       "   Original Release Date Current Version Release Date  \n",
       "5             30/07/2008                   29/04/2019  \n",
       "19            24/09/2008                   26/04/2019  \n",
       "27             7/10/2008                   23/01/2019  \n",
       "33             5/11/2008                    7/04/2019  \n",
       "36            15/11/2008                    7/04/2019  \n",
       "45            19/12/2008                   26/03/2019  \n",
       "55            21/01/2009                   10/05/2018  \n",
       "66            17/02/2009                   11/12/2018  "
      ]
     },
     "execution_count": 38,
     "metadata": {},
     "output_type": "execute_result"
    }
   ],
   "source": [
    "#Looking at Subtitle:\n",
    "edadf[edadf[\"Subtitle\"].notna()].head(8)"
   ]
  },
  {
   "cell_type": "markdown",
   "metadata": {},
   "source": [
    "The `Subtitle` column seems to have a short description or tagline of the app. It could be combined into the `Description` or drop the column itself, as losing a third of the records ($\\frac{2714}{7464}$ have it) would be a lot.\n",
    "However, this information will be used to create a categorical variable of whether an app has a subtitle or not."
   ]
  },
  {
   "cell_type": "markdown",
   "metadata": {},
   "source": [
    "Also found good examples of Subtitles for the presentation:"
   ]
  },
  {
   "cell_type": "code",
   "execution_count": 39,
   "metadata": {},
   "outputs": [
    {
     "name": "stdout",
     "output_type": "stream",
     "text": [
      "19 \n",
      " Cool Sudoku, Jigsaw, Killer \n",
      " Sudoku, Jigsaw, Killer, Kakuro\n",
      "33 \n",
      " Chess - tChess Pro \n",
      " For beginners to professionals\n",
      "36 \n",
      " Chess - tChess Lite \n",
      " Fun and easy to use\n",
      "55 \n",
      " Arcs \n",
      " Circular puzzle game\n"
     ]
    }
   ],
   "source": [
    "for i in [19,33,36,55]:\n",
    "    try:\n",
    "        print(i,\"\\n\", edadf.loc[i,\"Name\"],\"\\n\",edadf.loc[i,\"Subtitle\"])\n",
    "    except:\n",
    "        print(i,\"\\n\",\"what\")\n",
    "        continue"
   ]
  },
  {
   "cell_type": "code",
   "execution_count": 40,
   "metadata": {},
   "outputs": [
    {
     "name": "stdout",
     "output_type": "stream",
     "text": [
      "32 \n",
      " Chess Genius\n",
      "34 \n",
      " Toobz\n",
      "35 \n",
      " Color Sudoku\n",
      "37 \n",
      " Checkers Online Lite\n"
     ]
    }
   ],
   "source": [
    "#example indices without subtitles\n",
    "for i in [32,34,35,37]:\n",
    "    try:\n",
    "        print(i,\"\\n\", edadf.loc[i,\"Name\"])\n",
    "    except:\n",
    "        print(i,\"\\n\",\"what\")\n",
    "        continue"
   ]
  },
  {
   "cell_type": "markdown",
   "metadata": {},
   "source": [
    "### Looking at Developer column - possible categorization\n",
    "Considering whether `Developer` could become categorical, or a function of frequency, or `String` length."
   ]
  },
  {
   "cell_type": "code",
   "execution_count": 41,
   "metadata": {
    "scrolled": true
   },
   "outputs": [
    {
     "data": {
      "text/plain": [
       "Tapps Tecnologia da Informa\\xe7\\xe3o Ltda.    113\n",
       "Detention Apps                                 38\n",
       "Qumaron                                        36\n",
       "EASY Inc.                                      35\n",
       "HexWar Games Ltd                               32\n",
       "                                             ... \n",
       "Cl\\xe9ment jacquet                              1\n",
       "Kikaku Damashii, Inc                            1\n",
       "FUSEE                                           1\n",
       "Ilya Kovalenko                                  1\n",
       "Ying Zhang                                      1\n",
       "Name: Developer, Length: 4261, dtype: int64"
      ]
     },
     "execution_count": 41,
     "metadata": {},
     "output_type": "execute_result"
    }
   ],
   "source": [
    "edadf[\"Developer\"].value_counts()"
   ]
  },
  {
   "cell_type": "markdown",
   "metadata": {},
   "source": [
    "One way to categorize these is by whether they end in Ltd, GmbH, Inc, Corp, SL, LLC, or similar designations of private companies."
   ]
  },
  {
   "cell_type": "code",
   "execution_count": 42,
   "metadata": {},
   "outputs": [],
   "source": [
    "def isco(developername, abbreviations=[\"Ltd\",\"Ltda\",\"Inc\",\"GmbH\",\"SL\",\"LLC\",\"Corp\",\"AB\",\"AG\",\"Co\"]):\n",
    "    '''\n",
    "    This determines for a String (developername) whether its last several characters, excepting a final period, match a \n",
    "    String contained in abbreviations, which defaults to a common abbreviation for a company.\n",
    "    \n",
    "    Args\n",
    "        developername (str) : assuming it takes the form of \"Developer Name Ltd.\"\n",
    "        abbreviations (list or iterable arraylike) : a list of Strings to match to the end of developername, which\n",
    "                                                defaults to a list of common abbreviations, expected to have no punctuation\n",
    "    \n",
    "    Returns\n",
    "        (bool): True indicating it is a match, False indicating it does not end in one of the Strings in abbreviations\n",
    "    '''\n",
    "    developername = developername.strip() #remove trailing and leading spaces\n",
    "    \n",
    "    if(developername[-1]==\".\"):\n",
    "        developername=developername[:-1] #if the last char is a period, it will be dropped from the String\n",
    "        \n",
    "    for abbrev in abbreviations:\n",
    "        try:\n",
    "            lastfew = developername[-(len(abbrev)+1):] #selecting one more than the number of characters from developername\n",
    "                                                        #than are in the current abbrev\n",
    "            lastfew = lastfew.strip() #remove trailing and leading spaces\n",
    "        except:\n",
    "            continue #if developername contains only about as many characters as are in abbrev, it is too\n",
    "                    #short a developername to qualify as matching this abbrev\n",
    "        if(lastfew.lower()==abbrev.lower()):#if the end of developername and the abbrev match\n",
    "            return True\n",
    "        else:\n",
    "            continue\n",
    "    #After going through every abbreviation and not finding a match, False is returned\n",
    "    #The method would have returned True and ended by now if it had found a match so the result must be False\n",
    "    #print(developername, \"this was found to be false\")\n",
    "    return False"
   ]
  },
  {
   "cell_type": "code",
   "execution_count": 43,
   "metadata": {},
   "outputs": [
    {
     "data": {
      "text/html": [
       "<div>\n",
       "<style scoped>\n",
       "    .dataframe tbody tr th:only-of-type {\n",
       "        vertical-align: middle;\n",
       "    }\n",
       "\n",
       "    .dataframe tbody tr th {\n",
       "        vertical-align: top;\n",
       "    }\n",
       "\n",
       "    .dataframe thead th {\n",
       "        text-align: right;\n",
       "    }\n",
       "</style>\n",
       "<table border=\"1\" class=\"dataframe\">\n",
       "  <thead>\n",
       "    <tr style=\"text-align: right;\">\n",
       "      <th></th>\n",
       "      <th>1</th>\n",
       "      <th>IsCompany</th>\n",
       "    </tr>\n",
       "  </thead>\n",
       "  <tbody>\n",
       "    <tr>\n",
       "      <td>0</td>\n",
       "      <td>Mighty Mighty Good Games</td>\n",
       "      <td>0</td>\n",
       "    </tr>\n",
       "    <tr>\n",
       "      <td>1</td>\n",
       "      <td>Kiss The Machine</td>\n",
       "      <td>0</td>\n",
       "    </tr>\n",
       "    <tr>\n",
       "      <td>2</td>\n",
       "      <td>Bayou Games</td>\n",
       "      <td>0</td>\n",
       "    </tr>\n",
       "    <tr>\n",
       "      <td>3</td>\n",
       "      <td>Mighty Mighty Good Games</td>\n",
       "      <td>0</td>\n",
       "    </tr>\n",
       "    <tr>\n",
       "      <td>4</td>\n",
       "      <td>RoGame Software</td>\n",
       "      <td>0</td>\n",
       "    </tr>\n",
       "  </tbody>\n",
       "</table>\n",
       "</div>"
      ],
      "text/plain": [
       "                          1  IsCompany\n",
       "0  Mighty Mighty Good Games          0\n",
       "1          Kiss The Machine          0\n",
       "2               Bayou Games          0\n",
       "3  Mighty Mighty Good Games          0\n",
       "4           RoGame Software          0"
      ]
     },
     "execution_count": 43,
     "metadata": {},
     "output_type": "execute_result"
    }
   ],
   "source": [
    "#create new dataframe of only developer and True/False column generated by isco() list comprehension\n",
    "devcodf = emptyframe(edadf.index)\n",
    "devcodf[1]=edadf.Developer\n",
    "#create column of whether Developer ends in an abbreviation (1) or not (0)\n",
    "devcodf[\"IsCompany\"] = [1 if isco(dev) else 0 for dev in edadf[\"Developer\"]] #if it ends in an abbreviation, returns True\n",
    "devcodf.head()"
   ]
  },
  {
   "cell_type": "code",
   "execution_count": 44,
   "metadata": {},
   "outputs": [
    {
     "data": {
      "text/html": [
       "<div>\n",
       "<style scoped>\n",
       "    .dataframe tbody tr th:only-of-type {\n",
       "        vertical-align: middle;\n",
       "    }\n",
       "\n",
       "    .dataframe tbody tr th {\n",
       "        vertical-align: top;\n",
       "    }\n",
       "\n",
       "    .dataframe thead th {\n",
       "        text-align: right;\n",
       "    }\n",
       "</style>\n",
       "<table border=\"1\" class=\"dataframe\">\n",
       "  <thead>\n",
       "    <tr style=\"text-align: right;\">\n",
       "      <th></th>\n",
       "      <th>1</th>\n",
       "      <th>IsCompany</th>\n",
       "    </tr>\n",
       "  </thead>\n",
       "  <tbody>\n",
       "    <tr>\n",
       "      <td>16601</td>\n",
       "      <td>Childish Things Ltd</td>\n",
       "      <td>1</td>\n",
       "    </tr>\n",
       "    <tr>\n",
       "      <td>16638</td>\n",
       "      <td>Misquamicut Technologies LLC</td>\n",
       "      <td>1</td>\n",
       "    </tr>\n",
       "    <tr>\n",
       "      <td>16651</td>\n",
       "      <td>JoyBits Ltd.</td>\n",
       "      <td>1</td>\n",
       "    </tr>\n",
       "    <tr>\n",
       "      <td>16758</td>\n",
       "      <td>Appscalibur LLC</td>\n",
       "      <td>1</td>\n",
       "    </tr>\n",
       "    <tr>\n",
       "      <td>16863</td>\n",
       "      <td>Phoenix One Games Inc.</td>\n",
       "      <td>1</td>\n",
       "    </tr>\n",
       "  </tbody>\n",
       "</table>\n",
       "</div>"
      ],
      "text/plain": [
       "                                  1  IsCompany\n",
       "16601           Childish Things Ltd          1\n",
       "16638  Misquamicut Technologies LLC          1\n",
       "16651                  JoyBits Ltd.          1\n",
       "16758               Appscalibur LLC          1\n",
       "16863        Phoenix One Games Inc.          1"
      ]
     },
     "execution_count": 44,
     "metadata": {},
     "output_type": "execute_result"
    }
   ],
   "source": [
    "#further looking at results from isco\n",
    "devcodf[devcodf.IsCompany>0].tail()"
   ]
  },
  {
   "cell_type": "code",
   "execution_count": 45,
   "metadata": {},
   "outputs": [
    {
     "data": {
      "text/plain": [
       "0    0.740622\n",
       "1    0.259378\n",
       "Name: IsCompany, dtype: float64"
      ]
     },
     "execution_count": 45,
     "metadata": {},
     "output_type": "execute_result"
    }
   ],
   "source": [
    "devcodf.IsCompany.value_counts(normalize=True)"
   ]
  },
  {
   "cell_type": "markdown",
   "metadata": {},
   "source": [
    "Almost 26% of records have a `Developer` name that ends with a common abbreviation for a company."
   ]
  },
  {
   "cell_type": "markdown",
   "metadata": {},
   "source": [
    "### Understanding Genres and Primary Genre\n",
    "The difference between Primary Genre and Genres is that the former has only one genre, and the latter lists a number of genres associated with the app. As this dataset is a list of strategy games, it makes sense that the most common genres are \"Games\" and \"Strategy\"."
   ]
  },
  {
   "cell_type": "code",
   "execution_count": 46,
   "metadata": {
    "scrolled": true
   },
   "outputs": [
    {
     "data": {
      "text/plain": [
       "Games, Simulation, Strategy                 0.038585\n",
       "Games, Strategy, Simulation                 0.038049\n",
       "Games, Strategy, Puzzle                     0.034566\n",
       "Games, Strategy, Action                     0.034164\n",
       "Games, Puzzle, Strategy                     0.028805\n",
       "                                              ...   \n",
       "Games, Strategy, Food & Drink, Casual       0.000134\n",
       "Games, Role Playing, Strategy, Reference    0.000134\n",
       "Education, Strategy, Games, Puzzle          0.000134\n",
       "Lifestyle, Games, Trivia, Strategy          0.000134\n",
       "Games, Family, Lifestyle, Strategy          0.000134\n",
       "Name: Genres, Length: 622, dtype: float64"
      ]
     },
     "execution_count": 46,
     "metadata": {},
     "output_type": "execute_result"
    }
   ],
   "source": [
    "edadf[\"Genres\"].value_counts(normalize=True)"
   ]
  },
  {
   "cell_type": "markdown",
   "metadata": {},
   "source": [
    "Most of `Genres` appears to be a list of genres for a record. The genres that look common are Games, Strategy, and Simulation. In fact, that trio is the most commonly-appearing list; 7.6% ($0.038\\times2$) of records fall into solely those three. It would be interesting to consider this feature as a frequency dictionary, separating out the genres from each list."
   ]
  },
  {
   "cell_type": "code",
   "execution_count": 47,
   "metadata": {},
   "outputs": [
    {
     "data": {
      "text/plain": [
       "Games                0.964094\n",
       "Entertainment        0.012326\n",
       "Education            0.006163\n",
       "Utilities            0.005895\n",
       "Sports               0.003081\n",
       "Reference            0.002412\n",
       "Productivity         0.001072\n",
       "Finance              0.001072\n",
       "Book                 0.000670\n",
       "Lifestyle            0.000536\n",
       "Social Networking    0.000402\n",
       "Stickers             0.000402\n",
       "Music                0.000402\n",
       "News                 0.000268\n",
       "Business             0.000268\n",
       "Health & Fitness     0.000268\n",
       "Medical              0.000134\n",
       "Travel               0.000134\n",
       "Food & Drink         0.000134\n",
       "Shopping             0.000134\n",
       "Navigation           0.000134\n",
       "Name: Primary Genre, dtype: float64"
      ]
     },
     "execution_count": 47,
     "metadata": {},
     "output_type": "execute_result"
    }
   ],
   "source": [
    "edadf[\"Primary Genre\"].value_counts(normalize=True)"
   ]
  },
  {
   "cell_type": "markdown",
   "metadata": {},
   "source": [
    "The `Primary Genre` of 96% of records is Games. With such a large proportion of records in one category, it provides little information and it makes sense to not use this feature in the model."
   ]
  },
  {
   "cell_type": "markdown",
   "metadata": {},
   "source": [
    "### Considering Languages, In-app Purchases, Genres as Frequency Dictionaries\n",
    "These columns contain objects which are lists of values separated by commas."
   ]
  },
  {
   "cell_type": "code",
   "execution_count": 48,
   "metadata": {},
   "outputs": [
    {
     "data": {
      "text/html": [
       "<div>\n",
       "<style scoped>\n",
       "    .dataframe tbody tr th:only-of-type {\n",
       "        vertical-align: middle;\n",
       "    }\n",
       "\n",
       "    .dataframe tbody tr th {\n",
       "        vertical-align: top;\n",
       "    }\n",
       "\n",
       "    .dataframe thead th {\n",
       "        text-align: right;\n",
       "    }\n",
       "</style>\n",
       "<table border=\"1\" class=\"dataframe\">\n",
       "  <thead>\n",
       "    <tr style=\"text-align: right;\">\n",
       "      <th></th>\n",
       "      <th>URL</th>\n",
       "      <th>ID</th>\n",
       "      <th>Name</th>\n",
       "      <th>Subtitle</th>\n",
       "      <th>Icon URL</th>\n",
       "      <th>Average User Rating</th>\n",
       "      <th>User Rating Count</th>\n",
       "      <th>Price</th>\n",
       "      <th>In-app Purchases</th>\n",
       "      <th>Description</th>\n",
       "      <th>Developer</th>\n",
       "      <th>Age Rating</th>\n",
       "      <th>Languages</th>\n",
       "      <th>Size</th>\n",
       "      <th>Primary Genre</th>\n",
       "      <th>Genres</th>\n",
       "      <th>Original Release Date</th>\n",
       "      <th>Current Version Release Date</th>\n",
       "    </tr>\n",
       "  </thead>\n",
       "  <tbody>\n",
       "    <tr>\n",
       "      <td>16781</td>\n",
       "      <td>https://apps.apple.com/us/app/se%C3%A7im-oyunu...</td>\n",
       "      <td>1469016284</td>\n",
       "      <td>Se\\xe7im Oyunu \\u0130stanbul</td>\n",
       "      <td>NaN</td>\n",
       "      <td>https://is5-ssl.mzstatic.com/image/thumb/Purpl...</td>\n",
       "      <td>4.0</td>\n",
       "      <td>5.0</td>\n",
       "      <td>0.0</td>\n",
       "      <td>0.99, 1.99, 2.99, 3.99, 0.99</td>\n",
       "      <td>Sevdi\\u011finiz partinin se\\xe7im otob\\xfcs\\xf...</td>\n",
       "      <td>Yeti Interactive</td>\n",
       "      <td>4+</td>\n",
       "      <td>EN</td>\n",
       "      <td>334923776.0</td>\n",
       "      <td>Games</td>\n",
       "      <td>Games, Racing, Entertainment, Strategy</td>\n",
       "      <td>22/06/2019</td>\n",
       "      <td>8/07/2019</td>\n",
       "    </tr>\n",
       "    <tr>\n",
       "      <td>16789</td>\n",
       "      <td>https://apps.apple.com/us/app/idle-industry-wo...</td>\n",
       "      <td>1469202567</td>\n",
       "      <td>Idle Industry World</td>\n",
       "      <td>Production Chain Awesomeness</td>\n",
       "      <td>https://is5-ssl.mzstatic.com/image/thumb/Purpl...</td>\n",
       "      <td>4.5</td>\n",
       "      <td>6.0</td>\n",
       "      <td>0.0</td>\n",
       "      <td>7.99, 13.99, 2.99, 3.99, 7.99, 1.99, 1.99, 16....</td>\n",
       "      <td>Download this idle game for free and become a ...</td>\n",
       "      <td>GameBros</td>\n",
       "      <td>4+</td>\n",
       "      <td>EN</td>\n",
       "      <td>279346176.0</td>\n",
       "      <td>Games</td>\n",
       "      <td>Games, Strategy, Simulation</td>\n",
       "      <td>26/06/2019</td>\n",
       "      <td>15/07/2019</td>\n",
       "    </tr>\n",
       "    <tr>\n",
       "      <td>16791</td>\n",
       "      <td>https://apps.apple.com/us/app/bounce-back-focu...</td>\n",
       "      <td>1469258384</td>\n",
       "      <td>Bounce Back: Focus</td>\n",
       "      <td>Can You Keep Up?</td>\n",
       "      <td>https://is3-ssl.mzstatic.com/image/thumb/Purpl...</td>\n",
       "      <td>5.0</td>\n",
       "      <td>15.0</td>\n",
       "      <td>0.0</td>\n",
       "      <td>0.99</td>\n",
       "      <td>A quick fun game to pass the time. The objecti...</td>\n",
       "      <td>Justin Nicol</td>\n",
       "      <td>4+</td>\n",
       "      <td>EN</td>\n",
       "      <td>20638720.0</td>\n",
       "      <td>Games</td>\n",
       "      <td>Games, Casual, Strategy</td>\n",
       "      <td>31/07/2019</td>\n",
       "      <td>31/07/2019</td>\n",
       "    </tr>\n",
       "    <tr>\n",
       "      <td>16828</td>\n",
       "      <td>https://apps.apple.com/us/app/zipline-valley/i...</td>\n",
       "      <td>1470146913</td>\n",
       "      <td>Zipline Valley</td>\n",
       "      <td>Brain Training Physics Puzzle</td>\n",
       "      <td>https://is4-ssl.mzstatic.com/image/thumb/Purpl...</td>\n",
       "      <td>4.5</td>\n",
       "      <td>14.0</td>\n",
       "      <td>0.0</td>\n",
       "      <td>2.99</td>\n",
       "      <td>\"Physics game lovers enjoy this new puzzle gam...</td>\n",
       "      <td>Narcade Teknoloji</td>\n",
       "      <td>4+</td>\n",
       "      <td>AR, ZH, EN, FR, DE, JA, KO, PT, RU, ES, TR</td>\n",
       "      <td>189873152.0</td>\n",
       "      <td>Games</td>\n",
       "      <td>Games, Puzzle, Strategy</td>\n",
       "      <td>1/08/2019</td>\n",
       "      <td>1/08/2019</td>\n",
       "    </tr>\n",
       "    <tr>\n",
       "      <td>16842</td>\n",
       "      <td>https://apps.apple.com/us/app/lordz2-io-conque...</td>\n",
       "      <td>1470369387</td>\n",
       "      <td>Lordz2.io Conquest</td>\n",
       "      <td>RTS Multiplayer IO Game</td>\n",
       "      <td>https://is4-ssl.mzstatic.com/image/thumb/Purpl...</td>\n",
       "      <td>3.0</td>\n",
       "      <td>17.0</td>\n",
       "      <td>0.0</td>\n",
       "      <td>4.99, 1.99, 9.99, 4.99, 4.99, 4.99, 4.99, 4.99</td>\n",
       "      <td>Fun Fast paced RTS game! Play against real pla...</td>\n",
       "      <td>Spinbot</td>\n",
       "      <td>4+</td>\n",
       "      <td>EN</td>\n",
       "      <td>213266432.0</td>\n",
       "      <td>Games</td>\n",
       "      <td>Games, Action, Strategy</td>\n",
       "      <td>1/08/2019</td>\n",
       "      <td>1/08/2019</td>\n",
       "    </tr>\n",
       "    <tr>\n",
       "      <td>16856</td>\n",
       "      <td>https://apps.apple.com/us/app/smartphone-tycoo...</td>\n",
       "      <td>1470806544</td>\n",
       "      <td>Smartphone Tycoon 2</td>\n",
       "      <td>Create your own smartphone!</td>\n",
       "      <td>https://is3-ssl.mzstatic.com/image/thumb/Purpl...</td>\n",
       "      <td>2.5</td>\n",
       "      <td>29.0</td>\n",
       "      <td>0.0</td>\n",
       "      <td>1.99, 1.99, 1.99, 2.99, 5.99, 3.99, 5.99, 2.99...</td>\n",
       "      <td>Welcome to Smartphone Tycoon! In this business...</td>\n",
       "      <td>Oleksii Cherneha</td>\n",
       "      <td>4+</td>\n",
       "      <td>EN</td>\n",
       "      <td>86075392.0</td>\n",
       "      <td>Games</td>\n",
       "      <td>Games, Simulation, Strategy</td>\n",
       "      <td>31/07/2019</td>\n",
       "      <td>31/07/2019</td>\n",
       "    </tr>\n",
       "    <tr>\n",
       "      <td>16863</td>\n",
       "      <td>https://apps.apple.com/us/app/hero-chess-teamf...</td>\n",
       "      <td>1471007235</td>\n",
       "      <td>Hero Chess: Teamfight Auto</td>\n",
       "      <td>Teamfight Auto Battler</td>\n",
       "      <td>https://is1-ssl.mzstatic.com/image/thumb/Purpl...</td>\n",
       "      <td>4.5</td>\n",
       "      <td>51.0</td>\n",
       "      <td>0.0</td>\n",
       "      <td>9.99</td>\n",
       "      <td>Jump into the world of Hero Chess, the BEST mo...</td>\n",
       "      <td>Phoenix One Games Inc.</td>\n",
       "      <td>9+</td>\n",
       "      <td>AR, NL, EN, FR, DE, ID, IT, JA, KO, PT, RU, ZH...</td>\n",
       "      <td>198211584.0</td>\n",
       "      <td>Games</td>\n",
       "      <td>Games, Board, Strategy</td>\n",
       "      <td>29/07/2019</td>\n",
       "      <td>29/07/2019</td>\n",
       "    </tr>\n",
       "    <tr>\n",
       "      <td>16932</td>\n",
       "      <td>https://apps.apple.com/us/app/spatula-tft-chea...</td>\n",
       "      <td>1472818549</td>\n",
       "      <td>Spatula: TFT Cheat Sheet</td>\n",
       "      <td>TFT Items and Champion Helper</td>\n",
       "      <td>https://is1-ssl.mzstatic.com/image/thumb/Purpl...</td>\n",
       "      <td>5.0</td>\n",
       "      <td>11.0</td>\n",
       "      <td>0.0</td>\n",
       "      <td>0.99</td>\n",
       "      <td>Did you ever get confused while playing TeamFi...</td>\n",
       "      <td>Murilo Bastos</td>\n",
       "      <td>9+</td>\n",
       "      <td>EN</td>\n",
       "      <td>44067840.0</td>\n",
       "      <td>Utilities</td>\n",
       "      <td>Utilities, Games, Board, Strategy</td>\n",
       "      <td>1/08/2019</td>\n",
       "      <td>1/08/2019</td>\n",
       "    </tr>\n",
       "  </tbody>\n",
       "</table>\n",
       "</div>"
      ],
      "text/plain": [
       "                                                     URL          ID  \\\n",
       "16781  https://apps.apple.com/us/app/se%C3%A7im-oyunu...  1469016284   \n",
       "16789  https://apps.apple.com/us/app/idle-industry-wo...  1469202567   \n",
       "16791  https://apps.apple.com/us/app/bounce-back-focu...  1469258384   \n",
       "16828  https://apps.apple.com/us/app/zipline-valley/i...  1470146913   \n",
       "16842  https://apps.apple.com/us/app/lordz2-io-conque...  1470369387   \n",
       "16856  https://apps.apple.com/us/app/smartphone-tycoo...  1470806544   \n",
       "16863  https://apps.apple.com/us/app/hero-chess-teamf...  1471007235   \n",
       "16932  https://apps.apple.com/us/app/spatula-tft-chea...  1472818549   \n",
       "\n",
       "                               Name                       Subtitle  \\\n",
       "16781  Se\\xe7im Oyunu \\u0130stanbul                            NaN   \n",
       "16789           Idle Industry World   Production Chain Awesomeness   \n",
       "16791            Bounce Back: Focus               Can You Keep Up?   \n",
       "16828                Zipline Valley  Brain Training Physics Puzzle   \n",
       "16842            Lordz2.io Conquest        RTS Multiplayer IO Game   \n",
       "16856           Smartphone Tycoon 2    Create your own smartphone!   \n",
       "16863    Hero Chess: Teamfight Auto         Teamfight Auto Battler   \n",
       "16932      Spatula: TFT Cheat Sheet  TFT Items and Champion Helper   \n",
       "\n",
       "                                                Icon URL  Average User Rating  \\\n",
       "16781  https://is5-ssl.mzstatic.com/image/thumb/Purpl...                  4.0   \n",
       "16789  https://is5-ssl.mzstatic.com/image/thumb/Purpl...                  4.5   \n",
       "16791  https://is3-ssl.mzstatic.com/image/thumb/Purpl...                  5.0   \n",
       "16828  https://is4-ssl.mzstatic.com/image/thumb/Purpl...                  4.5   \n",
       "16842  https://is4-ssl.mzstatic.com/image/thumb/Purpl...                  3.0   \n",
       "16856  https://is3-ssl.mzstatic.com/image/thumb/Purpl...                  2.5   \n",
       "16863  https://is1-ssl.mzstatic.com/image/thumb/Purpl...                  4.5   \n",
       "16932  https://is1-ssl.mzstatic.com/image/thumb/Purpl...                  5.0   \n",
       "\n",
       "       User Rating Count  Price  \\\n",
       "16781                5.0    0.0   \n",
       "16789                6.0    0.0   \n",
       "16791               15.0    0.0   \n",
       "16828               14.0    0.0   \n",
       "16842               17.0    0.0   \n",
       "16856               29.0    0.0   \n",
       "16863               51.0    0.0   \n",
       "16932               11.0    0.0   \n",
       "\n",
       "                                        In-app Purchases  \\\n",
       "16781                       0.99, 1.99, 2.99, 3.99, 0.99   \n",
       "16789  7.99, 13.99, 2.99, 3.99, 7.99, 1.99, 1.99, 16....   \n",
       "16791                                               0.99   \n",
       "16828                                               2.99   \n",
       "16842     4.99, 1.99, 9.99, 4.99, 4.99, 4.99, 4.99, 4.99   \n",
       "16856  1.99, 1.99, 1.99, 2.99, 5.99, 3.99, 5.99, 2.99...   \n",
       "16863                                               9.99   \n",
       "16932                                               0.99   \n",
       "\n",
       "                                             Description  \\\n",
       "16781  Sevdi\\u011finiz partinin se\\xe7im otob\\xfcs\\xf...   \n",
       "16789  Download this idle game for free and become a ...   \n",
       "16791  A quick fun game to pass the time. The objecti...   \n",
       "16828  \"Physics game lovers enjoy this new puzzle gam...   \n",
       "16842  Fun Fast paced RTS game! Play against real pla...   \n",
       "16856  Welcome to Smartphone Tycoon! In this business...   \n",
       "16863  Jump into the world of Hero Chess, the BEST mo...   \n",
       "16932  Did you ever get confused while playing TeamFi...   \n",
       "\n",
       "                    Developer Age Rating  \\\n",
       "16781        Yeti Interactive         4+   \n",
       "16789                GameBros         4+   \n",
       "16791            Justin Nicol         4+   \n",
       "16828       Narcade Teknoloji         4+   \n",
       "16842                 Spinbot         4+   \n",
       "16856        Oleksii Cherneha         4+   \n",
       "16863  Phoenix One Games Inc.         9+   \n",
       "16932           Murilo Bastos         9+   \n",
       "\n",
       "                                               Languages         Size  \\\n",
       "16781                                                 EN  334923776.0   \n",
       "16789                                                 EN  279346176.0   \n",
       "16791                                                 EN   20638720.0   \n",
       "16828         AR, ZH, EN, FR, DE, JA, KO, PT, RU, ES, TR  189873152.0   \n",
       "16842                                                 EN  213266432.0   \n",
       "16856                                                 EN   86075392.0   \n",
       "16863  AR, NL, EN, FR, DE, ID, IT, JA, KO, PT, RU, ZH...  198211584.0   \n",
       "16932                                                 EN   44067840.0   \n",
       "\n",
       "      Primary Genre                                  Genres  \\\n",
       "16781         Games  Games, Racing, Entertainment, Strategy   \n",
       "16789         Games             Games, Strategy, Simulation   \n",
       "16791         Games                 Games, Casual, Strategy   \n",
       "16828         Games                 Games, Puzzle, Strategy   \n",
       "16842         Games                 Games, Action, Strategy   \n",
       "16856         Games             Games, Simulation, Strategy   \n",
       "16863         Games                  Games, Board, Strategy   \n",
       "16932     Utilities       Utilities, Games, Board, Strategy   \n",
       "\n",
       "      Original Release Date Current Version Release Date  \n",
       "16781            22/06/2019                    8/07/2019  \n",
       "16789            26/06/2019                   15/07/2019  \n",
       "16791            31/07/2019                   31/07/2019  \n",
       "16828             1/08/2019                    1/08/2019  \n",
       "16842             1/08/2019                    1/08/2019  \n",
       "16856            31/07/2019                   31/07/2019  \n",
       "16863            29/07/2019                   29/07/2019  \n",
       "16932             1/08/2019                    1/08/2019  "
      ]
     },
     "execution_count": 48,
     "metadata": {},
     "output_type": "execute_result"
    }
   ],
   "source": [
    "edadf[edadf[\"In-app Purchases\"].notna()].tail(8)"
   ]
  },
  {
   "cell_type": "markdown",
   "metadata": {},
   "source": [
    "As the `In-app Purchases` column contains the prices of possible purchases in the app or NaN, I suspect the NaN values are where there are no in-app purchases for that record. To further explore this column, I will separate out each price from the lists as Strings contained in each record and create a new variable to store and analyze them.\n",
    "\n",
    "The following is a function to get the frequency of values in a few columns that are multiple values stored as one String in each record, separated by commas.  It is primarily to look at the rarity of values for `In-app Purchases`, `Genres` and `Languages`."
   ]
  },
  {
   "cell_type": "code",
   "execution_count": 49,
   "metadata": {},
   "outputs": [],
   "source": [
    "def freqsorted(myseries,mytype=\"str\"):\n",
    "    '''\n",
    "    This creates a frequency dictionary from the provided pandas series of Strings by splitting each and counting unique\n",
    "    resulting values (independent of capitalization, and trailing & leading spaces). Each value is counted once per \n",
    "    series item. For instance, an item \"tree , TREe, REE\" would count 1 each for two entries in the returned list: \n",
    "    \"tree\" and \"ree\".\n",
    "    \n",
    "    Args\n",
    "        myseries (pandas Series or arraylike) : Each item in the series is a String containing values separated by commas\n",
    "        mytype (str) : it's the expected datatype of the individual elements in each value of myseries\n",
    "                        possible options are \"float\", \"int\", \"str\" and defaults to the latter\n",
    "        \n",
    "    Returns\n",
    "        (list) : item-frequency pairs sorted by most to least frequent\n",
    "    '''\n",
    "    mydict = {}\n",
    "    #create a frequency dictionary of the values of one column (a series)\n",
    "    for chars in myseries:\n",
    "        try: # a simple method to be sure the value is not null\n",
    "            length = len(chars)\n",
    "        except: # if it is null, the error causes the loop to go to the next value in the series\n",
    "            continue\n",
    "        if length>0: #if the given String is 1+ characters\n",
    "            slist = chars.split(\",\") #split prices by comma (if only one price with no commas, split puts it into \n",
    "                                    #a one-item list)\n",
    "            if mytype==\"float\" or mytype==\"int\": #dependent on expected datatype: 0.99 is equivalent to .99\n",
    "                sset = set([float(sl) for sl in slist])\n",
    "            elif mytype==\"str\": #removes trailing and leading spaces, and capitalization in each element\n",
    "                sset = set([sl.strip().lower() for sl in slist])#so \" Card\" is equivalent to \"card \"\n",
    "            for s in sset:\n",
    "                mydict[s]=mydict.get(s,0)+1 #adds each instance to the frequency dictionary\n",
    "        else: #if the value is not null and 0 characters long\n",
    "            print(\"This value is not null:\",chars)\n",
    "            continue #then should skip to next value\n",
    "    return sorted(mydict.items(), key = lambda item: item[1], reverse=True) #sorts dictionary from most to least frequent\n",
    "                                                                            #term in myseries"
   ]
  },
  {
   "cell_type": "code",
   "execution_count": 50,
   "metadata": {},
   "outputs": [
    {
     "data": {
      "text/plain": [
       "0    DA, NL, EN, FI, FR, DE, IT, JA, KO, NB, PL, PT...\n",
       "1                                                   EN\n",
       "2                                                   EN\n",
       "3    DA, NL, EN, FI, FR, DE, IT, JA, KO, NB, PL, PT...\n",
       "4    DA, NL, EN, FR, DE, EL, IT, JA, KO, NO, PT, RU...\n",
       "Name: Languages, dtype: object"
      ]
     },
     "execution_count": 50,
     "metadata": {},
     "output_type": "execute_result"
    }
   ],
   "source": [
    "edadf[\"Languages\"].head()"
   ]
  },
  {
   "cell_type": "code",
   "execution_count": 51,
   "metadata": {},
   "outputs": [
    {
     "data": {
      "text/plain": [
       "[('en', 7429),\n",
       " ('de', 1573),\n",
       " ('zh', 1548),\n",
       " ('fr', 1519),\n",
       " ('es', 1473),\n",
       " ('ja', 1354),\n",
       " ('ru', 1322),\n",
       " ('it', 1193),\n",
       " ('pt', 1142),\n",
       " ('ko', 1126),\n",
       " ('tr', 695),\n",
       " ('nl', 643),\n",
       " ('pl', 577),\n",
       " ('sv', 506),\n",
       " ('th', 404),\n",
       " ('id', 381),\n",
       " ('da', 360),\n",
       " ('cs', 359),\n",
       " ('vi', 320),\n",
       " ('nb', 319),\n",
       " ('fi', 310),\n",
       " ('ar', 299),\n",
       " ('el', 294),\n",
       " ('ms', 245),\n",
       " ('he', 236),\n",
       " ('hu', 231),\n",
       " ('ro', 216),\n",
       " ('sk', 209),\n",
       " ('ca', 184),\n",
       " ('uk', 182),\n",
       " ('hi', 90),\n",
       " ('hr', 71),\n",
       " ('fa', 49),\n",
       " ('bg', 45),\n",
       " ('no', 36),\n",
       " ('sl', 36),\n",
       " ('bn', 32),\n",
       " ('lv', 29),\n",
       " ('kn', 29),\n",
       " ('ta', 29),\n",
       " ('mr', 28),\n",
       " ('gu', 27),\n",
       " ('te', 25),\n",
       " ('ml', 24),\n",
       " ('pa', 23),\n",
       " ('sr', 18),\n",
       " ('hy', 14),\n",
       " ('lt', 13),\n",
       " ('ur', 10),\n",
       " ('nn', 10),\n",
       " ('et', 8),\n",
       " ('tl', 8),\n",
       " ('sq', 7),\n",
       " ('se', 7),\n",
       " ('af', 6),\n",
       " ('mk', 6),\n",
       " ('bs', 5),\n",
       " ('si', 4),\n",
       " ('be', 4),\n",
       " ('is', 4),\n",
       " ('my', 4),\n",
       " ('ga', 3),\n",
       " ('sw', 3),\n",
       " ('ne', 3),\n",
       " ('gl', 3),\n",
       " ('eu', 3),\n",
       " ('az', 3),\n",
       " ('ka', 3),\n",
       " ('lo', 3),\n",
       " ('km', 3),\n",
       " ('ps', 2),\n",
       " ('tg', 2),\n",
       " ('uz', 2),\n",
       " ('tk', 2),\n",
       " ('kk', 2),\n",
       " ('kl', 2),\n",
       " ('mn', 2),\n",
       " ('am', 2),\n",
       " ('cy', 2),\n",
       " ('kr', 2),\n",
       " ('zu', 1),\n",
       " ('dz', 1),\n",
       " ('fo', 1),\n",
       " ('ku', 1),\n",
       " ('jv', 1),\n",
       " ('br', 1),\n",
       " ('sd', 1),\n",
       " ('iu', 1),\n",
       " ('so', 1),\n",
       " ('la', 1),\n",
       " ('to', 1),\n",
       " ('su', 1),\n",
       " ('sa', 1),\n",
       " ('tt', 1),\n",
       " ('gn', 1),\n",
       " ('bo', 1),\n",
       " ('ay', 1),\n",
       " ('rn', 1),\n",
       " ('ks', 1),\n",
       " ('as', 1),\n",
       " ('ky', 1),\n",
       " ('gv', 1),\n",
       " ('mt', 1),\n",
       " ('ug', 1),\n",
       " ('eo', 1),\n",
       " ('rw', 1),\n",
       " ('ti', 1),\n",
       " ('gd', 1),\n",
       " ('qu', 1),\n",
       " ('om', 1),\n",
       " ('or', 1),\n",
       " ('mg', 1),\n",
       " ('yi', 1)]"
      ]
     },
     "execution_count": 51,
     "metadata": {},
     "output_type": "execute_result"
    }
   ],
   "source": [
    "langlist = freqsorted(edadf[\"Languages\"])\n",
    "langlist"
   ]
  },
  {
   "cell_type": "markdown",
   "metadata": {},
   "source": [
    "The most common is \"EN\", appearing in almost all (7501) records. The next most common languages appear in about 1500 of the records, which is about 20% of the data."
   ]
  },
  {
   "cell_type": "code",
   "execution_count": 52,
   "metadata": {
    "scrolled": true
   },
   "outputs": [
    {
     "data": {
      "text/plain": [
       "[('games', 7464),\n",
       " ('strategy', 7463),\n",
       " ('entertainment', 3679),\n",
       " ('puzzle', 1348),\n",
       " ('simulation', 1231),\n",
       " ('action', 1012),\n",
       " ('board', 839),\n",
       " ('role playing', 790),\n",
       " ('casual', 523),\n",
       " ('card', 365)]"
      ]
     },
     "execution_count": 52,
     "metadata": {},
     "output_type": "execute_result"
    }
   ],
   "source": [
    "genrelist = freqsorted(edadf[\"Genres\"])\n",
    "genrelist[:10]"
   ]
  },
  {
   "cell_type": "markdown",
   "metadata": {},
   "source": [
    "As expected for this dataset of strategy game applications, 'strategy' and 'games' are the two most common genres, appearing in all records except for one."
   ]
  },
  {
   "cell_type": "code",
   "execution_count": 53,
   "metadata": {},
   "outputs": [
    {
     "data": {
      "text/plain": [
       "[(0.99, 2860),\n",
       " (4.99, 2302),\n",
       " (1.99, 2208),\n",
       " (9.99, 1804),\n",
       " (2.99, 1640),\n",
       " (19.99, 1255),\n",
       " (49.99, 811),\n",
       " (3.99, 783),\n",
       " (99.99, 661),\n",
       " (5.99, 372)]"
      ]
     },
     "execution_count": 53,
     "metadata": {},
     "output_type": "execute_result"
    }
   ],
   "source": [
    "#one app may have multiple purchases available at the same price point, but this counts those as one instance\n",
    "#so this is on a per-app basis: each price point for an app is counted as one instance, no matter how many times \n",
    "#that price point appears as an In-app Purchase for a given record\n",
    "iaplist = freqsorted(edadf[\"In-app Purchases\"],mytype=\"float\")\n",
    "iaplist[:10]"
   ]
  },
  {
   "cell_type": "code",
   "execution_count": 54,
   "metadata": {},
   "outputs": [],
   "source": [
    "#recreate the dictionary\n",
    "iapdict=dict()\n",
    "for eachpair in iaplist:\n",
    "    iapdict[eachpair[0]] = eachpair[1]"
   ]
  },
  {
   "cell_type": "code",
   "execution_count": 55,
   "metadata": {},
   "outputs": [
    {
     "data": {
      "text/plain": [
       "2"
      ]
     },
     "execution_count": 55,
     "metadata": {},
     "output_type": "execute_result"
    }
   ],
   "source": [
    "iapdict[199.99]"
   ]
  },
  {
   "cell_type": "code",
   "execution_count": 56,
   "metadata": {
    "scrolled": true
   },
   "outputs": [
    {
     "data": {
      "text/plain": [
       "[(0.99, 2860),\n",
       " (4.99, 2302),\n",
       " (1.99, 2208),\n",
       " (9.99, 1804),\n",
       " (2.99, 1640),\n",
       " (19.99, 1255),\n",
       " (49.99, 811),\n",
       " (3.99, 783),\n",
       " (99.99, 661),\n",
       " (5.99, 372),\n",
       " (7.99, 314),\n",
       " (6.99, 289),\n",
       " (29.99, 287),\n",
       " (14.99, 287),\n",
       " (24.99, 209),\n",
       " (8.99, 206),\n",
       " (11.99, 115),\n",
       " (39.99, 98),\n",
       " (17.99, 87),\n",
       " (15.99, 75),\n",
       " (12.99, 74),\n",
       " (10.99, 59),\n",
       " (13.99, 56),\n",
       " (89.99, 42),\n",
       " (79.99, 40),\n",
       " (44.99, 35),\n",
       " (59.99, 34),\n",
       " (18.99, 33),\n",
       " (25.99, 28),\n",
       " (34.99, 26),\n",
       " (69.99, 24),\n",
       " (16.99, 21),\n",
       " (0.0, 20),\n",
       " (54.99, 20),\n",
       " (94.99, 19),\n",
       " (26.99, 18),\n",
       " (21.99, 17),\n",
       " (45.99, 16),\n",
       " (20.99, 16),\n",
       " (22.99, 15),\n",
       " (64.99, 14),\n",
       " (23.99, 14),\n",
       " (31.99, 14),\n",
       " (35.99, 12),\n",
       " (27.99, 11),\n",
       " (74.99, 11),\n",
       " (28.99, 10),\n",
       " (48.99, 9),\n",
       " (30.99, 8),\n",
       " (33.99, 6),\n",
       " (40.99, 6),\n",
       " (46.99, 5),\n",
       " (84.99, 5),\n",
       " (5.49, 4),\n",
       " (37.99, 4),\n",
       " (4.49, 4),\n",
       " (32.99, 4),\n",
       " (38.99, 3),\n",
       " (36.99, 2),\n",
       " (8.49, 2),\n",
       " (199.99, 2),\n",
       " (2.49, 2),\n",
       " (109.99, 2),\n",
       " (47.99, 2),\n",
       " (43.99, 2),\n",
       " (1.49, 2),\n",
       " (7.49, 2),\n",
       " (9.49, 2),\n",
       " (41.99, 2),\n",
       " (23.49, 1),\n",
       " (129.99, 1),\n",
       " (169.99, 1),\n",
       " (139.99, 1),\n",
       " (119.99, 1),\n",
       " (3.49, 1),\n",
       " (19.49, 1)]"
      ]
     },
     "execution_count": 56,
     "metadata": {},
     "output_type": "execute_result"
    }
   ],
   "source": [
    "iaplist"
   ]
  },
  {
   "cell_type": "code",
   "execution_count": 57,
   "metadata": {
    "scrolled": true
   },
   "outputs": [
    {
     "data": {
      "text/plain": [
       "[(0.0, 20),\n",
       " (0.99, 2860),\n",
       " (1.49, 2),\n",
       " (1.99, 2208),\n",
       " (2.49, 2),\n",
       " (2.99, 1640),\n",
       " (3.49, 1),\n",
       " (3.99, 783),\n",
       " (4.49, 4),\n",
       " (4.99, 2302),\n",
       " (5.49, 4),\n",
       " (5.99, 372),\n",
       " (6.99, 289),\n",
       " (7.49, 2),\n",
       " (7.99, 314),\n",
       " (8.49, 2),\n",
       " (8.99, 206),\n",
       " (9.49, 2),\n",
       " (9.99, 1804),\n",
       " (10.99, 59),\n",
       " (11.99, 115),\n",
       " (12.99, 74),\n",
       " (13.99, 56),\n",
       " (14.99, 287),\n",
       " (15.99, 75),\n",
       " (16.99, 21),\n",
       " (17.99, 87),\n",
       " (18.99, 33),\n",
       " (19.49, 1),\n",
       " (19.99, 1255),\n",
       " (20.99, 16),\n",
       " (21.99, 17),\n",
       " (22.99, 15),\n",
       " (23.49, 1),\n",
       " (23.99, 14),\n",
       " (24.99, 209),\n",
       " (25.99, 28),\n",
       " (26.99, 18),\n",
       " (27.99, 11),\n",
       " (28.99, 10),\n",
       " (29.99, 287),\n",
       " (30.99, 8),\n",
       " (31.99, 14),\n",
       " (32.99, 4),\n",
       " (33.99, 6),\n",
       " (34.99, 26),\n",
       " (35.99, 12),\n",
       " (36.99, 2),\n",
       " (37.99, 4),\n",
       " (38.99, 3),\n",
       " (39.99, 98),\n",
       " (40.99, 6),\n",
       " (41.99, 2),\n",
       " (43.99, 2),\n",
       " (44.99, 35),\n",
       " (45.99, 16),\n",
       " (46.99, 5),\n",
       " (47.99, 2),\n",
       " (48.99, 9),\n",
       " (49.99, 811),\n",
       " (54.99, 20),\n",
       " (59.99, 34),\n",
       " (64.99, 14),\n",
       " (69.99, 24),\n",
       " (74.99, 11),\n",
       " (79.99, 40),\n",
       " (84.99, 5),\n",
       " (89.99, 42),\n",
       " (94.99, 19),\n",
       " (99.99, 661),\n",
       " (109.99, 2),\n",
       " (119.99, 1),\n",
       " (129.99, 1),\n",
       " (139.99, 1),\n",
       " (169.99, 1),\n",
       " (199.99, 2)]"
      ]
     },
     "execution_count": 57,
     "metadata": {},
     "output_type": "execute_result"
    }
   ],
   "source": [
    "sorted(iapdict.items(),key = lambda pair: pair[0],reverse=False)"
   ]
  },
  {
   "cell_type": "code",
   "execution_count": 58,
   "metadata": {
    "scrolled": false
   },
   "outputs": [
    {
     "data": {
      "image/png": "[encoded data removed]",
      "text/plain": [
       "<Figure size 720x576 with 1 Axes>"
      ]
     },
     "metadata": {
      "needs_background": "light"
     },
     "output_type": "display_data"
    }
   ],
   "source": [
    "#plot of in-app purchase prices and their frequencies\n",
    "plt.figure(figsize=(10,8))\n",
    "plt.scatter(iapdict.keys(),iapdict.values())\n",
    "\n",
    "pts = 18 #font pt size\n",
    "\n",
    "plt.rc('axes', titlesize=pts, labelsize=pts)     # font size of the axes titles and labels\n",
    "plt.rc('xtick', labelsize=pts)    # font size of the tick labels\n",
    "plt.rc('ytick', labelsize=pts)    # font size of the tick labels\n",
    "plt.rc('figure', titlesize=pts+2) #title font size, slightly larger than the other text\n",
    "    \n",
    "plt.ylabel('Frequency')\n",
    "plt.xlabel('Prices')\n",
    "plt.title(f'Frequency of Values in In-app Purchases')\n",
    "\n",
    "xaxislist=[0]*5#5 values and ticks total, 0 to 199.99\n",
    "for i in range(0,5):\n",
    "    xaxislist[i]=round((199.99/4)*i,2) #dividing by 4 and multiplying by 0 1 2 3 4 to get the appropriate value\n",
    "plt.xticks(range(0,77,19),xaxislist) #19 x 4 = 76, so the range gives 0 19 38 57 76\n",
    "\n",
    "plt.show()"
   ]
  },
  {
   "cell_type": "markdown",
   "metadata": {},
   "source": [
    "The original plot had 77 ticks numbered from 0 to 76 along the x-axis and looked cluttered, so I used 5 ticks (4, a factor of 76, plus 1) and divided up the range of 0 to 199.99, inclusive, at evenly-spaced intervals."
   ]
  },
  {
   "cell_type": "markdown",
   "metadata": {},
   "source": [
    "In order, the six most common prices are .99, 4.99, 1.99, 9.99, 2.99, and 19.99, all but one of which are under 10.\n",
    "The boundaries for buckets I propose are:\n",
    "1. 0 or null\n",
    "2. 0.49 to 0.99 (the smallest nonzero price is 0.49)\n",
    "3. 1.49 to 1.99\n",
    "4. 2.49 to 19.49\n",
    "5. 19.99 to 48.99\n",
    "6. 49.99 to 199.99"
   ]
  },
  {
   "cell_type": "code",
   "execution_count": 59,
   "metadata": {},
   "outputs": [],
   "source": [
    "#creating a list of the bucket boundaries to cover all possible values in In-app Purchases\n",
    "iap_bins = [0,.99,1.99,19.49,48.99,199.99]"
   ]
  },
  {
   "cell_type": "markdown",
   "metadata": {},
   "source": [
    "### Creating Dummy Dataframes for Categorical Data"
   ]
  },
  {
   "cell_type": "code",
   "execution_count": 60,
   "metadata": {},
   "outputs": [],
   "source": [
    "#putting the proposed bins for In-app Purchases into the form of a function\n",
    "def findcol(amt, bounds=[0,.99,1.99,19.49,48.99,199.99]): #amt is a float or a format that can be converted to a float\n",
    "    '''\n",
    "    A function specific to the In-App Purchases data to determine which bin a number falls in.\n",
    "    It returns the value of the upper bound as a String or the String \"none\" if amt is 0.\n",
    "    \n",
    "    Args\n",
    "        amt (float or can be converted) : a positive number that can be converted to a float, falling between 0 and the \n",
    "                                            last item in bounds, inclusive.\n",
    "        bounds (index-able arraylike of floats or ints) : a series of six numbers in ascending order starting at 0 to serve\n",
    "                                                            as buckets\n",
    "    Returns:\n",
    "        (str) : the upper bound of the two numbers amt fell between, inclusive of the upper, exclusive of the lower; \n",
    "                or \"none\" if amt=0\n",
    "    '''\n",
    "    amt = float(amt)\n",
    "    \n",
    "    if amt==0:\n",
    "        return \"none\"\n",
    "    elif amt<=bounds[1]:\n",
    "        return str(bounds[1])\n",
    "    elif amt<=bounds[2]:\n",
    "        return str(bounds[2])\n",
    "    elif amt<=bounds[3]:\n",
    "        return str(bounds[3])\n",
    "    elif amt<=bounds[4]:\n",
    "        return str(bounds[4])\n",
    "    else: # amt>bounds[4]\n",
    "        return str(bounds[5])"
   ]
  },
  {
   "cell_type": "code",
   "execution_count": 61,
   "metadata": {},
   "outputs": [],
   "source": [
    "#create dataframe solely of one categorical variable\n",
    "def dummydf(myindex,myseries,prefix,isprices=False,bins=True): #prefix for all columns in new dataframe\n",
    "    '''\n",
    "    Creates a pandas dataframe using the items in myseries to create binary columns (1 or NaN), assuming each item is\n",
    "    a String containing multiple values separated by commas. If the item contains a particular value, the resulting\n",
    "    dataframe has a column titled in the format prefix_value with a 1 at the corresponding index. Otherwise, the location\n",
    "    will be NaN.\n",
    "    \n",
    "    Args\n",
    "        myindex (pandas DataFrame Index) : the desired index values that correspond to myseries and the returned DataFrame\n",
    "        myseries (pandas Series) : a Series with the same length as myindex consisting of Strings of numbers or chars\n",
    "                                    to become columns\n",
    "        prefix (str) : the preferred prefix to be used for all of the columns of the returned DataFrame\n",
    "        isprices (boolean) : defaults to False.  If True, myseries entries NaN values are treated the same as 0.00 values\n",
    "        bins (boolean) : defaults to True, only used if isprices is True. Then, myseries is sorted into the default bins of\n",
    "                        the findcol function.\n",
    "    \n",
    "    Returns\n",
    "        (pandas DataFrame) : a dataframe containing only NaN's and 1's, with as many columns as unique values in \n",
    "                            myseries' data, once split by comma.  If isprices=True, there are six columns with \"_none\"\n",
    "                            being where a 1 indicates whether a record has null or only 0 for myseries. Records containing\n",
    "                            0 and nonzero values such as \"0.00, 0.99, 9.99\" will have NaN in the \"_none\" column.\n",
    "    '''\n",
    "    mydf = emptyframe(myindex)\n",
    "    for idx, values in zip(myindex,myseries):\n",
    "        try:\n",
    "            length = len(values)\n",
    "        except: #if there are no in-app purchases (null value)\n",
    "            mydf.loc[idx,prefix+\"_none\"] = 1\n",
    "            continue\n",
    "        if isprices: #if the column is each value is a list of prices to be sorted by the default bounds in findcol\n",
    "            if bins:#if the data will be sorted into bins\n",
    "                method = findcol #use findcol function\n",
    "            else:\n",
    "                method = str #otherwise, simply convert the number to a String\n",
    "                \n",
    "            plist = values.split(\",\") #split prices by comma\n",
    "            pfloats = set([float(pl) for pl in plist])#convert all to floats and into a set so that there is only one of \n",
    "                                                        #each price in the list\n",
    "            if len(pfloats)==1:#if there is now only one item in the list\n",
    "                for p in pfloats:#sets do not support indexing, but I can access the lone element with a loop\n",
    "                    if p == 0:\n",
    "                        colname = prefix+\"_none\"#the only in-app purchases are free, equivalent to having none\n",
    "                    else:\n",
    "                        colname= prefix+\"_\"+method(p) #or findcol, for bins\n",
    "                    mydf.loc[idx, colname] = 1\n",
    "                    continue\n",
    "            else: #if the set has more than one item\n",
    "                for p in pfloats:\n",
    "                    if p == 0: #if it has in-app purchases other than 0.0, then it can not be also in the iap_none column\n",
    "                        continue\n",
    "                    else:\n",
    "                        colname = prefix+\"_\"+method(p)#str, or findcol for bins\n",
    "                        mydf.loc[idx, colname] = 1\n",
    "        else: #myseries' values's are not lists of prices\n",
    "        #a try-exception for if there are no commas\n",
    "            try:\n",
    "                vlist = values.split(\",\") #split strings by comma\n",
    "            except: #assume, if split doesn't work, values has only one item listed\n",
    "                vlist = values.strip().lower()\n",
    "                colname=prefix+\"_\"+v\n",
    "                mydf.loc[idx, colname] = 1\n",
    "                continue\n",
    "            #remove trailing and leading spaces, lowercase, put into a set so that there is only one of each type\n",
    "            vset = set([vl.strip().lower() for vl in vlist])\n",
    "\n",
    "            for v in vset:#sets do not support indexing, but can access elements with a loop\n",
    "                colname=prefix+\"_\"+v\n",
    "                mydf.loc[idx, colname] = 1\n",
    "    return mydf.drop(columns=[1])"
   ]
  },
  {
   "cell_type": "code",
   "execution_count": 62,
   "metadata": {},
   "outputs": [
    {
     "data": {
      "text/html": [
       "<div>\n",
       "<style scoped>\n",
       "    .dataframe tbody tr th:only-of-type {\n",
       "        vertical-align: middle;\n",
       "    }\n",
       "\n",
       "    .dataframe tbody tr th {\n",
       "        vertical-align: top;\n",
       "    }\n",
       "\n",
       "    .dataframe thead th {\n",
       "        text-align: right;\n",
       "    }\n",
       "</style>\n",
       "<table border=\"1\" class=\"dataframe\">\n",
       "  <thead>\n",
       "    <tr style=\"text-align: right;\">\n",
       "      <th></th>\n",
       "      <th>lang_ko</th>\n",
       "      <th>lang_nl</th>\n",
       "      <th>lang_ja</th>\n",
       "      <th>lang_pl</th>\n",
       "      <th>lang_it</th>\n",
       "      <th>lang_pt</th>\n",
       "      <th>lang_sv</th>\n",
       "      <th>lang_en</th>\n",
       "      <th>lang_fr</th>\n",
       "      <th>lang_nb</th>\n",
       "      <th>...</th>\n",
       "      <th>lang_ug</th>\n",
       "      <th>lang_eo</th>\n",
       "      <th>lang_rw</th>\n",
       "      <th>lang_ti</th>\n",
       "      <th>lang_gd</th>\n",
       "      <th>lang_qu</th>\n",
       "      <th>lang_om</th>\n",
       "      <th>lang_or</th>\n",
       "      <th>lang_mg</th>\n",
       "      <th>lang_yi</th>\n",
       "    </tr>\n",
       "  </thead>\n",
       "  <tbody>\n",
       "    <tr>\n",
       "      <td>0</td>\n",
       "      <td>1.0</td>\n",
       "      <td>1.0</td>\n",
       "      <td>1.0</td>\n",
       "      <td>1.0</td>\n",
       "      <td>1.0</td>\n",
       "      <td>1.0</td>\n",
       "      <td>1.0</td>\n",
       "      <td>1.0</td>\n",
       "      <td>1.0</td>\n",
       "      <td>1.0</td>\n",
       "      <td>...</td>\n",
       "      <td>NaN</td>\n",
       "      <td>NaN</td>\n",
       "      <td>NaN</td>\n",
       "      <td>NaN</td>\n",
       "      <td>NaN</td>\n",
       "      <td>NaN</td>\n",
       "      <td>NaN</td>\n",
       "      <td>NaN</td>\n",
       "      <td>NaN</td>\n",
       "      <td>NaN</td>\n",
       "    </tr>\n",
       "    <tr>\n",
       "      <td>1</td>\n",
       "      <td>NaN</td>\n",
       "      <td>NaN</td>\n",
       "      <td>NaN</td>\n",
       "      <td>NaN</td>\n",
       "      <td>NaN</td>\n",
       "      <td>NaN</td>\n",
       "      <td>NaN</td>\n",
       "      <td>1.0</td>\n",
       "      <td>NaN</td>\n",
       "      <td>NaN</td>\n",
       "      <td>...</td>\n",
       "      <td>NaN</td>\n",
       "      <td>NaN</td>\n",
       "      <td>NaN</td>\n",
       "      <td>NaN</td>\n",
       "      <td>NaN</td>\n",
       "      <td>NaN</td>\n",
       "      <td>NaN</td>\n",
       "      <td>NaN</td>\n",
       "      <td>NaN</td>\n",
       "      <td>NaN</td>\n",
       "    </tr>\n",
       "    <tr>\n",
       "      <td>2</td>\n",
       "      <td>NaN</td>\n",
       "      <td>NaN</td>\n",
       "      <td>NaN</td>\n",
       "      <td>NaN</td>\n",
       "      <td>NaN</td>\n",
       "      <td>NaN</td>\n",
       "      <td>NaN</td>\n",
       "      <td>1.0</td>\n",
       "      <td>NaN</td>\n",
       "      <td>NaN</td>\n",
       "      <td>...</td>\n",
       "      <td>NaN</td>\n",
       "      <td>NaN</td>\n",
       "      <td>NaN</td>\n",
       "      <td>NaN</td>\n",
       "      <td>NaN</td>\n",
       "      <td>NaN</td>\n",
       "      <td>NaN</td>\n",
       "      <td>NaN</td>\n",
       "      <td>NaN</td>\n",
       "      <td>NaN</td>\n",
       "    </tr>\n",
       "    <tr>\n",
       "      <td>3</td>\n",
       "      <td>1.0</td>\n",
       "      <td>1.0</td>\n",
       "      <td>1.0</td>\n",
       "      <td>1.0</td>\n",
       "      <td>1.0</td>\n",
       "      <td>1.0</td>\n",
       "      <td>1.0</td>\n",
       "      <td>1.0</td>\n",
       "      <td>1.0</td>\n",
       "      <td>1.0</td>\n",
       "      <td>...</td>\n",
       "      <td>NaN</td>\n",
       "      <td>NaN</td>\n",
       "      <td>NaN</td>\n",
       "      <td>NaN</td>\n",
       "      <td>NaN</td>\n",
       "      <td>NaN</td>\n",
       "      <td>NaN</td>\n",
       "      <td>NaN</td>\n",
       "      <td>NaN</td>\n",
       "      <td>NaN</td>\n",
       "    </tr>\n",
       "    <tr>\n",
       "      <td>4</td>\n",
       "      <td>1.0</td>\n",
       "      <td>1.0</td>\n",
       "      <td>1.0</td>\n",
       "      <td>NaN</td>\n",
       "      <td>1.0</td>\n",
       "      <td>1.0</td>\n",
       "      <td>1.0</td>\n",
       "      <td>1.0</td>\n",
       "      <td>1.0</td>\n",
       "      <td>NaN</td>\n",
       "      <td>...</td>\n",
       "      <td>NaN</td>\n",
       "      <td>NaN</td>\n",
       "      <td>NaN</td>\n",
       "      <td>NaN</td>\n",
       "      <td>NaN</td>\n",
       "      <td>NaN</td>\n",
       "      <td>NaN</td>\n",
       "      <td>NaN</td>\n",
       "      <td>NaN</td>\n",
       "      <td>NaN</td>\n",
       "    </tr>\n",
       "  </tbody>\n",
       "</table>\n",
       "<p>5 rows × 113 columns</p>\n",
       "</div>"
      ],
      "text/plain": [
       "   lang_ko  lang_nl  lang_ja  lang_pl  lang_it  lang_pt  lang_sv  lang_en  \\\n",
       "0      1.0      1.0      1.0      1.0      1.0      1.0      1.0      1.0   \n",
       "1      NaN      NaN      NaN      NaN      NaN      NaN      NaN      1.0   \n",
       "2      NaN      NaN      NaN      NaN      NaN      NaN      NaN      1.0   \n",
       "3      1.0      1.0      1.0      1.0      1.0      1.0      1.0      1.0   \n",
       "4      1.0      1.0      1.0      NaN      1.0      1.0      1.0      1.0   \n",
       "\n",
       "   lang_fr  lang_nb  ...  lang_ug  lang_eo  lang_rw  lang_ti  lang_gd  \\\n",
       "0      1.0      1.0  ...      NaN      NaN      NaN      NaN      NaN   \n",
       "1      NaN      NaN  ...      NaN      NaN      NaN      NaN      NaN   \n",
       "2      NaN      NaN  ...      NaN      NaN      NaN      NaN      NaN   \n",
       "3      1.0      1.0  ...      NaN      NaN      NaN      NaN      NaN   \n",
       "4      1.0      NaN  ...      NaN      NaN      NaN      NaN      NaN   \n",
       "\n",
       "   lang_qu  lang_om  lang_or  lang_mg  lang_yi  \n",
       "0      NaN      NaN      NaN      NaN      NaN  \n",
       "1      NaN      NaN      NaN      NaN      NaN  \n",
       "2      NaN      NaN      NaN      NaN      NaN  \n",
       "3      NaN      NaN      NaN      NaN      NaN  \n",
       "4      NaN      NaN      NaN      NaN      NaN  \n",
       "\n",
       "[5 rows x 113 columns]"
      ]
     },
     "execution_count": 62,
     "metadata": {},
     "output_type": "execute_result"
    }
   ],
   "source": [
    "langdf = dummydf(edadf.index,edadf[\"Languages\"],\"lang\")\n",
    "langdf.head()"
   ]
  },
  {
   "cell_type": "code",
   "execution_count": 63,
   "metadata": {},
   "outputs": [
    {
     "data": {
      "text/html": [
       "<div>\n",
       "<style scoped>\n",
       "    .dataframe tbody tr th:only-of-type {\n",
       "        vertical-align: middle;\n",
       "    }\n",
       "\n",
       "    .dataframe tbody tr th {\n",
       "        vertical-align: top;\n",
       "    }\n",
       "\n",
       "    .dataframe thead th {\n",
       "        text-align: right;\n",
       "    }\n",
       "</style>\n",
       "<table border=\"1\" class=\"dataframe\">\n",
       "  <thead>\n",
       "    <tr style=\"text-align: right;\">\n",
       "      <th></th>\n",
       "      <th>genr_puzzle</th>\n",
       "      <th>genr_games</th>\n",
       "      <th>genr_strategy</th>\n",
       "      <th>genr_board</th>\n",
       "      <th>genr_education</th>\n",
       "      <th>genr_entertainment</th>\n",
       "      <th>genr_casual</th>\n",
       "      <th>genr_action</th>\n",
       "      <th>genr_card</th>\n",
       "      <th>genr_simulation</th>\n",
       "      <th>...</th>\n",
       "      <th>genr_food &amp; drink</th>\n",
       "      <th>genr_news</th>\n",
       "      <th>genr_photo &amp; video</th>\n",
       "      <th>genr_emoji &amp; expressions</th>\n",
       "      <th>genr_stickers</th>\n",
       "      <th>genr_gaming</th>\n",
       "      <th>genr_shopping</th>\n",
       "      <th>genr_kids &amp; family</th>\n",
       "      <th>genr_weather</th>\n",
       "      <th>genr_magazines &amp; newspapers</th>\n",
       "    </tr>\n",
       "  </thead>\n",
       "  <tbody>\n",
       "    <tr>\n",
       "      <td>16950</td>\n",
       "      <td>1.0</td>\n",
       "      <td>1.0</td>\n",
       "      <td>1.0</td>\n",
       "      <td>NaN</td>\n",
       "      <td>NaN</td>\n",
       "      <td>1.0</td>\n",
       "      <td>NaN</td>\n",
       "      <td>NaN</td>\n",
       "      <td>NaN</td>\n",
       "      <td>NaN</td>\n",
       "      <td>...</td>\n",
       "      <td>NaN</td>\n",
       "      <td>NaN</td>\n",
       "      <td>NaN</td>\n",
       "      <td>NaN</td>\n",
       "      <td>NaN</td>\n",
       "      <td>NaN</td>\n",
       "      <td>NaN</td>\n",
       "      <td>NaN</td>\n",
       "      <td>NaN</td>\n",
       "      <td>NaN</td>\n",
       "    </tr>\n",
       "    <tr>\n",
       "      <td>16956</td>\n",
       "      <td>NaN</td>\n",
       "      <td>1.0</td>\n",
       "      <td>1.0</td>\n",
       "      <td>NaN</td>\n",
       "      <td>NaN</td>\n",
       "      <td>1.0</td>\n",
       "      <td>NaN</td>\n",
       "      <td>1.0</td>\n",
       "      <td>NaN</td>\n",
       "      <td>NaN</td>\n",
       "      <td>...</td>\n",
       "      <td>NaN</td>\n",
       "      <td>NaN</td>\n",
       "      <td>NaN</td>\n",
       "      <td>NaN</td>\n",
       "      <td>NaN</td>\n",
       "      <td>NaN</td>\n",
       "      <td>NaN</td>\n",
       "      <td>NaN</td>\n",
       "      <td>NaN</td>\n",
       "      <td>NaN</td>\n",
       "    </tr>\n",
       "    <tr>\n",
       "      <td>16962</td>\n",
       "      <td>NaN</td>\n",
       "      <td>1.0</td>\n",
       "      <td>1.0</td>\n",
       "      <td>NaN</td>\n",
       "      <td>NaN</td>\n",
       "      <td>NaN</td>\n",
       "      <td>NaN</td>\n",
       "      <td>NaN</td>\n",
       "      <td>NaN</td>\n",
       "      <td>1.0</td>\n",
       "      <td>...</td>\n",
       "      <td>NaN</td>\n",
       "      <td>NaN</td>\n",
       "      <td>NaN</td>\n",
       "      <td>NaN</td>\n",
       "      <td>NaN</td>\n",
       "      <td>NaN</td>\n",
       "      <td>NaN</td>\n",
       "      <td>NaN</td>\n",
       "      <td>NaN</td>\n",
       "      <td>NaN</td>\n",
       "    </tr>\n",
       "    <tr>\n",
       "      <td>16967</td>\n",
       "      <td>NaN</td>\n",
       "      <td>1.0</td>\n",
       "      <td>1.0</td>\n",
       "      <td>NaN</td>\n",
       "      <td>NaN</td>\n",
       "      <td>NaN</td>\n",
       "      <td>NaN</td>\n",
       "      <td>NaN</td>\n",
       "      <td>NaN</td>\n",
       "      <td>1.0</td>\n",
       "      <td>...</td>\n",
       "      <td>NaN</td>\n",
       "      <td>NaN</td>\n",
       "      <td>NaN</td>\n",
       "      <td>NaN</td>\n",
       "      <td>NaN</td>\n",
       "      <td>NaN</td>\n",
       "      <td>NaN</td>\n",
       "      <td>NaN</td>\n",
       "      <td>NaN</td>\n",
       "      <td>NaN</td>\n",
       "    </tr>\n",
       "    <tr>\n",
       "      <td>16993</td>\n",
       "      <td>NaN</td>\n",
       "      <td>1.0</td>\n",
       "      <td>1.0</td>\n",
       "      <td>1.0</td>\n",
       "      <td>NaN</td>\n",
       "      <td>NaN</td>\n",
       "      <td>NaN</td>\n",
       "      <td>NaN</td>\n",
       "      <td>NaN</td>\n",
       "      <td>NaN</td>\n",
       "      <td>...</td>\n",
       "      <td>NaN</td>\n",
       "      <td>NaN</td>\n",
       "      <td>NaN</td>\n",
       "      <td>NaN</td>\n",
       "      <td>NaN</td>\n",
       "      <td>NaN</td>\n",
       "      <td>NaN</td>\n",
       "      <td>NaN</td>\n",
       "      <td>NaN</td>\n",
       "      <td>NaN</td>\n",
       "    </tr>\n",
       "  </tbody>\n",
       "</table>\n",
       "<p>5 rows × 41 columns</p>\n",
       "</div>"
      ],
      "text/plain": [
       "       genr_puzzle  genr_games  genr_strategy  genr_board  genr_education  \\\n",
       "16950          1.0         1.0            1.0         NaN             NaN   \n",
       "16956          NaN         1.0            1.0         NaN             NaN   \n",
       "16962          NaN         1.0            1.0         NaN             NaN   \n",
       "16967          NaN         1.0            1.0         NaN             NaN   \n",
       "16993          NaN         1.0            1.0         1.0             NaN   \n",
       "\n",
       "       genr_entertainment  genr_casual  genr_action  genr_card  \\\n",
       "16950                 1.0          NaN          NaN        NaN   \n",
       "16956                 1.0          NaN          1.0        NaN   \n",
       "16962                 NaN          NaN          NaN        NaN   \n",
       "16967                 NaN          NaN          NaN        NaN   \n",
       "16993                 NaN          NaN          NaN        NaN   \n",
       "\n",
       "       genr_simulation  ...  genr_food & drink  genr_news  genr_photo & video  \\\n",
       "16950              NaN  ...                NaN        NaN                 NaN   \n",
       "16956              NaN  ...                NaN        NaN                 NaN   \n",
       "16962              1.0  ...                NaN        NaN                 NaN   \n",
       "16967              1.0  ...                NaN        NaN                 NaN   \n",
       "16993              NaN  ...                NaN        NaN                 NaN   \n",
       "\n",
       "       genr_emoji & expressions  genr_stickers  genr_gaming  genr_shopping  \\\n",
       "16950                       NaN            NaN          NaN            NaN   \n",
       "16956                       NaN            NaN          NaN            NaN   \n",
       "16962                       NaN            NaN          NaN            NaN   \n",
       "16967                       NaN            NaN          NaN            NaN   \n",
       "16993                       NaN            NaN          NaN            NaN   \n",
       "\n",
       "       genr_kids & family  genr_weather  genr_magazines & newspapers  \n",
       "16950                 NaN           NaN                          NaN  \n",
       "16956                 NaN           NaN                          NaN  \n",
       "16962                 NaN           NaN                          NaN  \n",
       "16967                 NaN           NaN                          NaN  \n",
       "16993                 NaN           NaN                          NaN  \n",
       "\n",
       "[5 rows x 41 columns]"
      ]
     },
     "execution_count": 63,
     "metadata": {},
     "output_type": "execute_result"
    }
   ],
   "source": [
    "genredf = dummydf(edadf.index,edadf[\"Genres\"],\"genr\")\n",
    "genredf.tail()"
   ]
  },
  {
   "cell_type": "code",
   "execution_count": 64,
   "metadata": {
    "scrolled": true
   },
   "outputs": [
    {
     "name": "stdout",
     "output_type": "stream",
     "text": [
      "<class 'pandas.core.frame.DataFrame'>\n",
      "Int64Index: 7464 entries, 0 to 16993\n",
      "Data columns (total 76 columns):\n",
      "iap_none      2896 non-null float64\n",
      "iap_1.99      2208 non-null float64\n",
      "iap_0.99      2860 non-null float64\n",
      "iap_4.99      2302 non-null float64\n",
      "iap_2.99      1640 non-null float64\n",
      "iap_5.99      372 non-null float64\n",
      "iap_9.99      1804 non-null float64\n",
      "iap_99.99     661 non-null float64\n",
      "iap_5.49      4 non-null float64\n",
      "iap_36.99     2 non-null float64\n",
      "iap_13.99     56 non-null float64\n",
      "iap_49.99     811 non-null float64\n",
      "iap_19.99     1255 non-null float64\n",
      "iap_23.49     1 non-null float64\n",
      "iap_29.99     287 non-null float64\n",
      "iap_7.99      314 non-null float64\n",
      "iap_3.99      783 non-null float64\n",
      "iap_6.99      289 non-null float64\n",
      "iap_14.99     287 non-null float64\n",
      "iap_34.99     26 non-null float64\n",
      "iap_24.99     209 non-null float64\n",
      "iap_8.49      2 non-null float64\n",
      "iap_37.99     4 non-null float64\n",
      "iap_199.99    2 non-null float64\n",
      "iap_11.99     115 non-null float64\n",
      "iap_15.99     75 non-null float64\n",
      "iap_8.99      206 non-null float64\n",
      "iap_16.99     21 non-null float64\n",
      "iap_39.99     98 non-null float64\n",
      "iap_2.49      2 non-null float64\n",
      "iap_22.99     15 non-null float64\n",
      "iap_129.99    1 non-null float64\n",
      "iap_12.99     74 non-null float64\n",
      "iap_109.99    2 non-null float64\n",
      "iap_17.99     87 non-null float64\n",
      "iap_27.99     11 non-null float64\n",
      "iap_74.99     11 non-null float64\n",
      "iap_94.99     19 non-null float64\n",
      "iap_79.99     40 non-null float64\n",
      "iap_35.99     12 non-null float64\n",
      "iap_64.99     14 non-null float64\n",
      "iap_59.99     34 non-null float64\n",
      "iap_4.49      4 non-null float64\n",
      "iap_44.99     35 non-null float64\n",
      "iap_89.99     42 non-null float64\n",
      "iap_25.99     28 non-null float64\n",
      "iap_33.99     6 non-null float64\n",
      "iap_69.99     24 non-null float64\n",
      "iap_18.99     33 non-null float64\n",
      "iap_28.99     10 non-null float64\n",
      "iap_21.99     17 non-null float64\n",
      "iap_10.99     59 non-null float64\n",
      "iap_54.99     20 non-null float64\n",
      "iap_169.99    1 non-null float64\n",
      "iap_32.99     4 non-null float64\n",
      "iap_46.99     5 non-null float64\n",
      "iap_30.99     8 non-null float64\n",
      "iap_139.99    1 non-null float64\n",
      "iap_23.99     14 non-null float64\n",
      "iap_45.99     16 non-null float64\n",
      "iap_38.99     3 non-null float64\n",
      "iap_47.99     2 non-null float64\n",
      "iap_20.99     16 non-null float64\n",
      "iap_31.99     14 non-null float64\n",
      "iap_84.99     5 non-null float64\n",
      "iap_43.99     2 non-null float64\n",
      "iap_40.99     6 non-null float64\n",
      "iap_48.99     9 non-null float64\n",
      "iap_26.99     18 non-null float64\n",
      "iap_1.49      2 non-null float64\n",
      "iap_119.99    1 non-null float64\n",
      "iap_3.49      1 non-null float64\n",
      "iap_19.49     1 non-null float64\n",
      "iap_7.49      2 non-null float64\n",
      "iap_9.49      2 non-null float64\n",
      "iap_41.99     2 non-null float64\n",
      "dtypes: float64(76)\n",
      "memory usage: 4.7 MB\n"
     ]
    }
   ],
   "source": [
    "iapdf = dummydf(edadf.index,edadf[\"In-app Purchases\"],\"iap\",True,bins=False)\n",
    "iapdf.info()"
   ]
  },
  {
   "cell_type": "code",
   "execution_count": 65,
   "metadata": {},
   "outputs": [
    {
     "name": "stdout",
     "output_type": "stream",
     "text": [
      "<class 'pandas.core.frame.DataFrame'>\n",
      "Int64Index: 7464 entries, 0 to 16993\n",
      "Data columns (total 6 columns):\n",
      "iapb_none      2896 non-null float64\n",
      "iapb_1.99      2209 non-null float64\n",
      "iapb_0.99      2860 non-null float64\n",
      "iapb_19.49     3579 non-null float64\n",
      "iapb_199.99    1080 non-null float64\n",
      "iapb_48.99     1730 non-null float64\n",
      "dtypes: float64(6)\n",
      "memory usage: 728.2 KB\n"
     ]
    }
   ],
   "source": [
    "binsiapdf = dummydf(edadf.index,edadf[\"In-app Purchases\"],\"iapb\",True,bins=True)\n",
    "binsiapdf.info()"
   ]
  },
  {
   "cell_type": "markdown",
   "metadata": {},
   "source": [
    "The `binsiapdf` has a more even distribution, but even then, the two-highest bins could be combined to still be less than the $0.99$ and $19.49$ bins, the latter of which appears in almost half of all records."
   ]
  },
  {
   "cell_type": "code",
   "execution_count": 66,
   "metadata": {},
   "outputs": [],
   "source": [
    "#save both as CSV files to resume work with later\n",
    "iapdf.to_csv(\"files/iap7464.csv\")\n",
    "binsiapdf.to_csv(\"files/binsiap7464.csv\")"
   ]
  },
  {
   "cell_type": "markdown",
   "metadata": {},
   "source": [
    "### Converting Age Rating with `get_dummies`\n",
    "`Age Rating` is a more straightforward column of Strings, with four possibilities (no records have null values in it), of which no record can have more than one.  A game rated 4+ will not also have the rating 12+ although it is true that a game rated 4+ is suitable for anyone 4 and older, including those users 12 and older.  One rating suffices for each record (no lists like `Languages`) so it's simple to use `pandas.get_dummies` to create a dummy dataframe."
   ]
  },
  {
   "cell_type": "code",
   "execution_count": 67,
   "metadata": {},
   "outputs": [
    {
     "data": {
      "text/plain": [
       "4+     0.590836\n",
       "9+     0.193998\n",
       "12+    0.176715\n",
       "17+    0.038451\n",
       "Name: Age Rating, dtype: float64"
      ]
     },
     "execution_count": 67,
     "metadata": {},
     "output_type": "execute_result"
    }
   ],
   "source": [
    "#see the percentage of values in Age Rating\n",
    "edadf[\"Age Rating\"].value_counts(normalize=True)"
   ]
  },
  {
   "cell_type": "code",
   "execution_count": 68,
   "metadata": {},
   "outputs": [
    {
     "data": {
      "text/html": [
       "<div>\n",
       "<style scoped>\n",
       "    .dataframe tbody tr th:only-of-type {\n",
       "        vertical-align: middle;\n",
       "    }\n",
       "\n",
       "    .dataframe tbody tr th {\n",
       "        vertical-align: top;\n",
       "    }\n",
       "\n",
       "    .dataframe thead th {\n",
       "        text-align: right;\n",
       "    }\n",
       "</style>\n",
       "<table border=\"1\" class=\"dataframe\">\n",
       "  <thead>\n",
       "    <tr style=\"text-align: right;\">\n",
       "      <th>Age Rating</th>\n",
       "      <th>12+</th>\n",
       "      <th>17+</th>\n",
       "      <th>4+</th>\n",
       "      <th>9+</th>\n",
       "    </tr>\n",
       "  </thead>\n",
       "  <tbody>\n",
       "    <tr>\n",
       "      <td>16950</td>\n",
       "      <td>1</td>\n",
       "      <td>0</td>\n",
       "      <td>0</td>\n",
       "      <td>0</td>\n",
       "    </tr>\n",
       "    <tr>\n",
       "      <td>16956</td>\n",
       "      <td>0</td>\n",
       "      <td>0</td>\n",
       "      <td>1</td>\n",
       "      <td>0</td>\n",
       "    </tr>\n",
       "    <tr>\n",
       "      <td>16962</td>\n",
       "      <td>0</td>\n",
       "      <td>0</td>\n",
       "      <td>0</td>\n",
       "      <td>1</td>\n",
       "    </tr>\n",
       "    <tr>\n",
       "      <td>16967</td>\n",
       "      <td>0</td>\n",
       "      <td>0</td>\n",
       "      <td>1</td>\n",
       "      <td>0</td>\n",
       "    </tr>\n",
       "    <tr>\n",
       "      <td>16993</td>\n",
       "      <td>0</td>\n",
       "      <td>0</td>\n",
       "      <td>1</td>\n",
       "      <td>0</td>\n",
       "    </tr>\n",
       "  </tbody>\n",
       "</table>\n",
       "</div>"
      ],
      "text/plain": [
       "Age Rating  12+  17+  4+  9+\n",
       "16950         1    0   0   0\n",
       "16956         0    0   1   0\n",
       "16962         0    0   0   1\n",
       "16967         0    0   1   0\n",
       "16993         0    0   1   0"
      ]
     },
     "execution_count": 68,
     "metadata": {},
     "output_type": "execute_result"
    }
   ],
   "source": [
    "#convert Age Rating to category type, then use get_dummies\n",
    "edadf[\"Age Rating\"]=edadf[\"Age Rating\"].astype('category')\n",
    "ageRatingdf = pd.get_dummies(edadf[\"Age Rating\"])\n",
    "ageRatingdf.set_index(edadf.index)\n",
    "ageRatingdf.tail()"
   ]
  },
  {
   "cell_type": "markdown",
   "metadata": {},
   "source": [
    "### Dates Conversion, Creating Binary Categorical and Length of Text Numerical Columns\n",
    "The next several cells create a dataframe with converting other variables from text to a numerical value as follows:\n",
    "\n",
    "- Description $\\rightarrow$ DescripLength: the length of the text in the app's description\n",
    "- Name $\\rightarrow$ NameLength: the length of the app's name\n",
    "- Subtitle $\\rightarrow$ HasSubtitle: whether the `Subtitle` for that record is null ($1$ if it has a subtitle)\n",
    "- Current Version Release Date $\\rightarrow$ UpToDate : $1$ if the app's latest release was within the six months prior to the latest Original Release Date of the `edadf` version of the dataset\n",
    "- Average User Rating $\\rightarrow$ Target : $1$ is the rating is 4.5 or above, $0$ if 4 or lower"
   ]
  },
  {
   "cell_type": "code",
   "execution_count": 69,
   "metadata": {},
   "outputs": [],
   "source": [
    "#convert Date columns into pandas datetime format\n",
    "edadf[\"Original Release Date\"] = pd.to_datetime(edadf[\"Original Release Date\"])\n",
    "edadf[\"Current Version Release Date\"] = pd.to_datetime(edadf[\"Current Version Release Date\"])"
   ]
  },
  {
   "cell_type": "code",
   "execution_count": 70,
   "metadata": {},
   "outputs": [
    {
     "data": {
      "text/plain": [
       "16950   2019-07-31\n",
       "16956   2019-07-23\n",
       "16962   2019-07-31\n",
       "16967   2019-07-28\n",
       "16993   2019-07-30\n",
       "Name: Original Release Date, dtype: datetime64[ns]"
      ]
     },
     "execution_count": 70,
     "metadata": {},
     "output_type": "execute_result"
    }
   ],
   "source": [
    "#considering the dates for when the apps were first released\n",
    "origRel = edadf[\"Original Release Date\"]\n",
    "origRel[-5:]"
   ]
  },
  {
   "cell_type": "code",
   "execution_count": 71,
   "metadata": {},
   "outputs": [
    {
     "data": {
      "text/plain": [
       "16451   2019-12-04\n",
       "16096   2019-12-05\n",
       "16589   2019-12-05\n",
       "15257   2019-12-06\n",
       "16355   2019-12-06\n",
       "Name: Original Release Date, dtype: datetime64[ns]"
      ]
     },
     "execution_count": 71,
     "metadata": {},
     "output_type": "execute_result"
    }
   ],
   "source": [
    "#the most recent release of the whole dataset\n",
    "sortOrig = origRel.sort_values(ascending=True)\n",
    "sortOrig.tail()"
   ]
  },
  {
   "cell_type": "code",
   "execution_count": 72,
   "metadata": {},
   "outputs": [],
   "source": [
    "earliest = pd.to_datetime(sortOrig[0:1].values[0])\n",
    "latest = pd.to_datetime(sortOrig[-1:].values[0])"
   ]
  },
  {
   "cell_type": "code",
   "execution_count": 73,
   "metadata": {},
   "outputs": [
    {
     "name": "stdout",
     "output_type": "stream",
     "text": [
      "The dates range from 2008-01-08 00:00:00 to 2019-12-06 00:00:00.\n"
     ]
    }
   ],
   "source": [
    "#seeing the earliest and latest dates for Original Release\n",
    "print(\"The dates range from {} to {}.\".format(earliest,latest))"
   ]
  },
  {
   "cell_type": "code",
   "execution_count": 74,
   "metadata": {},
   "outputs": [
    {
     "data": {
      "text/html": [
       "<div>\n",
       "<style scoped>\n",
       "    .dataframe tbody tr th:only-of-type {\n",
       "        vertical-align: middle;\n",
       "    }\n",
       "\n",
       "    .dataframe tbody tr th {\n",
       "        vertical-align: top;\n",
       "    }\n",
       "\n",
       "    .dataframe thead th {\n",
       "        text-align: right;\n",
       "    }\n",
       "</style>\n",
       "<table border=\"1\" class=\"dataframe\">\n",
       "  <thead>\n",
       "    <tr style=\"text-align: right;\">\n",
       "      <th></th>\n",
       "      <th>NameLength</th>\n",
       "      <th>HasSubtitle</th>\n",
       "      <th>DescripLength</th>\n",
       "      <th>UpToDate</th>\n",
       "      <th>Target</th>\n",
       "    </tr>\n",
       "  </thead>\n",
       "  <tbody>\n",
       "    <tr>\n",
       "      <td>0</td>\n",
       "      <td>NaN</td>\n",
       "      <td>NaN</td>\n",
       "      <td>NaN</td>\n",
       "      <td>NaN</td>\n",
       "      <td>NaN</td>\n",
       "    </tr>\n",
       "    <tr>\n",
       "      <td>1</td>\n",
       "      <td>NaN</td>\n",
       "      <td>NaN</td>\n",
       "      <td>NaN</td>\n",
       "      <td>NaN</td>\n",
       "      <td>NaN</td>\n",
       "    </tr>\n",
       "  </tbody>\n",
       "</table>\n",
       "</div>"
      ],
      "text/plain": [
       "   NameLength  HasSubtitle  DescripLength  UpToDate  Target\n",
       "0         NaN          NaN            NaN       NaN     NaN\n",
       "1         NaN          NaN            NaN       NaN     NaN"
      ]
     },
     "execution_count": 74,
     "metadata": {},
     "output_type": "execute_result"
    }
   ],
   "source": [
    "#create empty dataframe to store binary categorical columns and length of Strings columns\n",
    "columnNames =[\"NameLength\",\"HasSubtitle\",\"DescripLength\",\"UpToDate\",\"Target\"]\n",
    "placedf = pd.DataFrame(data=np.nan,columns=columnNames,index=edadf.index)\n",
    "placedf.head(2)"
   ]
  },
  {
   "cell_type": "code",
   "execution_count": 75,
   "metadata": {},
   "outputs": [
    {
     "name": "stdout",
     "output_type": "stream",
     "text": [
      "<class 'pandas.core.frame.DataFrame'>\n",
      "Int64Index: 7464 entries, 0 to 16993\n",
      "Data columns (total 18 columns):\n",
      "URL                             7464 non-null object\n",
      "ID                              7464 non-null int64\n",
      "Name                            7464 non-null object\n",
      "Subtitle                        2689 non-null object\n",
      "Icon URL                        7464 non-null object\n",
      "Average User Rating             7464 non-null float64\n",
      "User Rating Count               7464 non-null float64\n",
      "Price                           7464 non-null float64\n",
      "In-app Purchases                4573 non-null object\n",
      "Description                     7464 non-null object\n",
      "Developer                       7464 non-null object\n",
      "Age Rating                      7464 non-null category\n",
      "Languages                       7464 non-null object\n",
      "Size                            7464 non-null float64\n",
      "Primary Genre                   7464 non-null object\n",
      "Genres                          7464 non-null object\n",
      "Original Release Date           7464 non-null datetime64[ns]\n",
      "Current Version Release Date    7464 non-null datetime64[ns]\n",
      "dtypes: category(1), datetime64[ns](2), float64(4), int64(1), object(10)\n",
      "memory usage: 1.3+ MB\n"
     ]
    }
   ],
   "source": [
    "edadf.info()"
   ]
  },
  {
   "cell_type": "code",
   "execution_count": 76,
   "metadata": {},
   "outputs": [],
   "source": [
    "#creating categorical and numerical variables: \"Target\", \"NameLength\", \"HasSubtitle\",\"DescripLength\",\"UpToDate\"\n",
    "\n",
    "#the latest Original Release Date was 2019-12-06, so six months before is 2019-06-06\n",
    "halfYearAgo = latest - pd.DateOffset(months=6)\n",
    "\n",
    "for idx,row in zip(edadf.index,edadf.values):#loop through by row of edadf\n",
    "    try: #whether the Subtitle value is null\n",
    "        sublen = len(row[3])\n",
    "        if (sublen>0):\n",
    "            placedf.loc[idx,\"HasSubtitle\"] = 1\n",
    "    except:#if it is null, HasSubtitle is 0\n",
    "        placedf.loc[idx,\"HasSubtitle\"] = 0\n",
    "        \n",
    "    curRelease = row[17]#the time code for the Current Version Release Date (date last updated)\n",
    "    if curRelease>halfYearAgo: #if between 2019-06-06 and 2019-12-06\n",
    "        placedf.loc[idx,\"UpToDate\"] = 1\n",
    "    \n",
    "    #adding data to the columns for the length of characters in the Name and Description\n",
    "    placedf.loc[idx,\"NameLength\"] = len(row[2])\n",
    "    placedf.loc[idx,\"DescripLength\"] = len(row[9])\n",
    "    \n",
    "    #the target column is 1 for 4.5 or more, 0 is 4.0 or lower\n",
    "    if row[5]>=4.5:\n",
    "        placedf.loc[idx,\"Target\"] = 1"
   ]
  },
  {
   "cell_type": "code",
   "execution_count": 77,
   "metadata": {},
   "outputs": [
    {
     "data": {
      "text/html": [
       "<div>\n",
       "<style scoped>\n",
       "    .dataframe tbody tr th:only-of-type {\n",
       "        vertical-align: middle;\n",
       "    }\n",
       "\n",
       "    .dataframe tbody tr th {\n",
       "        vertical-align: top;\n",
       "    }\n",
       "\n",
       "    .dataframe thead th {\n",
       "        text-align: right;\n",
       "    }\n",
       "</style>\n",
       "<table border=\"1\" class=\"dataframe\">\n",
       "  <thead>\n",
       "    <tr style=\"text-align: right;\">\n",
       "      <th></th>\n",
       "      <th>NameLength</th>\n",
       "      <th>HasSubtitle</th>\n",
       "      <th>DescripLength</th>\n",
       "      <th>UpToDate</th>\n",
       "      <th>Target</th>\n",
       "    </tr>\n",
       "  </thead>\n",
       "  <tbody>\n",
       "    <tr>\n",
       "      <td>16950</td>\n",
       "      <td>8.0</td>\n",
       "      <td>1.0</td>\n",
       "      <td>547.0</td>\n",
       "      <td>1.0</td>\n",
       "      <td>NaN</td>\n",
       "    </tr>\n",
       "    <tr>\n",
       "      <td>16956</td>\n",
       "      <td>11.0</td>\n",
       "      <td>0.0</td>\n",
       "      <td>102.0</td>\n",
       "      <td>1.0</td>\n",
       "      <td>1.0</td>\n",
       "    </tr>\n",
       "    <tr>\n",
       "      <td>16962</td>\n",
       "      <td>18.0</td>\n",
       "      <td>1.0</td>\n",
       "      <td>134.0</td>\n",
       "      <td>1.0</td>\n",
       "      <td>1.0</td>\n",
       "    </tr>\n",
       "    <tr>\n",
       "      <td>16967</td>\n",
       "      <td>18.0</td>\n",
       "      <td>1.0</td>\n",
       "      <td>722.0</td>\n",
       "      <td>1.0</td>\n",
       "      <td>1.0</td>\n",
       "    </tr>\n",
       "    <tr>\n",
       "      <td>16993</td>\n",
       "      <td>21.0</td>\n",
       "      <td>1.0</td>\n",
       "      <td>257.0</td>\n",
       "      <td>1.0</td>\n",
       "      <td>1.0</td>\n",
       "    </tr>\n",
       "  </tbody>\n",
       "</table>\n",
       "</div>"
      ],
      "text/plain": [
       "       NameLength  HasSubtitle  DescripLength  UpToDate  Target\n",
       "16950         8.0          1.0          547.0       1.0     NaN\n",
       "16956        11.0          0.0          102.0       1.0     1.0\n",
       "16962        18.0          1.0          134.0       1.0     1.0\n",
       "16967        18.0          1.0          722.0       1.0     1.0\n",
       "16993        21.0          1.0          257.0       1.0     1.0"
      ]
     },
     "execution_count": 77,
     "metadata": {},
     "output_type": "execute_result"
    }
   ],
   "source": [
    "placedf.tail()"
   ]
  },
  {
   "cell_type": "markdown",
   "metadata": {},
   "source": [
    "The new DataFrame `placedf` looks as expected.  The remaining null values can be filled in with 0's."
   ]
  },
  {
   "cell_type": "markdown",
   "metadata": {},
   "source": [
    "### Combining all previously-created dummy dataframes with numeric and categorical data"
   ]
  },
  {
   "cell_type": "code",
   "execution_count": 78,
   "metadata": {},
   "outputs": [
    {
     "name": "stdout",
     "output_type": "stream",
     "text": [
      "(7464, 5)\n",
      "(7464, 113)\n",
      "(7464, 76)\n",
      "(7464, 41)\n",
      "(7464, 6)\n"
     ]
    }
   ],
   "source": [
    "#fill in all NaN values with 0\n",
    "for eachdf in [placedf,langdf,iapdf,genredf,binsiapdf]:\n",
    "    eachdf.fillna(value=0,inplace=True)\n",
    "    print(eachdf.shape)"
   ]
  },
  {
   "cell_type": "markdown",
   "metadata": {},
   "source": [
    "The resulting shapes for each are as expected; 7464 rows in each."
   ]
  },
  {
   "cell_type": "code",
   "execution_count": 79,
   "metadata": {},
   "outputs": [
    {
     "name": "stdout",
     "output_type": "stream",
     "text": [
      "<class 'pandas.core.frame.DataFrame'>\n",
      "Int64Index: 7464 entries, 0 to 16993\n",
      "Data columns (total 18 columns):\n",
      "URL                             7464 non-null object\n",
      "ID                              7464 non-null int64\n",
      "Name                            7464 non-null object\n",
      "Subtitle                        2689 non-null object\n",
      "Icon URL                        7464 non-null object\n",
      "Average User Rating             7464 non-null float64\n",
      "User Rating Count               7464 non-null float64\n",
      "Price                           7464 non-null float64\n",
      "In-app Purchases                4573 non-null object\n",
      "Description                     7464 non-null object\n",
      "Developer                       7464 non-null object\n",
      "Age Rating                      7464 non-null category\n",
      "Languages                       7464 non-null object\n",
      "Size                            7464 non-null float64\n",
      "Primary Genre                   7464 non-null object\n",
      "Genres                          7464 non-null object\n",
      "Original Release Date           7464 non-null datetime64[ns]\n",
      "Current Version Release Date    7464 non-null datetime64[ns]\n",
      "dtypes: category(1), datetime64[ns](2), float64(4), int64(1), object(10)\n",
      "memory usage: 1.3+ MB\n"
     ]
    }
   ],
   "source": [
    "edadf.info()"
   ]
  },
  {
   "cell_type": "markdown",
   "metadata": {},
   "source": [
    "The numerical features are `ID`, `Average User Rating`, `User Rating Count`, `Price`, and `Size`.  `Average User Rating` was already turned into `Target` and `ID` is ostensibly a categorical variable that contains little information as it pertains to this project's modeling question.  As such, the other three features will be included in the model as-is."
   ]
  },
  {
   "cell_type": "code",
   "execution_count": 80,
   "metadata": {},
   "outputs": [
    {
     "name": "stdout",
     "output_type": "stream",
     "text": [
      "<class 'pandas.core.frame.DataFrame'>\n",
      "Int64Index: 7464 entries, 0 to 16993\n",
      "Data columns (total 3 columns):\n",
      "User Rating Count    7464 non-null float64\n",
      "Price                7464 non-null float64\n",
      "Size                 7464 non-null float64\n",
      "dtypes: float64(3)\n",
      "memory usage: 553.2 KB\n"
     ]
    }
   ],
   "source": [
    "#taking the already numerical features from the DataFrame edadf\n",
    "#except Average User Rating, which became Target, and ID, which is a categorical variable at heart\n",
    "restdf = edadf[[\"User Rating Count\",\"Price\",\"Size\"]]\n",
    "restdf.info()"
   ]
  },
  {
   "cell_type": "code",
   "execution_count": 81,
   "metadata": {},
   "outputs": [
    {
     "data": {
      "text/html": [
       "<div>\n",
       "<style scoped>\n",
       "    .dataframe tbody tr th:only-of-type {\n",
       "        vertical-align: middle;\n",
       "    }\n",
       "\n",
       "    .dataframe tbody tr th {\n",
       "        vertical-align: top;\n",
       "    }\n",
       "\n",
       "    .dataframe thead th {\n",
       "        text-align: right;\n",
       "    }\n",
       "</style>\n",
       "<table border=\"1\" class=\"dataframe\">\n",
       "  <thead>\n",
       "    <tr style=\"text-align: right;\">\n",
       "      <th></th>\n",
       "      <th>User Rating Count</th>\n",
       "      <th>Price</th>\n",
       "      <th>Size</th>\n",
       "      <th>IsCompany</th>\n",
       "      <th>12+</th>\n",
       "      <th>17+</th>\n",
       "      <th>4+</th>\n",
       "      <th>9+</th>\n",
       "    </tr>\n",
       "  </thead>\n",
       "  <tbody>\n",
       "    <tr>\n",
       "      <td>0</td>\n",
       "      <td>3553.0</td>\n",
       "      <td>2.99</td>\n",
       "      <td>15853568.0</td>\n",
       "      <td>0</td>\n",
       "      <td>0</td>\n",
       "      <td>0</td>\n",
       "      <td>1</td>\n",
       "      <td>0</td>\n",
       "    </tr>\n",
       "    <tr>\n",
       "      <td>1</td>\n",
       "      <td>284.0</td>\n",
       "      <td>1.99</td>\n",
       "      <td>12328960.0</td>\n",
       "      <td>0</td>\n",
       "      <td>0</td>\n",
       "      <td>0</td>\n",
       "      <td>1</td>\n",
       "      <td>0</td>\n",
       "    </tr>\n",
       "    <tr>\n",
       "      <td>2</td>\n",
       "      <td>8376.0</td>\n",
       "      <td>0.00</td>\n",
       "      <td>674816.0</td>\n",
       "      <td>0</td>\n",
       "      <td>0</td>\n",
       "      <td>0</td>\n",
       "      <td>1</td>\n",
       "      <td>0</td>\n",
       "    </tr>\n",
       "    <tr>\n",
       "      <td>3</td>\n",
       "      <td>190394.0</td>\n",
       "      <td>0.00</td>\n",
       "      <td>21552128.0</td>\n",
       "      <td>0</td>\n",
       "      <td>0</td>\n",
       "      <td>0</td>\n",
       "      <td>1</td>\n",
       "      <td>0</td>\n",
       "    </tr>\n",
       "    <tr>\n",
       "      <td>4</td>\n",
       "      <td>28.0</td>\n",
       "      <td>2.99</td>\n",
       "      <td>34689024.0</td>\n",
       "      <td>0</td>\n",
       "      <td>0</td>\n",
       "      <td>0</td>\n",
       "      <td>1</td>\n",
       "      <td>0</td>\n",
       "    </tr>\n",
       "    <tr>\n",
       "      <td>5</td>\n",
       "      <td>47.0</td>\n",
       "      <td>0.00</td>\n",
       "      <td>48672768.0</td>\n",
       "      <td>1</td>\n",
       "      <td>0</td>\n",
       "      <td>0</td>\n",
       "      <td>1</td>\n",
       "      <td>0</td>\n",
       "    </tr>\n",
       "    <tr>\n",
       "      <td>7</td>\n",
       "      <td>125.0</td>\n",
       "      <td>0.99</td>\n",
       "      <td>64333824.0</td>\n",
       "      <td>0</td>\n",
       "      <td>0</td>\n",
       "      <td>0</td>\n",
       "      <td>1</td>\n",
       "      <td>0</td>\n",
       "    </tr>\n",
       "    <tr>\n",
       "      <td>8</td>\n",
       "      <td>44.0</td>\n",
       "      <td>0.00</td>\n",
       "      <td>2657280.0</td>\n",
       "      <td>0</td>\n",
       "      <td>0</td>\n",
       "      <td>0</td>\n",
       "      <td>1</td>\n",
       "      <td>0</td>\n",
       "    </tr>\n",
       "    <tr>\n",
       "      <td>9</td>\n",
       "      <td>184.0</td>\n",
       "      <td>0.00</td>\n",
       "      <td>1466515.0</td>\n",
       "      <td>0</td>\n",
       "      <td>0</td>\n",
       "      <td>0</td>\n",
       "      <td>1</td>\n",
       "      <td>0</td>\n",
       "    </tr>\n",
       "    <tr>\n",
       "      <td>11</td>\n",
       "      <td>5072.0</td>\n",
       "      <td>0.00</td>\n",
       "      <td>7086403.0</td>\n",
       "      <td>0</td>\n",
       "      <td>0</td>\n",
       "      <td>0</td>\n",
       "      <td>1</td>\n",
       "      <td>0</td>\n",
       "    </tr>\n",
       "  </tbody>\n",
       "</table>\n",
       "</div>"
      ],
      "text/plain": [
       "    User Rating Count  Price        Size  IsCompany  12+  17+  4+  9+\n",
       "0              3553.0   2.99  15853568.0          0    0    0   1   0\n",
       "1               284.0   1.99  12328960.0          0    0    0   1   0\n",
       "2              8376.0   0.00    674816.0          0    0    0   1   0\n",
       "3            190394.0   0.00  21552128.0          0    0    0   1   0\n",
       "4                28.0   2.99  34689024.0          0    0    0   1   0\n",
       "5                47.0   0.00  48672768.0          1    0    0   1   0\n",
       "7               125.0   0.99  64333824.0          0    0    0   1   0\n",
       "8                44.0   0.00   2657280.0          0    0    0   1   0\n",
       "9               184.0   0.00   1466515.0          0    0    0   1   0\n",
       "11             5072.0   0.00   7086403.0          0    0    0   1   0"
      ]
     },
     "execution_count": 81,
     "metadata": {},
     "output_type": "execute_result"
    }
   ],
   "source": [
    "#concatenate restdf together with the IsCompany column from devcodf and the dummy ageRatingdf\n",
    "restdf = pd.concat([restdf,devcodf.IsCompany,ageRatingdf],axis=1)\n",
    "restdf.head(10)"
   ]
  },
  {
   "cell_type": "code",
   "execution_count": 82,
   "metadata": {},
   "outputs": [
    {
     "data": {
      "text/html": [
       "<div>\n",
       "<style scoped>\n",
       "    .dataframe tbody tr th:only-of-type {\n",
       "        vertical-align: middle;\n",
       "    }\n",
       "\n",
       "    .dataframe tbody tr th {\n",
       "        vertical-align: top;\n",
       "    }\n",
       "\n",
       "    .dataframe thead th {\n",
       "        text-align: right;\n",
       "    }\n",
       "</style>\n",
       "<table border=\"1\" class=\"dataframe\">\n",
       "  <thead>\n",
       "    <tr style=\"text-align: right;\">\n",
       "      <th></th>\n",
       "      <th>NameLength</th>\n",
       "      <th>HasSubtitle</th>\n",
       "      <th>DescripLength</th>\n",
       "      <th>UpToDate</th>\n",
       "      <th>Target</th>\n",
       "      <th>iap_none</th>\n",
       "      <th>iap_1.99</th>\n",
       "      <th>iap_0.99</th>\n",
       "      <th>iap_4.99</th>\n",
       "      <th>iap_2.99</th>\n",
       "      <th>...</th>\n",
       "      <th>genr_weather</th>\n",
       "      <th>genr_magazines &amp; newspapers</th>\n",
       "      <th>User Rating Count</th>\n",
       "      <th>Price</th>\n",
       "      <th>Size</th>\n",
       "      <th>IsCompany</th>\n",
       "      <th>12+</th>\n",
       "      <th>17+</th>\n",
       "      <th>4+</th>\n",
       "      <th>9+</th>\n",
       "    </tr>\n",
       "  </thead>\n",
       "  <tbody>\n",
       "    <tr>\n",
       "      <td>0</td>\n",
       "      <td>6.0</td>\n",
       "      <td>0.0</td>\n",
       "      <td>1617.0</td>\n",
       "      <td>0.0</td>\n",
       "      <td>0.0</td>\n",
       "      <td>1.0</td>\n",
       "      <td>0.0</td>\n",
       "      <td>0.0</td>\n",
       "      <td>0.0</td>\n",
       "      <td>0.0</td>\n",
       "      <td>...</td>\n",
       "      <td>0.0</td>\n",
       "      <td>0.0</td>\n",
       "      <td>3553.0</td>\n",
       "      <td>2.99</td>\n",
       "      <td>15853568.0</td>\n",
       "      <td>0</td>\n",
       "      <td>0</td>\n",
       "      <td>0</td>\n",
       "      <td>1</td>\n",
       "      <td>0</td>\n",
       "    </tr>\n",
       "    <tr>\n",
       "      <td>1</td>\n",
       "      <td>7.0</td>\n",
       "      <td>0.0</td>\n",
       "      <td>1222.0</td>\n",
       "      <td>0.0</td>\n",
       "      <td>0.0</td>\n",
       "      <td>1.0</td>\n",
       "      <td>0.0</td>\n",
       "      <td>0.0</td>\n",
       "      <td>0.0</td>\n",
       "      <td>0.0</td>\n",
       "      <td>...</td>\n",
       "      <td>0.0</td>\n",
       "      <td>0.0</td>\n",
       "      <td>284.0</td>\n",
       "      <td>1.99</td>\n",
       "      <td>12328960.0</td>\n",
       "      <td>0</td>\n",
       "      <td>0</td>\n",
       "      <td>0</td>\n",
       "      <td>1</td>\n",
       "      <td>0</td>\n",
       "    </tr>\n",
       "    <tr>\n",
       "      <td>2</td>\n",
       "      <td>7.0</td>\n",
       "      <td>0.0</td>\n",
       "      <td>582.0</td>\n",
       "      <td>0.0</td>\n",
       "      <td>0.0</td>\n",
       "      <td>1.0</td>\n",
       "      <td>0.0</td>\n",
       "      <td>0.0</td>\n",
       "      <td>0.0</td>\n",
       "      <td>0.0</td>\n",
       "      <td>...</td>\n",
       "      <td>0.0</td>\n",
       "      <td>0.0</td>\n",
       "      <td>8376.0</td>\n",
       "      <td>0.00</td>\n",
       "      <td>674816.0</td>\n",
       "      <td>0</td>\n",
       "      <td>0</td>\n",
       "      <td>0</td>\n",
       "      <td>1</td>\n",
       "      <td>0</td>\n",
       "    </tr>\n",
       "    <tr>\n",
       "      <td>3</td>\n",
       "      <td>13.0</td>\n",
       "      <td>0.0</td>\n",
       "      <td>1675.0</td>\n",
       "      <td>0.0</td>\n",
       "      <td>0.0</td>\n",
       "      <td>1.0</td>\n",
       "      <td>0.0</td>\n",
       "      <td>0.0</td>\n",
       "      <td>0.0</td>\n",
       "      <td>0.0</td>\n",
       "      <td>...</td>\n",
       "      <td>0.0</td>\n",
       "      <td>0.0</td>\n",
       "      <td>190394.0</td>\n",
       "      <td>0.00</td>\n",
       "      <td>21552128.0</td>\n",
       "      <td>0</td>\n",
       "      <td>0</td>\n",
       "      <td>0</td>\n",
       "      <td>1</td>\n",
       "      <td>0</td>\n",
       "    </tr>\n",
       "    <tr>\n",
       "      <td>4</td>\n",
       "      <td>12.0</td>\n",
       "      <td>0.0</td>\n",
       "      <td>2076.0</td>\n",
       "      <td>0.0</td>\n",
       "      <td>0.0</td>\n",
       "      <td>1.0</td>\n",
       "      <td>0.0</td>\n",
       "      <td>0.0</td>\n",
       "      <td>0.0</td>\n",
       "      <td>0.0</td>\n",
       "      <td>...</td>\n",
       "      <td>0.0</td>\n",
       "      <td>0.0</td>\n",
       "      <td>28.0</td>\n",
       "      <td>2.99</td>\n",
       "      <td>34689024.0</td>\n",
       "      <td>0</td>\n",
       "      <td>0</td>\n",
       "      <td>0</td>\n",
       "      <td>1</td>\n",
       "      <td>0</td>\n",
       "    </tr>\n",
       "  </tbody>\n",
       "</table>\n",
       "<p>5 rows × 243 columns</p>\n",
       "</div>"
      ],
      "text/plain": [
       "   NameLength  HasSubtitle  DescripLength  UpToDate  Target  iap_none  \\\n",
       "0         6.0          0.0         1617.0       0.0     0.0       1.0   \n",
       "1         7.0          0.0         1222.0       0.0     0.0       1.0   \n",
       "2         7.0          0.0          582.0       0.0     0.0       1.0   \n",
       "3        13.0          0.0         1675.0       0.0     0.0       1.0   \n",
       "4        12.0          0.0         2076.0       0.0     0.0       1.0   \n",
       "\n",
       "   iap_1.99  iap_0.99  iap_4.99  iap_2.99  ...  genr_weather  \\\n",
       "0       0.0       0.0       0.0       0.0  ...           0.0   \n",
       "1       0.0       0.0       0.0       0.0  ...           0.0   \n",
       "2       0.0       0.0       0.0       0.0  ...           0.0   \n",
       "3       0.0       0.0       0.0       0.0  ...           0.0   \n",
       "4       0.0       0.0       0.0       0.0  ...           0.0   \n",
       "\n",
       "   genr_magazines & newspapers  User Rating Count  Price        Size  \\\n",
       "0                          0.0             3553.0   2.99  15853568.0   \n",
       "1                          0.0              284.0   1.99  12328960.0   \n",
       "2                          0.0             8376.0   0.00    674816.0   \n",
       "3                          0.0           190394.0   0.00  21552128.0   \n",
       "4                          0.0               28.0   2.99  34689024.0   \n",
       "\n",
       "   IsCompany  12+  17+  4+  9+  \n",
       "0          0    0    0   1   0  \n",
       "1          0    0    0   1   0  \n",
       "2          0    0    0   1   0  \n",
       "3          0    0    0   1   0  \n",
       "4          0    0    0   1   0  \n",
       "\n",
       "[5 rows x 243 columns]"
      ]
     },
     "execution_count": 82,
     "metadata": {},
     "output_type": "execute_result"
    }
   ],
   "source": [
    "#concatentate all dataframes' features\n",
    "dectreedf = pd.concat([placedf,iapdf,langdf,genredf,restdf],axis=1)#with the non-binned version of In-app Purchases\n",
    "dectreedf.head()"
   ]
  },
  {
   "cell_type": "code",
   "execution_count": 83,
   "metadata": {},
   "outputs": [
    {
     "data": {
      "text/html": [
       "<div>\n",
       "<style scoped>\n",
       "    .dataframe tbody tr th:only-of-type {\n",
       "        vertical-align: middle;\n",
       "    }\n",
       "\n",
       "    .dataframe tbody tr th {\n",
       "        vertical-align: top;\n",
       "    }\n",
       "\n",
       "    .dataframe thead th {\n",
       "        text-align: right;\n",
       "    }\n",
       "</style>\n",
       "<table border=\"1\" class=\"dataframe\">\n",
       "  <thead>\n",
       "    <tr style=\"text-align: right;\">\n",
       "      <th></th>\n",
       "      <th>NameLength</th>\n",
       "      <th>HasSubtitle</th>\n",
       "      <th>DescripLength</th>\n",
       "      <th>UpToDate</th>\n",
       "      <th>Target</th>\n",
       "      <th>iapb_none</th>\n",
       "      <th>iapb_1.99</th>\n",
       "      <th>iapb_0.99</th>\n",
       "      <th>iapb_19.49</th>\n",
       "      <th>iapb_199.99</th>\n",
       "      <th>...</th>\n",
       "      <th>genr_weather</th>\n",
       "      <th>genr_magazines &amp; newspapers</th>\n",
       "      <th>User Rating Count</th>\n",
       "      <th>Price</th>\n",
       "      <th>Size</th>\n",
       "      <th>IsCompany</th>\n",
       "      <th>12+</th>\n",
       "      <th>17+</th>\n",
       "      <th>4+</th>\n",
       "      <th>9+</th>\n",
       "    </tr>\n",
       "  </thead>\n",
       "  <tbody>\n",
       "    <tr>\n",
       "      <td>16950</td>\n",
       "      <td>8.0</td>\n",
       "      <td>1.0</td>\n",
       "      <td>547.0</td>\n",
       "      <td>1.0</td>\n",
       "      <td>0.0</td>\n",
       "      <td>1.0</td>\n",
       "      <td>0.0</td>\n",
       "      <td>0.0</td>\n",
       "      <td>0.0</td>\n",
       "      <td>0.0</td>\n",
       "      <td>...</td>\n",
       "      <td>0.0</td>\n",
       "      <td>0.0</td>\n",
       "      <td>6.0</td>\n",
       "      <td>0.0</td>\n",
       "      <td>151308288.0</td>\n",
       "      <td>0</td>\n",
       "      <td>1</td>\n",
       "      <td>0</td>\n",
       "      <td>0</td>\n",
       "      <td>0</td>\n",
       "    </tr>\n",
       "    <tr>\n",
       "      <td>16956</td>\n",
       "      <td>11.0</td>\n",
       "      <td>0.0</td>\n",
       "      <td>102.0</td>\n",
       "      <td>1.0</td>\n",
       "      <td>1.0</td>\n",
       "      <td>1.0</td>\n",
       "      <td>0.0</td>\n",
       "      <td>0.0</td>\n",
       "      <td>0.0</td>\n",
       "      <td>0.0</td>\n",
       "      <td>...</td>\n",
       "      <td>0.0</td>\n",
       "      <td>0.0</td>\n",
       "      <td>30.0</td>\n",
       "      <td>0.0</td>\n",
       "      <td>79646720.0</td>\n",
       "      <td>0</td>\n",
       "      <td>0</td>\n",
       "      <td>0</td>\n",
       "      <td>1</td>\n",
       "      <td>0</td>\n",
       "    </tr>\n",
       "    <tr>\n",
       "      <td>16962</td>\n",
       "      <td>18.0</td>\n",
       "      <td>1.0</td>\n",
       "      <td>134.0</td>\n",
       "      <td>1.0</td>\n",
       "      <td>1.0</td>\n",
       "      <td>1.0</td>\n",
       "      <td>0.0</td>\n",
       "      <td>0.0</td>\n",
       "      <td>0.0</td>\n",
       "      <td>0.0</td>\n",
       "      <td>...</td>\n",
       "      <td>0.0</td>\n",
       "      <td>0.0</td>\n",
       "      <td>51.0</td>\n",
       "      <td>0.0</td>\n",
       "      <td>125348864.0</td>\n",
       "      <td>0</td>\n",
       "      <td>0</td>\n",
       "      <td>0</td>\n",
       "      <td>0</td>\n",
       "      <td>1</td>\n",
       "    </tr>\n",
       "    <tr>\n",
       "      <td>16967</td>\n",
       "      <td>18.0</td>\n",
       "      <td>1.0</td>\n",
       "      <td>722.0</td>\n",
       "      <td>1.0</td>\n",
       "      <td>1.0</td>\n",
       "      <td>1.0</td>\n",
       "      <td>0.0</td>\n",
       "      <td>0.0</td>\n",
       "      <td>0.0</td>\n",
       "      <td>0.0</td>\n",
       "      <td>...</td>\n",
       "      <td>0.0</td>\n",
       "      <td>0.0</td>\n",
       "      <td>5.0</td>\n",
       "      <td>0.0</td>\n",
       "      <td>128687104.0</td>\n",
       "      <td>0</td>\n",
       "      <td>0</td>\n",
       "      <td>0</td>\n",
       "      <td>1</td>\n",
       "      <td>0</td>\n",
       "    </tr>\n",
       "    <tr>\n",
       "      <td>16993</td>\n",
       "      <td>21.0</td>\n",
       "      <td>1.0</td>\n",
       "      <td>257.0</td>\n",
       "      <td>1.0</td>\n",
       "      <td>1.0</td>\n",
       "      <td>1.0</td>\n",
       "      <td>0.0</td>\n",
       "      <td>0.0</td>\n",
       "      <td>0.0</td>\n",
       "      <td>0.0</td>\n",
       "      <td>...</td>\n",
       "      <td>0.0</td>\n",
       "      <td>0.0</td>\n",
       "      <td>33.0</td>\n",
       "      <td>0.0</td>\n",
       "      <td>8845312.0</td>\n",
       "      <td>0</td>\n",
       "      <td>0</td>\n",
       "      <td>0</td>\n",
       "      <td>1</td>\n",
       "      <td>0</td>\n",
       "    </tr>\n",
       "  </tbody>\n",
       "</table>\n",
       "<p>5 rows × 173 columns</p>\n",
       "</div>"
      ],
      "text/plain": [
       "       NameLength  HasSubtitle  DescripLength  UpToDate  Target  iapb_none  \\\n",
       "16950         8.0          1.0          547.0       1.0     0.0        1.0   \n",
       "16956        11.0          0.0          102.0       1.0     1.0        1.0   \n",
       "16962        18.0          1.0          134.0       1.0     1.0        1.0   \n",
       "16967        18.0          1.0          722.0       1.0     1.0        1.0   \n",
       "16993        21.0          1.0          257.0       1.0     1.0        1.0   \n",
       "\n",
       "       iapb_1.99  iapb_0.99  iapb_19.49  iapb_199.99  ...  genr_weather  \\\n",
       "16950        0.0        0.0         0.0          0.0  ...           0.0   \n",
       "16956        0.0        0.0         0.0          0.0  ...           0.0   \n",
       "16962        0.0        0.0         0.0          0.0  ...           0.0   \n",
       "16967        0.0        0.0         0.0          0.0  ...           0.0   \n",
       "16993        0.0        0.0         0.0          0.0  ...           0.0   \n",
       "\n",
       "       genr_magazines & newspapers  User Rating Count  Price         Size  \\\n",
       "16950                          0.0                6.0    0.0  151308288.0   \n",
       "16956                          0.0               30.0    0.0   79646720.0   \n",
       "16962                          0.0               51.0    0.0  125348864.0   \n",
       "16967                          0.0                5.0    0.0  128687104.0   \n",
       "16993                          0.0               33.0    0.0    8845312.0   \n",
       "\n",
       "       IsCompany  12+  17+  4+  9+  \n",
       "16950          0    1    0   0   0  \n",
       "16956          0    0    0   1   0  \n",
       "16962          0    0    0   0   1  \n",
       "16967          0    0    0   1   0  \n",
       "16993          0    0    0   1   0  \n",
       "\n",
       "[5 rows x 173 columns]"
      ]
     },
     "execution_count": 83,
     "metadata": {},
     "output_type": "execute_result"
    }
   ],
   "source": [
    "dectreebinsdf = pd.concat([placedf,binsiapdf,langdf,genredf,restdf],axis=1)#with bins for In-app Purchases\n",
    "dectreebinsdf.tail()"
   ]
  },
  {
   "cell_type": "code",
   "execution_count": 84,
   "metadata": {},
   "outputs": [],
   "source": [
    "#saving these combined dataframes for later use in preliminary modeling\n",
    "dectreedf.to_csv(\"files/temp7464.csv\")\n",
    "dectreebinsdf.to_csv(\"files/tempbins7464.csv\")"
   ]
  },
  {
   "cell_type": "code",
   "execution_count": 85,
   "metadata": {},
   "outputs": [
    {
     "name": "stdout",
     "output_type": "stream",
     "text": [
      "The dataframe has 0 null values and a shape of (7464, 243).\n",
      "The binned dataframe has 0 null values and a shape of (7464, 173).\n"
     ]
    }
   ],
   "source": [
    "#checking whether any values are null\n",
    "print(\"The dataframe has {} null values and a shape of {}.\".format(dectreedf.isna().sum().sum(),dectreedf.shape))\n",
    "print(\"The binned dataframe has {} null values and a shape of {}.\".format(dectreebinsdf.isna().sum().sum(),\n",
    "                                                                          dectreebinsdf.shape))"
   ]
  },
  {
   "cell_type": "markdown",
   "metadata": {},
   "source": [
    "This meets expectations, as any NaN values created from the `dummydf` function have been filled in with 0 and the indices for all of the dataframes are the same as those of `edadf`."
   ]
  },
  {
   "cell_type": "code",
   "execution_count": 86,
   "metadata": {},
   "outputs": [
    {
     "data": {
      "text/html": [
       "<div>\n",
       "<style scoped>\n",
       "    .dataframe tbody tr th:only-of-type {\n",
       "        vertical-align: middle;\n",
       "    }\n",
       "\n",
       "    .dataframe tbody tr th {\n",
       "        vertical-align: top;\n",
       "    }\n",
       "\n",
       "    .dataframe thead th {\n",
       "        text-align: right;\n",
       "    }\n",
       "</style>\n",
       "<table border=\"1\" class=\"dataframe\">\n",
       "  <thead>\n",
       "    <tr style=\"text-align: right;\">\n",
       "      <th></th>\n",
       "      <th>NameLength</th>\n",
       "      <th>HasSubtitle</th>\n",
       "      <th>DescripLength</th>\n",
       "      <th>UpToDate</th>\n",
       "      <th>Target</th>\n",
       "      <th>iap_none</th>\n",
       "      <th>iap_1.99</th>\n",
       "      <th>iap_0.99</th>\n",
       "      <th>iap_4.99</th>\n",
       "      <th>iap_2.99</th>\n",
       "      <th>...</th>\n",
       "      <th>genr_weather</th>\n",
       "      <th>genr_magazines &amp; newspapers</th>\n",
       "      <th>User Rating Count</th>\n",
       "      <th>Price</th>\n",
       "      <th>Size</th>\n",
       "      <th>IsCompany</th>\n",
       "      <th>12+</th>\n",
       "      <th>17+</th>\n",
       "      <th>4+</th>\n",
       "      <th>9+</th>\n",
       "    </tr>\n",
       "  </thead>\n",
       "  <tbody>\n",
       "    <tr>\n",
       "      <td>count</td>\n",
       "      <td>7464.000000</td>\n",
       "      <td>7464.000000</td>\n",
       "      <td>7464.000000</td>\n",
       "      <td>7464.000000</td>\n",
       "      <td>7464.000000</td>\n",
       "      <td>7464.000000</td>\n",
       "      <td>7464.000000</td>\n",
       "      <td>7464.000000</td>\n",
       "      <td>7464.000000</td>\n",
       "      <td>7464.000000</td>\n",
       "      <td>...</td>\n",
       "      <td>7464.000000</td>\n",
       "      <td>7464.000000</td>\n",
       "      <td>7.464000e+03</td>\n",
       "      <td>7464.000000</td>\n",
       "      <td>7.464000e+03</td>\n",
       "      <td>7464.000000</td>\n",
       "      <td>7464.000000</td>\n",
       "      <td>7464.000000</td>\n",
       "      <td>7464.000000</td>\n",
       "      <td>7464.000000</td>\n",
       "    </tr>\n",
       "    <tr>\n",
       "      <td>mean</td>\n",
       "      <td>23.552921</td>\n",
       "      <td>0.360263</td>\n",
       "      <td>1337.098875</td>\n",
       "      <td>0.144695</td>\n",
       "      <td>0.509512</td>\n",
       "      <td>0.387996</td>\n",
       "      <td>0.295820</td>\n",
       "      <td>0.383173</td>\n",
       "      <td>0.308414</td>\n",
       "      <td>0.219721</td>\n",
       "      <td>...</td>\n",
       "      <td>0.000134</td>\n",
       "      <td>0.000134</td>\n",
       "      <td>3.314929e+03</td>\n",
       "      <td>0.570717</td>\n",
       "      <td>1.514538e+08</td>\n",
       "      <td>0.259378</td>\n",
       "      <td>0.176715</td>\n",
       "      <td>0.038451</td>\n",
       "      <td>0.590836</td>\n",
       "      <td>0.193998</td>\n",
       "    </tr>\n",
       "    <tr>\n",
       "      <td>std</td>\n",
       "      <td>14.942935</td>\n",
       "      <td>0.480109</td>\n",
       "      <td>967.395618</td>\n",
       "      <td>0.351816</td>\n",
       "      <td>0.499943</td>\n",
       "      <td>0.487326</td>\n",
       "      <td>0.456441</td>\n",
       "      <td>0.486192</td>\n",
       "      <td>0.461869</td>\n",
       "      <td>0.414086</td>\n",
       "      <td>...</td>\n",
       "      <td>0.011575</td>\n",
       "      <td>0.011575</td>\n",
       "      <td>4.258374e+04</td>\n",
       "      <td>2.425675</td>\n",
       "      <td>2.560096e+08</td>\n",
       "      <td>0.438323</td>\n",
       "      <td>0.381453</td>\n",
       "      <td>0.192296</td>\n",
       "      <td>0.491713</td>\n",
       "      <td>0.395454</td>\n",
       "    </tr>\n",
       "    <tr>\n",
       "      <td>min</td>\n",
       "      <td>1.000000</td>\n",
       "      <td>0.000000</td>\n",
       "      <td>6.000000</td>\n",
       "      <td>0.000000</td>\n",
       "      <td>0.000000</td>\n",
       "      <td>0.000000</td>\n",
       "      <td>0.000000</td>\n",
       "      <td>0.000000</td>\n",
       "      <td>0.000000</td>\n",
       "      <td>0.000000</td>\n",
       "      <td>...</td>\n",
       "      <td>0.000000</td>\n",
       "      <td>0.000000</td>\n",
       "      <td>5.000000e+00</td>\n",
       "      <td>0.000000</td>\n",
       "      <td>2.158400e+05</td>\n",
       "      <td>0.000000</td>\n",
       "      <td>0.000000</td>\n",
       "      <td>0.000000</td>\n",
       "      <td>0.000000</td>\n",
       "      <td>0.000000</td>\n",
       "    </tr>\n",
       "    <tr>\n",
       "      <td>25%</td>\n",
       "      <td>13.000000</td>\n",
       "      <td>0.000000</td>\n",
       "      <td>618.000000</td>\n",
       "      <td>0.000000</td>\n",
       "      <td>0.000000</td>\n",
       "      <td>0.000000</td>\n",
       "      <td>0.000000</td>\n",
       "      <td>0.000000</td>\n",
       "      <td>0.000000</td>\n",
       "      <td>0.000000</td>\n",
       "      <td>...</td>\n",
       "      <td>0.000000</td>\n",
       "      <td>0.000000</td>\n",
       "      <td>1.200000e+01</td>\n",
       "      <td>0.000000</td>\n",
       "      <td>3.053773e+07</td>\n",
       "      <td>0.000000</td>\n",
       "      <td>0.000000</td>\n",
       "      <td>0.000000</td>\n",
       "      <td>0.000000</td>\n",
       "      <td>0.000000</td>\n",
       "    </tr>\n",
       "    <tr>\n",
       "      <td>50%</td>\n",
       "      <td>20.000000</td>\n",
       "      <td>0.000000</td>\n",
       "      <td>1134.500000</td>\n",
       "      <td>0.000000</td>\n",
       "      <td>1.000000</td>\n",
       "      <td>0.000000</td>\n",
       "      <td>0.000000</td>\n",
       "      <td>0.000000</td>\n",
       "      <td>0.000000</td>\n",
       "      <td>0.000000</td>\n",
       "      <td>...</td>\n",
       "      <td>0.000000</td>\n",
       "      <td>0.000000</td>\n",
       "      <td>4.600000e+01</td>\n",
       "      <td>0.000000</td>\n",
       "      <td>7.926989e+07</td>\n",
       "      <td>0.000000</td>\n",
       "      <td>0.000000</td>\n",
       "      <td>0.000000</td>\n",
       "      <td>1.000000</td>\n",
       "      <td>0.000000</td>\n",
       "    </tr>\n",
       "    <tr>\n",
       "      <td>75%</td>\n",
       "      <td>29.000000</td>\n",
       "      <td>1.000000</td>\n",
       "      <td>1812.000000</td>\n",
       "      <td>0.000000</td>\n",
       "      <td>1.000000</td>\n",
       "      <td>1.000000</td>\n",
       "      <td>1.000000</td>\n",
       "      <td>1.000000</td>\n",
       "      <td>1.000000</td>\n",
       "      <td>0.000000</td>\n",
       "      <td>...</td>\n",
       "      <td>0.000000</td>\n",
       "      <td>0.000000</td>\n",
       "      <td>3.080000e+02</td>\n",
       "      <td>0.000000</td>\n",
       "      <td>1.772618e+08</td>\n",
       "      <td>1.000000</td>\n",
       "      <td>0.000000</td>\n",
       "      <td>0.000000</td>\n",
       "      <td>1.000000</td>\n",
       "      <td>0.000000</td>\n",
       "    </tr>\n",
       "    <tr>\n",
       "      <td>max</td>\n",
       "      <td>251.000000</td>\n",
       "      <td>1.000000</td>\n",
       "      <td>12494.000000</td>\n",
       "      <td>1.000000</td>\n",
       "      <td>1.000000</td>\n",
       "      <td>1.000000</td>\n",
       "      <td>1.000000</td>\n",
       "      <td>1.000000</td>\n",
       "      <td>1.000000</td>\n",
       "      <td>1.000000</td>\n",
       "      <td>...</td>\n",
       "      <td>1.000000</td>\n",
       "      <td>1.000000</td>\n",
       "      <td>3.032734e+06</td>\n",
       "      <td>139.990000</td>\n",
       "      <td>4.005591e+09</td>\n",
       "      <td>1.000000</td>\n",
       "      <td>1.000000</td>\n",
       "      <td>1.000000</td>\n",
       "      <td>1.000000</td>\n",
       "      <td>1.000000</td>\n",
       "    </tr>\n",
       "  </tbody>\n",
       "</table>\n",
       "<p>8 rows × 243 columns</p>\n",
       "</div>"
      ],
      "text/plain": [
       "        NameLength  HasSubtitle  DescripLength     UpToDate       Target  \\\n",
       "count  7464.000000  7464.000000    7464.000000  7464.000000  7464.000000   \n",
       "mean     23.552921     0.360263    1337.098875     0.144695     0.509512   \n",
       "std      14.942935     0.480109     967.395618     0.351816     0.499943   \n",
       "min       1.000000     0.000000       6.000000     0.000000     0.000000   \n",
       "25%      13.000000     0.000000     618.000000     0.000000     0.000000   \n",
       "50%      20.000000     0.000000    1134.500000     0.000000     1.000000   \n",
       "75%      29.000000     1.000000    1812.000000     0.000000     1.000000   \n",
       "max     251.000000     1.000000   12494.000000     1.000000     1.000000   \n",
       "\n",
       "          iap_none     iap_1.99     iap_0.99     iap_4.99     iap_2.99  ...  \\\n",
       "count  7464.000000  7464.000000  7464.000000  7464.000000  7464.000000  ...   \n",
       "mean      0.387996     0.295820     0.383173     0.308414     0.219721  ...   \n",
       "std       0.487326     0.456441     0.486192     0.461869     0.414086  ...   \n",
       "min       0.000000     0.000000     0.000000     0.000000     0.000000  ...   \n",
       "25%       0.000000     0.000000     0.000000     0.000000     0.000000  ...   \n",
       "50%       0.000000     0.000000     0.000000     0.000000     0.000000  ...   \n",
       "75%       1.000000     1.000000     1.000000     1.000000     0.000000  ...   \n",
       "max       1.000000     1.000000     1.000000     1.000000     1.000000  ...   \n",
       "\n",
       "       genr_weather  genr_magazines & newspapers  User Rating Count  \\\n",
       "count   7464.000000                  7464.000000       7.464000e+03   \n",
       "mean       0.000134                     0.000134       3.314929e+03   \n",
       "std        0.011575                     0.011575       4.258374e+04   \n",
       "min        0.000000                     0.000000       5.000000e+00   \n",
       "25%        0.000000                     0.000000       1.200000e+01   \n",
       "50%        0.000000                     0.000000       4.600000e+01   \n",
       "75%        0.000000                     0.000000       3.080000e+02   \n",
       "max        1.000000                     1.000000       3.032734e+06   \n",
       "\n",
       "             Price          Size    IsCompany          12+          17+  \\\n",
       "count  7464.000000  7.464000e+03  7464.000000  7464.000000  7464.000000   \n",
       "mean      0.570717  1.514538e+08     0.259378     0.176715     0.038451   \n",
       "std       2.425675  2.560096e+08     0.438323     0.381453     0.192296   \n",
       "min       0.000000  2.158400e+05     0.000000     0.000000     0.000000   \n",
       "25%       0.000000  3.053773e+07     0.000000     0.000000     0.000000   \n",
       "50%       0.000000  7.926989e+07     0.000000     0.000000     0.000000   \n",
       "75%       0.000000  1.772618e+08     1.000000     0.000000     0.000000   \n",
       "max     139.990000  4.005591e+09     1.000000     1.000000     1.000000   \n",
       "\n",
       "                4+           9+  \n",
       "count  7464.000000  7464.000000  \n",
       "mean      0.590836     0.193998  \n",
       "std       0.491713     0.395454  \n",
       "min       0.000000     0.000000  \n",
       "25%       0.000000     0.000000  \n",
       "50%       1.000000     0.000000  \n",
       "75%       1.000000     0.000000  \n",
       "max       1.000000     1.000000  \n",
       "\n",
       "[8 rows x 243 columns]"
      ]
     },
     "execution_count": 86,
     "metadata": {},
     "output_type": "execute_result"
    }
   ],
   "source": [
    "dectreedf.describe()"
   ]
  },
  {
   "cell_type": "markdown",
   "metadata": {},
   "source": [
    "For categorical variables where the values in the features are either 1 or 0, the mean in `.describe()` can be easily converted to a percentage of 1's. From the table, it can be seen that `Target` consists of 50.95% 1 values and `UpToDate` has 14.47%, while `genr_weather` has 0.01% (one-hundredth of a percent) and `17+` is at 3.84%.\n",
    "\n",
    "Interestingly, the average `Price` is 0.57 with a standard deviation of 2.43, and the 1st, 2nd and 3rd quartiles are 0."
   ]
  },
  {
   "cell_type": "markdown",
   "metadata": {},
   "source": [
    "#### Method to create a column of miscellaneous values\n",
    "Where categorical variables have only a few records in that category, could look for different results after combining those categories with $x$ or fewer records into one category of \"etc.\""
   ]
  },
  {
   "cell_type": "code",
   "execution_count": 87,
   "metadata": {},
   "outputs": [],
   "source": [
    "def combine(dataframe,prefix,threshold=100):\n",
    "    '''\n",
    "    Creates new column based on whether a value of the provided dataframe is 1 for each column that contains fewer \n",
    "    than the provided or default number of non-null entries.\n",
    "    \n",
    "    Args\n",
    "        dataframe (pandas DataFrame) : the 1's in the dataframe indicate which values to be collected into the new column\n",
    "        prefix (str) : a desired prefix for the column to be added; the column will be named prefix_etc\n",
    "        threshold (int) : defaults to 100; the values that are 1 in a column containing fewer non-null entries \n",
    "                        than threshold will be noted with a 1 at the same index in the prefix_etc column\n",
    "    \n",
    "    Returns\n",
    "        dataframe (pandas DataFrame) : dataframe with an additional column at the end named after the provided prefix \n",
    "                                    (prefix_etc), a column containing 1's at the indices where entries were 1 in an \n",
    "                                    original column that did not meet the threshold for non-null entries, and null (np.nan) \n",
    "                                    values otherwise\n",
    "        colcombine (list) : column names that were combined into the dataframe\n",
    "    '''\n",
    "    #combine those with fewer than 100 entries into another column: [prefix]_etc\n",
    "    colcombine=[]\n",
    "    hold=len(dataframe.index)-threshold #so a column would need to have more than 7437 NaN values (assuming 7537 total)\n",
    "    for colname in dataframe.columns:\n",
    "        totalnull = dataframe[colname].isna().sum() #finding how many NaN entries in a column\n",
    "        if totalnull > hold: #if the column has more than 7437 NaN values\n",
    "            colcombine.append(colname)\n",
    "        else:\n",
    "            continue\n",
    "\n",
    "    dataframe[prefix+\"_etc\"] = np.nan#create new column initialized with NaN \n",
    "\n",
    "    for idx,row in zip(dataframe.index,dataframe.values):#to loop row by row\n",
    "        for col in colcombine:#for each column with fewer than threshold records\n",
    "            try:\n",
    "                if(dataframe.loc[idx,col]==1):\n",
    "                    dataframe.loc[idx,prefix+\"_etc\"]=1 #sets that index position in [prefix]_etc as 1\n",
    "            except:#if the location is null, go to next column in colcombine\n",
    "                continue\n",
    "    \n",
    "    return dataframe, colcombine #returns modified dataframe and list of columns that were combined into prefix_etc"
   ]
  },
  {
   "cell_type": "markdown",
   "metadata": {},
   "source": [
    "In this final Notebook, I did not end up using the above method, but thought others could find it useful for their own modeling with this data."
   ]
  },
  {
   "cell_type": "markdown",
   "metadata": {},
   "source": [
    "### Stacked Bar Charts for Categorical Data"
   ]
  },
  {
   "cell_type": "code",
   "execution_count": 88,
   "metadata": {},
   "outputs": [],
   "source": [
    "def barPercentages(dataframe, targetdf):\n",
    "    '''\n",
    "    Find percentages for each column in dataframe based on each of the record's corresponding value in targetdf.\n",
    "    \n",
    "    Args\n",
    "        dataframe (pandas DataFrame or Series) : a DataFrame or Series where a 1 indicates the feature described by each \n",
    "                                                column name is present for that record\n",
    "        targetdf (pandas Series) : a value of 1 means that the record at that index matches the target\n",
    "    \n",
    "    Returns\n",
    "        positarget (list) : a list of floats as percentages for how much of each column in dataframe meets the target and\n",
    "                            has that feature\n",
    "        falstarget (list) : a list of floats as percentages for how much of each column in dataframe does not match the\n",
    "                            target and has that feature\n",
    "    '''\n",
    "    positarget=[]\n",
    "    falstarget = []\n",
    "    try:\n",
    "        cols = dataframe.columns\n",
    "    except:\n",
    "        dataframe = dataframe.to_frame() #if no .columns, can convert Series to DataFrame\n",
    "            \n",
    "    for colname in dataframe.columns:#iterate over each \"dummy\" column\n",
    "        total = sum(dataframe[colname])\n",
    "        \n",
    "        #filter a column to get the indices that have value of 1 in that column\n",
    "        indices = dataframe.loc[dataframe[colname]>0].index #the index from the dataframe where colname's values are 1\n",
    "        targetSeries = targetdf[indices] #filtering target by selected indices\n",
    "        allTrue = sum(targetSeries) #adding up all values (all records are 0 or 1) so allTrue is number of 1's\n",
    "        if total != 0:\n",
    "            percent =  allTrue/total*100\n",
    "            falsepercent = (total-allTrue)/total*100 #both percentages are from dividing by total as long as it's nonzero\n",
    "        else:\n",
    "            percent = 0 #if there are no values in a selected column, then there is no percentage\n",
    "            falsepercent=0\n",
    "            \n",
    "        positarget.append(percent) #there are no null values; just 0 if there were only 0's in dataframe's colname\n",
    "        falstarget.append(falsepercent)\n",
    "        \n",
    "    return positarget, falstarget"
   ]
  },
  {
   "cell_type": "code",
   "execution_count": 89,
   "metadata": {},
   "outputs": [],
   "source": [
    "#function to graph stacked bar charts\n",
    "def stackedbarchart(featuredf,binarytarget,dummyname,barwidth=0.3):\n",
    "    '''\n",
    "    Plots stacked bar charts created by comparing the columns given by featuredf to the binarytarget.  All records that \n",
    "        possess a feature (represented by a 1 in that column) have percentages taken of whether they match binarytarget\n",
    "        (if the value at the same index is 1). Each bar is split into these two percentages and the graph also has a \n",
    "        horizontal black line at 51, which is the binarytarget ratio across the entire dataset (51% are 1, 49% are 0). \n",
    "        Each bar has the percentage of positive for the target on the bottom and negative for the target on the top part.\n",
    "    \n",
    "    Args\n",
    "        featuredf (pandas DataFrame) : a dataframe of dummy columns (features of 1's and 0's only) with the same indices \n",
    "                                    as binarytarget, to be plotted\n",
    "        binarytarget (pandas Series) : the target with the same indices as featuredf, in 1's and 0's only, against which \n",
    "                                    to compare the data in featuredf\n",
    "        dummyname (str) : the name of the categorical variable that was turned into the dummy columns making up featuredf \n",
    "                        or the desired noun(s) to fil in the title of the plot (Percentages of Ratings by dummyname)\n",
    "        barwidth (float or int) : defaults to 0.3\n",
    "    \n",
    "    Returns\n",
    "        displays a plot of the stacked bar graph\n",
    "    '''\n",
    "    #each of the two groups becomes an array-like of values\n",
    "    N = len(featuredf.columns) #number of variables/features\n",
    "    ind = np.arange(N) #locations on the x-axis for each feature\n",
    "\n",
    "    yesTarget, notTarget = barPercentages(featuredf,binarytarget)\n",
    "    \n",
    "    colors = [[\"darkred\",\"brown\"],[\"gray\",\"darkgray\"]]\n",
    "    \n",
    "    plt.figure(figsize=(20,10))\n",
    "    bars1 = plt.bar(ind, yesTarget, barwidth, color=colors[0]) #alternating colors\n",
    "    bars2 = plt.bar(ind, notTarget, barwidth, bottom=yesTarget, color=colors[1])\n",
    "\n",
    "    plt.axhline(51,color=\"k\")\n",
    "\n",
    "    pts = 18 #font pt size\n",
    "\n",
    "    plt.rc('axes', titlesize=pts, labelsize=pts)     # font size of the axes titles and labels\n",
    "    plt.rc('xtick', labelsize=pts)    # font size of the tick labels\n",
    "    plt.rc('ytick', labelsize=pts)    # font size of the tick labels\n",
    "    plt.rc('figure', titlesize=pts+2) #title font size, slightly larger than the other text\n",
    "    \n",
    "    plt.ylabel('Percentages')\n",
    "    plt.title(f'Percentages of Ratings by {dummyname}')\n",
    "    plt.xticks(ind, featuredf.columns)\n",
    "    plt.legend((bars1[0], bars2[0]), ('4.5- or 5-rated', '4 or lower-rated'))#assuming binarytarget is from User Ratings\n",
    "    plt.show()"
   ]
  },
  {
   "cell_type": "markdown",
   "metadata": {},
   "source": [
    "## Using a Random Forest Classifier to Find Important Features"
   ]
  },
  {
   "cell_type": "code",
   "execution_count": 90,
   "metadata": {},
   "outputs": [],
   "source": [
    "def baseclassifier(data,target):\n",
    "    '''\n",
    "    This function fits a DecisionTreeClassifier to data and target, having been created with 'gini' criterion and \n",
    "    max_depth of 5.  Its feature_importances_ are then graphed with data.columns as the feature names.\n",
    "    \n",
    "    Args\n",
    "        data (pandas DataFrame) : a pandas DataFrame containing the data to be fit to the classifier with target\n",
    "        target (pandas Series) : a pandas series of containing the value predicted by data\n",
    "    \n",
    "    Returns\n",
    "        clf (DecisionTreeClassifier) : a classifier with criterion='gini' and max_depth=5 fitted to data and target\n",
    "    '''\n",
    "    clf = DecisionTreeClassifier(criterion='gini', max_depth=5) \n",
    "    clf.fit(data, target)\n",
    "    \n",
    "    return clf"
   ]
  },
  {
   "cell_type": "code",
   "execution_count": 91,
   "metadata": {},
   "outputs": [],
   "source": [
    "def importantfeatures(classifier, featnames,plot=True):\n",
    "    '''\n",
    "    This function takes in a fitted classifier and the labels that were used to create it to return a list of those labels\n",
    "    that had feature_importances_ greater than 0.\n",
    "    \n",
    "    Args\n",
    "        classifier (DecisionTreeClassifier) : a fitted classifier, from Sci-Kit Learn, with the attribute \n",
    "                                                feature_importances_\n",
    "        featnames (arraylike) : list or arraylike of feature names used in the classifier, the order and length matches \n",
    "                                classifier's feature_importances_\n",
    "        plot (boolean) : defaults to True, whether to plot a bar graph of the feature_importances_\n",
    "        \n",
    "    Returns\n",
    "        imporfeats (dict) : names of those features with classifier.feature_importances_ greater than 0 as the keys and \n",
    "                            importance as the values\n",
    "        Prints imporfeats and their corresponding importances\n",
    "        Displays a horizontal bar graph of feature importance, using the featnames as the y-axis \"Feature name\"\n",
    "    '''\n",
    "#loop through to find the names of the most important features\n",
    "    nfeatures = len(featnames)\n",
    "    imporfeats = dict()#a list to store the column names of the more important features\n",
    "    if plot:\n",
    "        imporindex = [0]#creating list of values for yticks\n",
    "        ylabels = []#creating complimentary list of labels for the y-axis\n",
    "    i=0\n",
    "    for feature, importance in zip(featnames,classifier.feature_importances_):\n",
    "        if importance>0:\n",
    "            print(feature,importance)\n",
    "            imporfeats[feature]=importance\n",
    "            if plot:\n",
    "                ylabels.append(feature)\n",
    "                if i !=0 and i!=(nfeatures-1):\n",
    "                    imporindex.append(i)\n",
    "        elif plot and (i ==0 or i==(nfeatures-1)):#to be sure the labels match up correctly with the tick mark values\n",
    "            ylabels.append(\"\")\n",
    "        \n",
    "        i+=1 #increment counter\n",
    "    #end for loop\n",
    "    \n",
    "    if plot:\n",
    "        imporindex.append(nfeatures-1)#last tick mark place\n",
    "        #begin plot of feature importance\n",
    "        plt.figure(figsize=(8,8))\n",
    "        plt.barh(range(nfeatures), classifier.feature_importances_, align='center')#horizontal bar plot with importances \n",
    "                                                                                    #on the x-axis\n",
    "        plt.yticks(imporindex,ylabels,fontsize=12)#feature names (labels) on the y-axis\n",
    "        plt.xlabel('Feature importance')\n",
    "        plt.ylabel('Feature name')\n",
    "    \n",
    "    return imporfeats"
   ]
  },
  {
   "cell_type": "code",
   "execution_count": 92,
   "metadata": {},
   "outputs": [],
   "source": [
    "def importantframe(dataframe):\n",
    "    '''\n",
    "    Makes a Pandas DataFrame containing the features that had feature_importances_ over 0 and dataframe's Target after \n",
    "    fitting a criterion='gini', max_depth=5 DecisionTreeClassifier.  The features and their importances are plotted on a \n",
    "    horizontal bar graph.\n",
    "    \n",
    "    Args\n",
    "        dataframe (Pandas DataFrame) : data from which to determine which features are important, with target stored in \n",
    "                                        column \"Target\"\n",
    "            \n",
    "    Returns\n",
    "        clsfr (DecisionTreeClassifier) : with parameters max_depth=5 and criterion=\"gini\", has been fitted to dataframe\n",
    "        newframe (Pandas DataFrame) : dataframe of only the important features (that the classifier found to have values \n",
    "                                        for feature_importances_ more than 0)\n",
    "        Prints important features and their corresponding importances.\n",
    "        Plots horizontal bar plot with clsfr.feature_importances_ on the x-axis and dataframe.columns (except Target) on \n",
    "            the y-axis.  \n",
    "    '''\n",
    "    y = dataframe.Target #creates X and y from the given dataframe\n",
    "    X = dataframe.drop(columns=\"Target\")\n",
    "    clsfr = baseclassifier(X,y) #fits a decision tree classifier with max_depth=5 and 'gini' criterion\n",
    "    \n",
    "    imporfeats = importantfeatures(clsfr, X.columns) #gets the features that had values over 0 for feature_importances_\n",
    "    newfeatures = [k for k in imporfeats.keys()]\n",
    "    newframe = pd.concat([dataframe[newfeatures],dataframe[\"Target\"]],axis=1) #creates new dataframe using only those \n",
    "                                                                                #important columns and the Target column\n",
    "    return clsfr, newframe"
   ]
  },
  {
   "cell_type": "code",
   "execution_count": 93,
   "metadata": {},
   "outputs": [],
   "source": [
    "dectreedf = getData(\"files/temp7464.csv\")\n",
    "dectreebinsdf = getData(\"files/tempbins7464.csv\")"
   ]
  },
  {
   "cell_type": "code",
   "execution_count": 94,
   "metadata": {},
   "outputs": [
    {
     "data": {
      "text/html": [
       "<div>\n",
       "<style scoped>\n",
       "    .dataframe tbody tr th:only-of-type {\n",
       "        vertical-align: middle;\n",
       "    }\n",
       "\n",
       "    .dataframe tbody tr th {\n",
       "        vertical-align: top;\n",
       "    }\n",
       "\n",
       "    .dataframe thead th {\n",
       "        text-align: right;\n",
       "    }\n",
       "</style>\n",
       "<table border=\"1\" class=\"dataframe\">\n",
       "  <thead>\n",
       "    <tr style=\"text-align: right;\">\n",
       "      <th></th>\n",
       "      <th>NameLength</th>\n",
       "      <th>HasSubtitle</th>\n",
       "      <th>DescripLength</th>\n",
       "      <th>UpToDate</th>\n",
       "      <th>Target</th>\n",
       "      <th>iap_none</th>\n",
       "      <th>iap_1.99</th>\n",
       "      <th>iap_0.99</th>\n",
       "      <th>iap_4.99</th>\n",
       "      <th>iap_2.99</th>\n",
       "      <th>...</th>\n",
       "      <th>genr_weather</th>\n",
       "      <th>genr_magazines &amp; newspapers</th>\n",
       "      <th>User Rating Count</th>\n",
       "      <th>Price</th>\n",
       "      <th>Size</th>\n",
       "      <th>IsCompany</th>\n",
       "      <th>12+</th>\n",
       "      <th>17+</th>\n",
       "      <th>4+</th>\n",
       "      <th>9+</th>\n",
       "    </tr>\n",
       "  </thead>\n",
       "  <tbody>\n",
       "    <tr>\n",
       "      <td>count</td>\n",
       "      <td>7464.000000</td>\n",
       "      <td>7464.000000</td>\n",
       "      <td>7464.000000</td>\n",
       "      <td>7464.000000</td>\n",
       "      <td>7464.000000</td>\n",
       "      <td>7464.000000</td>\n",
       "      <td>7464.000000</td>\n",
       "      <td>7464.000000</td>\n",
       "      <td>7464.000000</td>\n",
       "      <td>7464.000000</td>\n",
       "      <td>...</td>\n",
       "      <td>7464.000000</td>\n",
       "      <td>7464.000000</td>\n",
       "      <td>7.464000e+03</td>\n",
       "      <td>7464.000000</td>\n",
       "      <td>7.464000e+03</td>\n",
       "      <td>7464.000000</td>\n",
       "      <td>7464.000000</td>\n",
       "      <td>7464.000000</td>\n",
       "      <td>7464.000000</td>\n",
       "      <td>7464.000000</td>\n",
       "    </tr>\n",
       "    <tr>\n",
       "      <td>mean</td>\n",
       "      <td>23.552921</td>\n",
       "      <td>0.360263</td>\n",
       "      <td>1337.098875</td>\n",
       "      <td>0.144695</td>\n",
       "      <td>0.509512</td>\n",
       "      <td>0.387996</td>\n",
       "      <td>0.295820</td>\n",
       "      <td>0.383173</td>\n",
       "      <td>0.308414</td>\n",
       "      <td>0.219721</td>\n",
       "      <td>...</td>\n",
       "      <td>0.000134</td>\n",
       "      <td>0.000134</td>\n",
       "      <td>3.314929e+03</td>\n",
       "      <td>0.570717</td>\n",
       "      <td>1.514538e+08</td>\n",
       "      <td>0.259378</td>\n",
       "      <td>0.176715</td>\n",
       "      <td>0.038451</td>\n",
       "      <td>0.590836</td>\n",
       "      <td>0.193998</td>\n",
       "    </tr>\n",
       "    <tr>\n",
       "      <td>std</td>\n",
       "      <td>14.942935</td>\n",
       "      <td>0.480109</td>\n",
       "      <td>967.395618</td>\n",
       "      <td>0.351816</td>\n",
       "      <td>0.499943</td>\n",
       "      <td>0.487326</td>\n",
       "      <td>0.456441</td>\n",
       "      <td>0.486192</td>\n",
       "      <td>0.461869</td>\n",
       "      <td>0.414086</td>\n",
       "      <td>...</td>\n",
       "      <td>0.011575</td>\n",
       "      <td>0.011575</td>\n",
       "      <td>4.258374e+04</td>\n",
       "      <td>2.425675</td>\n",
       "      <td>2.560096e+08</td>\n",
       "      <td>0.438323</td>\n",
       "      <td>0.381453</td>\n",
       "      <td>0.192296</td>\n",
       "      <td>0.491713</td>\n",
       "      <td>0.395454</td>\n",
       "    </tr>\n",
       "    <tr>\n",
       "      <td>min</td>\n",
       "      <td>1.000000</td>\n",
       "      <td>0.000000</td>\n",
       "      <td>6.000000</td>\n",
       "      <td>0.000000</td>\n",
       "      <td>0.000000</td>\n",
       "      <td>0.000000</td>\n",
       "      <td>0.000000</td>\n",
       "      <td>0.000000</td>\n",
       "      <td>0.000000</td>\n",
       "      <td>0.000000</td>\n",
       "      <td>...</td>\n",
       "      <td>0.000000</td>\n",
       "      <td>0.000000</td>\n",
       "      <td>5.000000e+00</td>\n",
       "      <td>0.000000</td>\n",
       "      <td>2.158400e+05</td>\n",
       "      <td>0.000000</td>\n",
       "      <td>0.000000</td>\n",
       "      <td>0.000000</td>\n",
       "      <td>0.000000</td>\n",
       "      <td>0.000000</td>\n",
       "    </tr>\n",
       "    <tr>\n",
       "      <td>25%</td>\n",
       "      <td>13.000000</td>\n",
       "      <td>0.000000</td>\n",
       "      <td>618.000000</td>\n",
       "      <td>0.000000</td>\n",
       "      <td>0.000000</td>\n",
       "      <td>0.000000</td>\n",
       "      <td>0.000000</td>\n",
       "      <td>0.000000</td>\n",
       "      <td>0.000000</td>\n",
       "      <td>0.000000</td>\n",
       "      <td>...</td>\n",
       "      <td>0.000000</td>\n",
       "      <td>0.000000</td>\n",
       "      <td>1.200000e+01</td>\n",
       "      <td>0.000000</td>\n",
       "      <td>3.053773e+07</td>\n",
       "      <td>0.000000</td>\n",
       "      <td>0.000000</td>\n",
       "      <td>0.000000</td>\n",
       "      <td>0.000000</td>\n",
       "      <td>0.000000</td>\n",
       "    </tr>\n",
       "    <tr>\n",
       "      <td>50%</td>\n",
       "      <td>20.000000</td>\n",
       "      <td>0.000000</td>\n",
       "      <td>1134.500000</td>\n",
       "      <td>0.000000</td>\n",
       "      <td>1.000000</td>\n",
       "      <td>0.000000</td>\n",
       "      <td>0.000000</td>\n",
       "      <td>0.000000</td>\n",
       "      <td>0.000000</td>\n",
       "      <td>0.000000</td>\n",
       "      <td>...</td>\n",
       "      <td>0.000000</td>\n",
       "      <td>0.000000</td>\n",
       "      <td>4.600000e+01</td>\n",
       "      <td>0.000000</td>\n",
       "      <td>7.926989e+07</td>\n",
       "      <td>0.000000</td>\n",
       "      <td>0.000000</td>\n",
       "      <td>0.000000</td>\n",
       "      <td>1.000000</td>\n",
       "      <td>0.000000</td>\n",
       "    </tr>\n",
       "    <tr>\n",
       "      <td>75%</td>\n",
       "      <td>29.000000</td>\n",
       "      <td>1.000000</td>\n",
       "      <td>1812.000000</td>\n",
       "      <td>0.000000</td>\n",
       "      <td>1.000000</td>\n",
       "      <td>1.000000</td>\n",
       "      <td>1.000000</td>\n",
       "      <td>1.000000</td>\n",
       "      <td>1.000000</td>\n",
       "      <td>0.000000</td>\n",
       "      <td>...</td>\n",
       "      <td>0.000000</td>\n",
       "      <td>0.000000</td>\n",
       "      <td>3.080000e+02</td>\n",
       "      <td>0.000000</td>\n",
       "      <td>1.772618e+08</td>\n",
       "      <td>1.000000</td>\n",
       "      <td>0.000000</td>\n",
       "      <td>0.000000</td>\n",
       "      <td>1.000000</td>\n",
       "      <td>0.000000</td>\n",
       "    </tr>\n",
       "    <tr>\n",
       "      <td>max</td>\n",
       "      <td>251.000000</td>\n",
       "      <td>1.000000</td>\n",
       "      <td>12494.000000</td>\n",
       "      <td>1.000000</td>\n",
       "      <td>1.000000</td>\n",
       "      <td>1.000000</td>\n",
       "      <td>1.000000</td>\n",
       "      <td>1.000000</td>\n",
       "      <td>1.000000</td>\n",
       "      <td>1.000000</td>\n",
       "      <td>...</td>\n",
       "      <td>1.000000</td>\n",
       "      <td>1.000000</td>\n",
       "      <td>3.032734e+06</td>\n",
       "      <td>139.990000</td>\n",
       "      <td>4.005591e+09</td>\n",
       "      <td>1.000000</td>\n",
       "      <td>1.000000</td>\n",
       "      <td>1.000000</td>\n",
       "      <td>1.000000</td>\n",
       "      <td>1.000000</td>\n",
       "    </tr>\n",
       "  </tbody>\n",
       "</table>\n",
       "<p>8 rows × 243 columns</p>\n",
       "</div>"
      ],
      "text/plain": [
       "        NameLength  HasSubtitle  DescripLength     UpToDate       Target  \\\n",
       "count  7464.000000  7464.000000    7464.000000  7464.000000  7464.000000   \n",
       "mean     23.552921     0.360263    1337.098875     0.144695     0.509512   \n",
       "std      14.942935     0.480109     967.395618     0.351816     0.499943   \n",
       "min       1.000000     0.000000       6.000000     0.000000     0.000000   \n",
       "25%      13.000000     0.000000     618.000000     0.000000     0.000000   \n",
       "50%      20.000000     0.000000    1134.500000     0.000000     1.000000   \n",
       "75%      29.000000     1.000000    1812.000000     0.000000     1.000000   \n",
       "max     251.000000     1.000000   12494.000000     1.000000     1.000000   \n",
       "\n",
       "          iap_none     iap_1.99     iap_0.99     iap_4.99     iap_2.99  ...  \\\n",
       "count  7464.000000  7464.000000  7464.000000  7464.000000  7464.000000  ...   \n",
       "mean      0.387996     0.295820     0.383173     0.308414     0.219721  ...   \n",
       "std       0.487326     0.456441     0.486192     0.461869     0.414086  ...   \n",
       "min       0.000000     0.000000     0.000000     0.000000     0.000000  ...   \n",
       "25%       0.000000     0.000000     0.000000     0.000000     0.000000  ...   \n",
       "50%       0.000000     0.000000     0.000000     0.000000     0.000000  ...   \n",
       "75%       1.000000     1.000000     1.000000     1.000000     0.000000  ...   \n",
       "max       1.000000     1.000000     1.000000     1.000000     1.000000  ...   \n",
       "\n",
       "       genr_weather  genr_magazines & newspapers  User Rating Count  \\\n",
       "count   7464.000000                  7464.000000       7.464000e+03   \n",
       "mean       0.000134                     0.000134       3.314929e+03   \n",
       "std        0.011575                     0.011575       4.258374e+04   \n",
       "min        0.000000                     0.000000       5.000000e+00   \n",
       "25%        0.000000                     0.000000       1.200000e+01   \n",
       "50%        0.000000                     0.000000       4.600000e+01   \n",
       "75%        0.000000                     0.000000       3.080000e+02   \n",
       "max        1.000000                     1.000000       3.032734e+06   \n",
       "\n",
       "             Price          Size    IsCompany          12+          17+  \\\n",
       "count  7464.000000  7.464000e+03  7464.000000  7464.000000  7464.000000   \n",
       "mean      0.570717  1.514538e+08     0.259378     0.176715     0.038451   \n",
       "std       2.425675  2.560096e+08     0.438323     0.381453     0.192296   \n",
       "min       0.000000  2.158400e+05     0.000000     0.000000     0.000000   \n",
       "25%       0.000000  3.053773e+07     0.000000     0.000000     0.000000   \n",
       "50%       0.000000  7.926989e+07     0.000000     0.000000     0.000000   \n",
       "75%       0.000000  1.772618e+08     1.000000     0.000000     0.000000   \n",
       "max     139.990000  4.005591e+09     1.000000     1.000000     1.000000   \n",
       "\n",
       "                4+           9+  \n",
       "count  7464.000000  7464.000000  \n",
       "mean      0.590836     0.193998  \n",
       "std       0.491713     0.395454  \n",
       "min       0.000000     0.000000  \n",
       "25%       0.000000     0.000000  \n",
       "50%       1.000000     0.000000  \n",
       "75%       1.000000     0.000000  \n",
       "max       1.000000     1.000000  \n",
       "\n",
       "[8 rows x 243 columns]"
      ]
     },
     "execution_count": 94,
     "metadata": {},
     "output_type": "execute_result"
    }
   ],
   "source": [
    "dectreedf.describe()"
   ]
  },
  {
   "cell_type": "code",
   "execution_count": 95,
   "metadata": {},
   "outputs": [
    {
     "name": "stdout",
     "output_type": "stream",
     "text": [
      "NameLength 0.022330635648788528\n",
      "HasSubtitle 0.2793231707813555\n",
      "DescripLength 0.08272762956891218\n",
      "iap_none 0.002818770223266262\n",
      "iap_1.99 0.028339862229282864\n",
      "iap_0.99 0.006201294491185778\n",
      "iap_29.99 0.01890548163004876\n",
      "lang_ja 0.018985336667571698\n",
      "lang_gu 0.005983459180399363\n",
      "genr_entertainment 0.02091553519930648\n",
      "genr_casual 0.03290838528663342\n",
      "genr_simulation 0.04773184857131644\n",
      "User Rating Count 0.31239363689173977\n",
      "Size 0.12043495363019303\n",
      "NameLength 0.022537061991685977\n",
      "HasSubtitle 0.2819052585256443\n",
      "DescripLength 0.08349237098949114\n",
      "iapb_none 0.0028448271809726434\n",
      "iapb_1.99 0.028601838386621937\n",
      "iapb_0.99 0.006258619798139817\n",
      "iapb_19.49 0.011953178569926271\n",
      "lang_ja 0.019160838775017366\n",
      "lang_gu 0.0060387707987479\n",
      "genr_entertainment 0.02110888023026936\n",
      "genr_casual 0.03321259326943433\n",
      "genr_simulation 0.04817308594114681\n",
      "User Rating Count 0.3042687409219296\n",
      "Size 0.13044393462097273\n"
     ]
    },
    {
     "data": {
      "image/png": "[encoded data removed]",
      "text/plain": [
       "<Figure size 576x576 with 1 Axes>"
      ]
     },
     "metadata": {
      "needs_background": "light"
     },
     "output_type": "display_data"
    },
    {
     "data": {
      "image/png": "[encoded data removed]",
      "text/plain": [
       "<Figure size 576x576 with 1 Axes>"
      ]
     },
     "metadata": {
      "needs_background": "light"
     },
     "output_type": "display_data"
    }
   ],
   "source": [
    "#find important features and plot them\n",
    "dectree, finaldf = importantframe(dectreedf)\n",
    "dectreebins, finalbinsdf = importantframe(dectreebinsdf)"
   ]
  },
  {
   "cell_type": "markdown",
   "metadata": {},
   "source": [
    "Some features really stand out, while a majority barely appear on the plot.  The highest-valued features (with bins and without) are User Rating Count (0.30 and 0.31), HasSubtitle (0.28 for both), Size (0.13 and 0.12) and DescripLength (0.08 for both).  The rest have `feature_importances_` below 0.05.\n",
    "The differences between the version with the binned In-app Purchases and the version without bins are very slight.  Really, the important features are the same, except for two.\n",
    "\n",
    "One different pair was the bin `iapb_19.49` (0.012) and the categorical `iap_29.99` (0.019).  The other was `lang_ml` for the In-app Purchases without bins and `lang_gu` for the binned version (both 0.006).\n",
    "\n",
    "The bins were separated by which prices were less than or equal to the number in the column name.  So the bins' ranges are as follows (as defined earlier in this notebook, notably the `bounds` argument in the `findcol` function):\n",
    "1. 0 or null\n",
    "2. 0.49 to 0.99\n",
    "3. 1.49 to 1.99\n",
    "4. 2.49 to 19.49\n",
    "5. 19.99 to 48.99\n",
    "6. 49.99 to 199.99\n",
    "\n",
    "The preserved bins were `iapb_none`, `iapb_1.99`, `iapb_0.99` and `iapb_19.49` while the classifier used on the other dataframe kept `iap_none`, `iap_1.99`, `iap_0.99` and `iap_29.99`.\n",
    "For both, \"none\" is the same.  Those records with In-app Purchases of 1.99 and 0.99 would also match up with that bin.  However, a record with 29.99 would be included in the `iapb_48.99` so that is interesting that the bin of 2.49-19.49 is important while the 19.99-48.99 is not although the price 29.99 is important in the non-binned In-app Purchases.\n",
    "The values of `feature_importances_` are very small, so I suspect the combined importance of the values between 2.49 and 19.49 is enough to edge out the importance of 29.99 as part of 19.99-48.99 in the binned version of the dataframe.\n",
    "\n",
    "As for the languages, `lang_ml` and `lang_gu` are the least important of the fourteen features for both, so the difference must be incredibly slight.\n",
    "\n",
    "Of those with values over 0 in `feature_importances_`, the highest-performing are `User Rating Count` and `HasSubtitle`, followed by `Size` and `DescripLength`."
   ]
  },
  {
   "cell_type": "code",
   "execution_count": 96,
   "metadata": {},
   "outputs": [
    {
     "name": "stdout",
     "output_type": "stream",
     "text": [
      "NameLength 0.022330635648788528\n",
      "HasSubtitle 0.2793231707813555\n",
      "DescripLength 0.08272762956891218\n",
      "iap_none 0.002818770223266262\n",
      "iap_1.99 0.028339862229282864\n",
      "iap_0.99 0.006201294491185778\n",
      "iap_29.99 0.01890548163004876\n",
      "lang_ja 0.018985336667571698\n",
      "lang_gu 0.005983459180399363\n",
      "genr_entertainment 0.02091553519930648\n",
      "genr_casual 0.03290838528663342\n",
      "genr_simulation 0.04773184857131644\n",
      "User Rating Count 0.31239363689173977\n",
      "Size 0.12043495363019303\n"
     ]
    },
    {
     "data": {
      "text/plain": [
       "dict_keys(['NameLength', 'HasSubtitle', 'DescripLength', 'iap_none', 'iap_1.99', 'iap_0.99', 'iap_29.99', 'lang_ja', 'lang_gu', 'genr_entertainment', 'genr_casual', 'genr_simulation', 'User Rating Count', 'Size'])"
      ]
     },
     "execution_count": 96,
     "metadata": {},
     "output_type": "execute_result"
    }
   ],
   "source": [
    "#important features for the version where In-app Purchases is not in bins\n",
    "finalfeats = importantfeatures(dectree,dectreedf.drop(columns=[\"Target\"]).columns,plot=False)\n",
    "finalfeats.keys()"
   ]
  },
  {
   "cell_type": "code",
   "execution_count": 97,
   "metadata": {},
   "outputs": [
    {
     "name": "stdout",
     "output_type": "stream",
     "text": [
      "NameLength 0.022537061991685977\n",
      "HasSubtitle 0.2819052585256443\n",
      "DescripLength 0.08349237098949114\n",
      "iapb_none 0.0028448271809726434\n",
      "iapb_1.99 0.028601838386621937\n",
      "iapb_0.99 0.006258619798139817\n",
      "iapb_19.49 0.011953178569926271\n",
      "lang_ja 0.019160838775017366\n",
      "lang_gu 0.0060387707987479\n",
      "genr_entertainment 0.02110888023026936\n",
      "genr_casual 0.03321259326943433\n",
      "genr_simulation 0.04817308594114681\n",
      "User Rating Count 0.3042687409219296\n",
      "Size 0.13044393462097273\n"
     ]
    },
    {
     "data": {
      "text/plain": [
       "dict_keys(['NameLength', 'HasSubtitle', 'DescripLength', 'iapb_none', 'iapb_1.99', 'iapb_0.99', 'iapb_19.49', 'lang_ja', 'lang_gu', 'genr_entertainment', 'genr_casual', 'genr_simulation', 'User Rating Count', 'Size'])"
      ]
     },
     "execution_count": 97,
     "metadata": {},
     "output_type": "execute_result"
    }
   ],
   "source": [
    "#important fetaures for the version where In-app Purchases is binned\n",
    "finalbinsfeats = importantfeatures(dectreebins,dectreebinsdf.drop(columns=[\"Target\"]).columns,plot=False)\n",
    "finalbinsfeats.keys()"
   ]
  },
  {
   "cell_type": "code",
   "execution_count": 98,
   "metadata": {},
   "outputs": [],
   "source": [
    "importantfeats = ['NameLength', 'HasSubtitle', 'DescripLength', 'iap_none', 'iap_1.99', 'iap_0.99', 'iap_29.99', 'lang_ja',\n",
    "                 'lang_ml', 'genr_entertainment', 'genr_casual', 'genr_simulation', 'User Rating Count', 'Size']\n",
    "importantbinfeats = ['NameLength', 'HasSubtitle', 'DescripLength', 'iapb_none', 'iapb_1.99', 'iapb_0.99', 'iapb_19.49',\n",
    "                'lang_ja', 'lang_gu', 'genr_entertainment', 'genr_casual', 'genr_simulation', 'User Rating Count', 'Size']"
   ]
  },
  {
   "cell_type": "code",
   "execution_count": 99,
   "metadata": {},
   "outputs": [
    {
     "data": {
      "text/plain": [
       "[('User Rating Count', 0.31239363689173977),\n",
       " ('HasSubtitle', 0.2793231707813555),\n",
       " ('Size', 0.12043495363019303),\n",
       " ('DescripLength', 0.08272762956891218),\n",
       " ('genr_simulation', 0.04773184857131644),\n",
       " ('genr_casual', 0.03290838528663342),\n",
       " ('iap_1.99', 0.028339862229282864),\n",
       " ('NameLength', 0.022330635648788528),\n",
       " ('genr_entertainment', 0.02091553519930648),\n",
       " ('lang_ja', 0.018985336667571698),\n",
       " ('iap_29.99', 0.01890548163004876),\n",
       " ('iap_0.99', 0.006201294491185778),\n",
       " ('lang_gu', 0.005983459180399363),\n",
       " ('iap_none', 0.002818770223266262)]"
      ]
     },
     "execution_count": 99,
     "metadata": {},
     "output_type": "execute_result"
    }
   ],
   "source": [
    "#sorts dictionary from most to least important feature\n",
    "sorted(finalfeats.items(), key=lambda item: item[1], reverse=True)\n",
    "#item[1] is the values of the dictionary, item[0] would be the keys"
   ]
  },
  {
   "cell_type": "code",
   "execution_count": 100,
   "metadata": {},
   "outputs": [],
   "source": [
    "#the least-important features (under 0.010)\n",
    "dropfeats=[\"iap_0.99\",\"lang_ml\",\"iap_none\"]"
   ]
  },
  {
   "cell_type": "code",
   "execution_count": 101,
   "metadata": {},
   "outputs": [
    {
     "data": {
      "text/plain": [
       "[('User Rating Count', 0.3042687409219296),\n",
       " ('HasSubtitle', 0.2819052585256443),\n",
       " ('Size', 0.13044393462097273),\n",
       " ('DescripLength', 0.08349237098949114),\n",
       " ('genr_simulation', 0.04817308594114681),\n",
       " ('genr_casual', 0.03321259326943433),\n",
       " ('iapb_1.99', 0.028601838386621937),\n",
       " ('NameLength', 0.022537061991685977),\n",
       " ('genr_entertainment', 0.02110888023026936),\n",
       " ('lang_ja', 0.019160838775017366),\n",
       " ('iapb_19.49', 0.011953178569926271),\n",
       " ('iapb_0.99', 0.006258619798139817),\n",
       " ('lang_gu', 0.0060387707987479),\n",
       " ('iapb_none', 0.0028448271809726434)]"
      ]
     },
     "execution_count": 101,
     "metadata": {},
     "output_type": "execute_result"
    }
   ],
   "source": [
    "sorted(finalbinsfeats.items(), key=lambda item: item[1], reverse=True)"
   ]
  },
  {
   "cell_type": "code",
   "execution_count": 102,
   "metadata": {},
   "outputs": [],
   "source": [
    "#for the dataframe with bins of In-app Purchases\n",
    "dropbinsfeats=[\"iapb_0.99\",\"lang_gu\",\"iapb_none\"]"
   ]
  },
  {
   "cell_type": "code",
   "execution_count": 103,
   "metadata": {},
   "outputs": [
    {
     "data": {
      "text/plain": [
       "(7464, 15)"
      ]
     },
     "execution_count": 103,
     "metadata": {},
     "output_type": "execute_result"
    }
   ],
   "source": [
    "finaldf.shape"
   ]
  },
  {
   "cell_type": "code",
   "execution_count": 104,
   "metadata": {},
   "outputs": [
    {
     "data": {
      "text/plain": [
       "(7464, 15)"
      ]
     },
     "execution_count": 104,
     "metadata": {},
     "output_type": "execute_result"
    }
   ],
   "source": [
    "finalbinsdf.shape"
   ]
  },
  {
   "cell_type": "markdown",
   "metadata": {},
   "source": [
    "The shapes for both dataframes are as expected."
   ]
  },
  {
   "cell_type": "code",
   "execution_count": 105,
   "metadata": {},
   "outputs": [],
   "source": [
    "#save dataframes that have these 14 highest feature_importances_ and the Target as CSV files:\n",
    "finaldf.to_csv(\"files/final7464.csv\")\n",
    "finalbinsdf.to_csv(\"files/finalbins7464.csv\")"
   ]
  },
  {
   "cell_type": "code",
   "execution_count": 106,
   "metadata": {},
   "outputs": [
    {
     "data": {
      "text/html": [
       "<div>\n",
       "<style scoped>\n",
       "    .dataframe tbody tr th:only-of-type {\n",
       "        vertical-align: middle;\n",
       "    }\n",
       "\n",
       "    .dataframe tbody tr th {\n",
       "        vertical-align: top;\n",
       "    }\n",
       "\n",
       "    .dataframe thead th {\n",
       "        text-align: right;\n",
       "    }\n",
       "</style>\n",
       "<table border=\"1\" class=\"dataframe\">\n",
       "  <thead>\n",
       "    <tr style=\"text-align: right;\">\n",
       "      <th></th>\n",
       "      <th>NameLength</th>\n",
       "      <th>HasSubtitle</th>\n",
       "      <th>DescripLength</th>\n",
       "      <th>iap_none</th>\n",
       "      <th>iap_1.99</th>\n",
       "      <th>iap_0.99</th>\n",
       "      <th>iap_29.99</th>\n",
       "      <th>lang_ja</th>\n",
       "      <th>lang_gu</th>\n",
       "      <th>genr_entertainment</th>\n",
       "      <th>genr_casual</th>\n",
       "      <th>genr_simulation</th>\n",
       "      <th>User Rating Count</th>\n",
       "      <th>Size</th>\n",
       "      <th>Target</th>\n",
       "    </tr>\n",
       "  </thead>\n",
       "  <tbody>\n",
       "    <tr>\n",
       "      <td>16950</td>\n",
       "      <td>8.0</td>\n",
       "      <td>1.0</td>\n",
       "      <td>547.0</td>\n",
       "      <td>1.0</td>\n",
       "      <td>0.0</td>\n",
       "      <td>0.0</td>\n",
       "      <td>0.0</td>\n",
       "      <td>0.0</td>\n",
       "      <td>0.0</td>\n",
       "      <td>1.0</td>\n",
       "      <td>0.0</td>\n",
       "      <td>0.0</td>\n",
       "      <td>6.0</td>\n",
       "      <td>151308288.0</td>\n",
       "      <td>0.0</td>\n",
       "    </tr>\n",
       "    <tr>\n",
       "      <td>16956</td>\n",
       "      <td>11.0</td>\n",
       "      <td>0.0</td>\n",
       "      <td>102.0</td>\n",
       "      <td>1.0</td>\n",
       "      <td>0.0</td>\n",
       "      <td>0.0</td>\n",
       "      <td>0.0</td>\n",
       "      <td>0.0</td>\n",
       "      <td>0.0</td>\n",
       "      <td>1.0</td>\n",
       "      <td>0.0</td>\n",
       "      <td>0.0</td>\n",
       "      <td>30.0</td>\n",
       "      <td>79646720.0</td>\n",
       "      <td>1.0</td>\n",
       "    </tr>\n",
       "    <tr>\n",
       "      <td>16962</td>\n",
       "      <td>18.0</td>\n",
       "      <td>1.0</td>\n",
       "      <td>134.0</td>\n",
       "      <td>1.0</td>\n",
       "      <td>0.0</td>\n",
       "      <td>0.0</td>\n",
       "      <td>0.0</td>\n",
       "      <td>0.0</td>\n",
       "      <td>0.0</td>\n",
       "      <td>0.0</td>\n",
       "      <td>0.0</td>\n",
       "      <td>1.0</td>\n",
       "      <td>51.0</td>\n",
       "      <td>125348864.0</td>\n",
       "      <td>1.0</td>\n",
       "    </tr>\n",
       "    <tr>\n",
       "      <td>16967</td>\n",
       "      <td>18.0</td>\n",
       "      <td>1.0</td>\n",
       "      <td>722.0</td>\n",
       "      <td>1.0</td>\n",
       "      <td>0.0</td>\n",
       "      <td>0.0</td>\n",
       "      <td>0.0</td>\n",
       "      <td>0.0</td>\n",
       "      <td>0.0</td>\n",
       "      <td>0.0</td>\n",
       "      <td>0.0</td>\n",
       "      <td>1.0</td>\n",
       "      <td>5.0</td>\n",
       "      <td>128687104.0</td>\n",
       "      <td>1.0</td>\n",
       "    </tr>\n",
       "    <tr>\n",
       "      <td>16993</td>\n",
       "      <td>21.0</td>\n",
       "      <td>1.0</td>\n",
       "      <td>257.0</td>\n",
       "      <td>1.0</td>\n",
       "      <td>0.0</td>\n",
       "      <td>0.0</td>\n",
       "      <td>0.0</td>\n",
       "      <td>0.0</td>\n",
       "      <td>0.0</td>\n",
       "      <td>0.0</td>\n",
       "      <td>0.0</td>\n",
       "      <td>0.0</td>\n",
       "      <td>33.0</td>\n",
       "      <td>8845312.0</td>\n",
       "      <td>1.0</td>\n",
       "    </tr>\n",
       "  </tbody>\n",
       "</table>\n",
       "</div>"
      ],
      "text/plain": [
       "       NameLength  HasSubtitle  DescripLength  iap_none  iap_1.99  iap_0.99  \\\n",
       "16950         8.0          1.0          547.0       1.0       0.0       0.0   \n",
       "16956        11.0          0.0          102.0       1.0       0.0       0.0   \n",
       "16962        18.0          1.0          134.0       1.0       0.0       0.0   \n",
       "16967        18.0          1.0          722.0       1.0       0.0       0.0   \n",
       "16993        21.0          1.0          257.0       1.0       0.0       0.0   \n",
       "\n",
       "       iap_29.99  lang_ja  lang_gu  genr_entertainment  genr_casual  \\\n",
       "16950        0.0      0.0      0.0                 1.0          0.0   \n",
       "16956        0.0      0.0      0.0                 1.0          0.0   \n",
       "16962        0.0      0.0      0.0                 0.0          0.0   \n",
       "16967        0.0      0.0      0.0                 0.0          0.0   \n",
       "16993        0.0      0.0      0.0                 0.0          0.0   \n",
       "\n",
       "       genr_simulation  User Rating Count         Size  Target  \n",
       "16950              0.0                6.0  151308288.0     0.0  \n",
       "16956              0.0               30.0   79646720.0     1.0  \n",
       "16962              1.0               51.0  125348864.0     1.0  \n",
       "16967              1.0                5.0  128687104.0     1.0  \n",
       "16993              0.0               33.0    8845312.0     1.0  "
      ]
     },
     "execution_count": 106,
     "metadata": {},
     "output_type": "execute_result"
    }
   ],
   "source": [
    "finaldf = getData(\"files/final7464.csv\")\n",
    "finaldf.tail()#check file loaded as expected"
   ]
  },
  {
   "cell_type": "code",
   "execution_count": 107,
   "metadata": {},
   "outputs": [
    {
     "data": {
      "text/html": [
       "<div>\n",
       "<style scoped>\n",
       "    .dataframe tbody tr th:only-of-type {\n",
       "        vertical-align: middle;\n",
       "    }\n",
       "\n",
       "    .dataframe tbody tr th {\n",
       "        vertical-align: top;\n",
       "    }\n",
       "\n",
       "    .dataframe thead th {\n",
       "        text-align: right;\n",
       "    }\n",
       "</style>\n",
       "<table border=\"1\" class=\"dataframe\">\n",
       "  <thead>\n",
       "    <tr style=\"text-align: right;\">\n",
       "      <th></th>\n",
       "      <th>NameLength</th>\n",
       "      <th>HasSubtitle</th>\n",
       "      <th>DescripLength</th>\n",
       "      <th>iap_none</th>\n",
       "      <th>iap_1.99</th>\n",
       "      <th>iap_0.99</th>\n",
       "      <th>iap_29.99</th>\n",
       "      <th>lang_ja</th>\n",
       "      <th>lang_gu</th>\n",
       "      <th>genr_entertainment</th>\n",
       "      <th>genr_casual</th>\n",
       "      <th>genr_simulation</th>\n",
       "      <th>User Rating Count</th>\n",
       "      <th>Size</th>\n",
       "      <th>Target</th>\n",
       "    </tr>\n",
       "  </thead>\n",
       "  <tbody>\n",
       "    <tr>\n",
       "      <td>count</td>\n",
       "      <td>7464.000000</td>\n",
       "      <td>7464.000000</td>\n",
       "      <td>7464.000000</td>\n",
       "      <td>7464.000000</td>\n",
       "      <td>7464.000000</td>\n",
       "      <td>7464.000000</td>\n",
       "      <td>7464.000000</td>\n",
       "      <td>7464.000000</td>\n",
       "      <td>7464.000000</td>\n",
       "      <td>7464.000000</td>\n",
       "      <td>7464.000000</td>\n",
       "      <td>7464.000000</td>\n",
       "      <td>7.464000e+03</td>\n",
       "      <td>7.464000e+03</td>\n",
       "      <td>7464.000000</td>\n",
       "    </tr>\n",
       "    <tr>\n",
       "      <td>mean</td>\n",
       "      <td>23.552921</td>\n",
       "      <td>0.360263</td>\n",
       "      <td>1337.098875</td>\n",
       "      <td>0.387996</td>\n",
       "      <td>0.295820</td>\n",
       "      <td>0.383173</td>\n",
       "      <td>0.038451</td>\n",
       "      <td>0.181404</td>\n",
       "      <td>0.003617</td>\n",
       "      <td>0.492899</td>\n",
       "      <td>0.070070</td>\n",
       "      <td>0.164925</td>\n",
       "      <td>3.314929e+03</td>\n",
       "      <td>1.514538e+08</td>\n",
       "      <td>0.509512</td>\n",
       "    </tr>\n",
       "    <tr>\n",
       "      <td>std</td>\n",
       "      <td>14.942935</td>\n",
       "      <td>0.480109</td>\n",
       "      <td>967.395618</td>\n",
       "      <td>0.487326</td>\n",
       "      <td>0.456441</td>\n",
       "      <td>0.486192</td>\n",
       "      <td>0.192296</td>\n",
       "      <td>0.385378</td>\n",
       "      <td>0.060040</td>\n",
       "      <td>0.499983</td>\n",
       "      <td>0.255281</td>\n",
       "      <td>0.371138</td>\n",
       "      <td>4.258374e+04</td>\n",
       "      <td>2.560096e+08</td>\n",
       "      <td>0.499943</td>\n",
       "    </tr>\n",
       "    <tr>\n",
       "      <td>min</td>\n",
       "      <td>1.000000</td>\n",
       "      <td>0.000000</td>\n",
       "      <td>6.000000</td>\n",
       "      <td>0.000000</td>\n",
       "      <td>0.000000</td>\n",
       "      <td>0.000000</td>\n",
       "      <td>0.000000</td>\n",
       "      <td>0.000000</td>\n",
       "      <td>0.000000</td>\n",
       "      <td>0.000000</td>\n",
       "      <td>0.000000</td>\n",
       "      <td>0.000000</td>\n",
       "      <td>5.000000e+00</td>\n",
       "      <td>2.158400e+05</td>\n",
       "      <td>0.000000</td>\n",
       "    </tr>\n",
       "    <tr>\n",
       "      <td>25%</td>\n",
       "      <td>13.000000</td>\n",
       "      <td>0.000000</td>\n",
       "      <td>618.000000</td>\n",
       "      <td>0.000000</td>\n",
       "      <td>0.000000</td>\n",
       "      <td>0.000000</td>\n",
       "      <td>0.000000</td>\n",
       "      <td>0.000000</td>\n",
       "      <td>0.000000</td>\n",
       "      <td>0.000000</td>\n",
       "      <td>0.000000</td>\n",
       "      <td>0.000000</td>\n",
       "      <td>1.200000e+01</td>\n",
       "      <td>3.053773e+07</td>\n",
       "      <td>0.000000</td>\n",
       "    </tr>\n",
       "    <tr>\n",
       "      <td>50%</td>\n",
       "      <td>20.000000</td>\n",
       "      <td>0.000000</td>\n",
       "      <td>1134.500000</td>\n",
       "      <td>0.000000</td>\n",
       "      <td>0.000000</td>\n",
       "      <td>0.000000</td>\n",
       "      <td>0.000000</td>\n",
       "      <td>0.000000</td>\n",
       "      <td>0.000000</td>\n",
       "      <td>0.000000</td>\n",
       "      <td>0.000000</td>\n",
       "      <td>0.000000</td>\n",
       "      <td>4.600000e+01</td>\n",
       "      <td>7.926989e+07</td>\n",
       "      <td>1.000000</td>\n",
       "    </tr>\n",
       "    <tr>\n",
       "      <td>75%</td>\n",
       "      <td>29.000000</td>\n",
       "      <td>1.000000</td>\n",
       "      <td>1812.000000</td>\n",
       "      <td>1.000000</td>\n",
       "      <td>1.000000</td>\n",
       "      <td>1.000000</td>\n",
       "      <td>0.000000</td>\n",
       "      <td>0.000000</td>\n",
       "      <td>0.000000</td>\n",
       "      <td>1.000000</td>\n",
       "      <td>0.000000</td>\n",
       "      <td>0.000000</td>\n",
       "      <td>3.080000e+02</td>\n",
       "      <td>1.772618e+08</td>\n",
       "      <td>1.000000</td>\n",
       "    </tr>\n",
       "    <tr>\n",
       "      <td>max</td>\n",
       "      <td>251.000000</td>\n",
       "      <td>1.000000</td>\n",
       "      <td>12494.000000</td>\n",
       "      <td>1.000000</td>\n",
       "      <td>1.000000</td>\n",
       "      <td>1.000000</td>\n",
       "      <td>1.000000</td>\n",
       "      <td>1.000000</td>\n",
       "      <td>1.000000</td>\n",
       "      <td>1.000000</td>\n",
       "      <td>1.000000</td>\n",
       "      <td>1.000000</td>\n",
       "      <td>3.032734e+06</td>\n",
       "      <td>4.005591e+09</td>\n",
       "      <td>1.000000</td>\n",
       "    </tr>\n",
       "  </tbody>\n",
       "</table>\n",
       "</div>"
      ],
      "text/plain": [
       "        NameLength  HasSubtitle  DescripLength     iap_none     iap_1.99  \\\n",
       "count  7464.000000  7464.000000    7464.000000  7464.000000  7464.000000   \n",
       "mean     23.552921     0.360263    1337.098875     0.387996     0.295820   \n",
       "std      14.942935     0.480109     967.395618     0.487326     0.456441   \n",
       "min       1.000000     0.000000       6.000000     0.000000     0.000000   \n",
       "25%      13.000000     0.000000     618.000000     0.000000     0.000000   \n",
       "50%      20.000000     0.000000    1134.500000     0.000000     0.000000   \n",
       "75%      29.000000     1.000000    1812.000000     1.000000     1.000000   \n",
       "max     251.000000     1.000000   12494.000000     1.000000     1.000000   \n",
       "\n",
       "          iap_0.99    iap_29.99      lang_ja      lang_gu  genr_entertainment  \\\n",
       "count  7464.000000  7464.000000  7464.000000  7464.000000         7464.000000   \n",
       "mean      0.383173     0.038451     0.181404     0.003617            0.492899   \n",
       "std       0.486192     0.192296     0.385378     0.060040            0.499983   \n",
       "min       0.000000     0.000000     0.000000     0.000000            0.000000   \n",
       "25%       0.000000     0.000000     0.000000     0.000000            0.000000   \n",
       "50%       0.000000     0.000000     0.000000     0.000000            0.000000   \n",
       "75%       1.000000     0.000000     0.000000     0.000000            1.000000   \n",
       "max       1.000000     1.000000     1.000000     1.000000            1.000000   \n",
       "\n",
       "       genr_casual  genr_simulation  User Rating Count          Size  \\\n",
       "count  7464.000000      7464.000000       7.464000e+03  7.464000e+03   \n",
       "mean      0.070070         0.164925       3.314929e+03  1.514538e+08   \n",
       "std       0.255281         0.371138       4.258374e+04  2.560096e+08   \n",
       "min       0.000000         0.000000       5.000000e+00  2.158400e+05   \n",
       "25%       0.000000         0.000000       1.200000e+01  3.053773e+07   \n",
       "50%       0.000000         0.000000       4.600000e+01  7.926989e+07   \n",
       "75%       0.000000         0.000000       3.080000e+02  1.772618e+08   \n",
       "max       1.000000         1.000000       3.032734e+06  4.005591e+09   \n",
       "\n",
       "            Target  \n",
       "count  7464.000000  \n",
       "mean      0.509512  \n",
       "std       0.499943  \n",
       "min       0.000000  \n",
       "25%       0.000000  \n",
       "50%       1.000000  \n",
       "75%       1.000000  \n",
       "max       1.000000  "
      ]
     },
     "execution_count": 107,
     "metadata": {},
     "output_type": "execute_result"
    }
   ],
   "source": [
    "finaldf.describe()"
   ]
  },
  {
   "cell_type": "markdown",
   "metadata": {},
   "source": [
    "Looking at the mean for the categorical columns that contain only 1's and 0's is equivalent to looking at the normalized `value_counts` of the 1's. Of those, the features that appear in the fewest records are: `lang_ml` (approximately 0.3%), `iap_29.99` (3.8%) and `genr_casual` (7%)."
   ]
  },
  {
   "cell_type": "markdown",
   "metadata": {},
   "source": [
    "Now using the `finaldf` (from `importantframe()`) to see how its categorical columns are distributed over the target."
   ]
  },
  {
   "cell_type": "code",
   "execution_count": 109,
   "metadata": {},
   "outputs": [
    {
     "data": {
      "image/png": "[encoded data removed]",
      "text/plain": [
       "<Figure size 1440x720 with 1 Axes>"
      ]
     },
     "metadata": {
      "needs_background": "light"
     },
     "output_type": "display_data"
    }
   ],
   "source": [
    "#looking at stacked bar charts of categorical features (that are 1's and 0's)\n",
    "selectcols = ['HasSubtitle', 'iap_none', 'iap_1.99', 'iap_0.99', 'iap_29.99',\n",
    "              'lang_ja', 'genr_entertainment', 'genr_casual', 'genr_simulation']\n",
    "stackedbarchart(finaldf[selectcols],finaldf[\"Target\"],\"Various Features\")"
   ]
  },
  {
   "cell_type": "markdown",
   "metadata": {},
   "source": [
    "Based on this and the above appearance rates, I am concerned that a model may give more weight than necessary to those features where of the records that have it, over 60% of those have ratings of 4.5 or higher but the feature itself only appears in less than 10% of all records. In this case, those features are: `iap_29.99` and `genr_casual`."
   ]
  },
  {
   "cell_type": "code",
   "execution_count": 110,
   "metadata": {},
   "outputs": [
    {
     "data": {
      "text/html": [
       "<div>\n",
       "<style scoped>\n",
       "    .dataframe tbody tr th:only-of-type {\n",
       "        vertical-align: middle;\n",
       "    }\n",
       "\n",
       "    .dataframe tbody tr th {\n",
       "        vertical-align: top;\n",
       "    }\n",
       "\n",
       "    .dataframe thead th {\n",
       "        text-align: right;\n",
       "    }\n",
       "</style>\n",
       "<table border=\"1\" class=\"dataframe\">\n",
       "  <thead>\n",
       "    <tr style=\"text-align: right;\">\n",
       "      <th></th>\n",
       "      <th>NameLength</th>\n",
       "      <th>HasSubtitle</th>\n",
       "      <th>DescripLength</th>\n",
       "      <th>iapb_none</th>\n",
       "      <th>iapb_1.99</th>\n",
       "      <th>iapb_0.99</th>\n",
       "      <th>iapb_19.49</th>\n",
       "      <th>lang_ja</th>\n",
       "      <th>lang_gu</th>\n",
       "      <th>genr_entertainment</th>\n",
       "      <th>genr_casual</th>\n",
       "      <th>genr_simulation</th>\n",
       "      <th>User Rating Count</th>\n",
       "      <th>Size</th>\n",
       "      <th>Target</th>\n",
       "    </tr>\n",
       "  </thead>\n",
       "  <tbody>\n",
       "    <tr>\n",
       "      <td>count</td>\n",
       "      <td>7464.000000</td>\n",
       "      <td>7464.000000</td>\n",
       "      <td>7464.000000</td>\n",
       "      <td>7464.000000</td>\n",
       "      <td>7464.000000</td>\n",
       "      <td>7464.000000</td>\n",
       "      <td>7464.000000</td>\n",
       "      <td>7464.000000</td>\n",
       "      <td>7464.000000</td>\n",
       "      <td>7464.000000</td>\n",
       "      <td>7464.000000</td>\n",
       "      <td>7464.000000</td>\n",
       "      <td>7.464000e+03</td>\n",
       "      <td>7.464000e+03</td>\n",
       "      <td>7464.000000</td>\n",
       "    </tr>\n",
       "    <tr>\n",
       "      <td>mean</td>\n",
       "      <td>23.552921</td>\n",
       "      <td>0.360263</td>\n",
       "      <td>1337.098875</td>\n",
       "      <td>0.387996</td>\n",
       "      <td>0.295954</td>\n",
       "      <td>0.383173</td>\n",
       "      <td>0.479502</td>\n",
       "      <td>0.181404</td>\n",
       "      <td>0.003617</td>\n",
       "      <td>0.492899</td>\n",
       "      <td>0.070070</td>\n",
       "      <td>0.164925</td>\n",
       "      <td>3.314929e+03</td>\n",
       "      <td>1.514538e+08</td>\n",
       "      <td>0.509512</td>\n",
       "    </tr>\n",
       "    <tr>\n",
       "      <td>std</td>\n",
       "      <td>14.942935</td>\n",
       "      <td>0.480109</td>\n",
       "      <td>967.395618</td>\n",
       "      <td>0.487326</td>\n",
       "      <td>0.456501</td>\n",
       "      <td>0.486192</td>\n",
       "      <td>0.499613</td>\n",
       "      <td>0.385378</td>\n",
       "      <td>0.060040</td>\n",
       "      <td>0.499983</td>\n",
       "      <td>0.255281</td>\n",
       "      <td>0.371138</td>\n",
       "      <td>4.258374e+04</td>\n",
       "      <td>2.560096e+08</td>\n",
       "      <td>0.499943</td>\n",
       "    </tr>\n",
       "    <tr>\n",
       "      <td>min</td>\n",
       "      <td>1.000000</td>\n",
       "      <td>0.000000</td>\n",
       "      <td>6.000000</td>\n",
       "      <td>0.000000</td>\n",
       "      <td>0.000000</td>\n",
       "      <td>0.000000</td>\n",
       "      <td>0.000000</td>\n",
       "      <td>0.000000</td>\n",
       "      <td>0.000000</td>\n",
       "      <td>0.000000</td>\n",
       "      <td>0.000000</td>\n",
       "      <td>0.000000</td>\n",
       "      <td>5.000000e+00</td>\n",
       "      <td>2.158400e+05</td>\n",
       "      <td>0.000000</td>\n",
       "    </tr>\n",
       "    <tr>\n",
       "      <td>25%</td>\n",
       "      <td>13.000000</td>\n",
       "      <td>0.000000</td>\n",
       "      <td>618.000000</td>\n",
       "      <td>0.000000</td>\n",
       "      <td>0.000000</td>\n",
       "      <td>0.000000</td>\n",
       "      <td>0.000000</td>\n",
       "      <td>0.000000</td>\n",
       "      <td>0.000000</td>\n",
       "      <td>0.000000</td>\n",
       "      <td>0.000000</td>\n",
       "      <td>0.000000</td>\n",
       "      <td>1.200000e+01</td>\n",
       "      <td>3.053773e+07</td>\n",
       "      <td>0.000000</td>\n",
       "    </tr>\n",
       "    <tr>\n",
       "      <td>50%</td>\n",
       "      <td>20.000000</td>\n",
       "      <td>0.000000</td>\n",
       "      <td>1134.500000</td>\n",
       "      <td>0.000000</td>\n",
       "      <td>0.000000</td>\n",
       "      <td>0.000000</td>\n",
       "      <td>0.000000</td>\n",
       "      <td>0.000000</td>\n",
       "      <td>0.000000</td>\n",
       "      <td>0.000000</td>\n",
       "      <td>0.000000</td>\n",
       "      <td>0.000000</td>\n",
       "      <td>4.600000e+01</td>\n",
       "      <td>7.926989e+07</td>\n",
       "      <td>1.000000</td>\n",
       "    </tr>\n",
       "    <tr>\n",
       "      <td>75%</td>\n",
       "      <td>29.000000</td>\n",
       "      <td>1.000000</td>\n",
       "      <td>1812.000000</td>\n",
       "      <td>1.000000</td>\n",
       "      <td>1.000000</td>\n",
       "      <td>1.000000</td>\n",
       "      <td>1.000000</td>\n",
       "      <td>0.000000</td>\n",
       "      <td>0.000000</td>\n",
       "      <td>1.000000</td>\n",
       "      <td>0.000000</td>\n",
       "      <td>0.000000</td>\n",
       "      <td>3.080000e+02</td>\n",
       "      <td>1.772618e+08</td>\n",
       "      <td>1.000000</td>\n",
       "    </tr>\n",
       "    <tr>\n",
       "      <td>max</td>\n",
       "      <td>251.000000</td>\n",
       "      <td>1.000000</td>\n",
       "      <td>12494.000000</td>\n",
       "      <td>1.000000</td>\n",
       "      <td>1.000000</td>\n",
       "      <td>1.000000</td>\n",
       "      <td>1.000000</td>\n",
       "      <td>1.000000</td>\n",
       "      <td>1.000000</td>\n",
       "      <td>1.000000</td>\n",
       "      <td>1.000000</td>\n",
       "      <td>1.000000</td>\n",
       "      <td>3.032734e+06</td>\n",
       "      <td>4.005591e+09</td>\n",
       "      <td>1.000000</td>\n",
       "    </tr>\n",
       "  </tbody>\n",
       "</table>\n",
       "</div>"
      ],
      "text/plain": [
       "        NameLength  HasSubtitle  DescripLength    iapb_none    iapb_1.99  \\\n",
       "count  7464.000000  7464.000000    7464.000000  7464.000000  7464.000000   \n",
       "mean     23.552921     0.360263    1337.098875     0.387996     0.295954   \n",
       "std      14.942935     0.480109     967.395618     0.487326     0.456501   \n",
       "min       1.000000     0.000000       6.000000     0.000000     0.000000   \n",
       "25%      13.000000     0.000000     618.000000     0.000000     0.000000   \n",
       "50%      20.000000     0.000000    1134.500000     0.000000     0.000000   \n",
       "75%      29.000000     1.000000    1812.000000     1.000000     1.000000   \n",
       "max     251.000000     1.000000   12494.000000     1.000000     1.000000   \n",
       "\n",
       "         iapb_0.99   iapb_19.49      lang_ja      lang_gu  genr_entertainment  \\\n",
       "count  7464.000000  7464.000000  7464.000000  7464.000000         7464.000000   \n",
       "mean      0.383173     0.479502     0.181404     0.003617            0.492899   \n",
       "std       0.486192     0.499613     0.385378     0.060040            0.499983   \n",
       "min       0.000000     0.000000     0.000000     0.000000            0.000000   \n",
       "25%       0.000000     0.000000     0.000000     0.000000            0.000000   \n",
       "50%       0.000000     0.000000     0.000000     0.000000            0.000000   \n",
       "75%       1.000000     1.000000     0.000000     0.000000            1.000000   \n",
       "max       1.000000     1.000000     1.000000     1.000000            1.000000   \n",
       "\n",
       "       genr_casual  genr_simulation  User Rating Count          Size  \\\n",
       "count  7464.000000      7464.000000       7.464000e+03  7.464000e+03   \n",
       "mean      0.070070         0.164925       3.314929e+03  1.514538e+08   \n",
       "std       0.255281         0.371138       4.258374e+04  2.560096e+08   \n",
       "min       0.000000         0.000000       5.000000e+00  2.158400e+05   \n",
       "25%       0.000000         0.000000       1.200000e+01  3.053773e+07   \n",
       "50%       0.000000         0.000000       4.600000e+01  7.926989e+07   \n",
       "75%       0.000000         0.000000       3.080000e+02  1.772618e+08   \n",
       "max       1.000000         1.000000       3.032734e+06  4.005591e+09   \n",
       "\n",
       "            Target  \n",
       "count  7464.000000  \n",
       "mean      0.509512  \n",
       "std       0.499943  \n",
       "min       0.000000  \n",
       "25%       0.000000  \n",
       "50%       1.000000  \n",
       "75%       1.000000  \n",
       "max       1.000000  "
      ]
     },
     "execution_count": 110,
     "metadata": {},
     "output_type": "execute_result"
    }
   ],
   "source": [
    "finalbinsdf = getData(\"files/finalbins7464.csv\")\n",
    "finalbinsdf.describe()"
   ]
  },
  {
   "cell_type": "markdown",
   "metadata": {},
   "source": [
    "The lowest appearance rate is 0.4% for `lang_gu`, followed by `genr_casual` at 7%."
   ]
  },
  {
   "cell_type": "code",
   "execution_count": 111,
   "metadata": {},
   "outputs": [
    {
     "data": {
      "image/png": "[encoded data removed]",
      "text/plain": [
       "<Figure size 1440x720 with 1 Axes>"
      ]
     },
     "metadata": {
      "needs_background": "light"
     },
     "output_type": "display_data"
    }
   ],
   "source": [
    "#graphing stacked bar charts for the binned dataframe:\n",
    "selectcols = ['HasSubtitle', 'iapb_none', 'iapb_1.99', 'iapb_0.99', 'iapb_19.49', 'lang_ja',\n",
    "              'lang_gu', 'genr_entertainment', 'genr_casual', 'genr_simulation']\n",
    "stackedbarchart(finalbinsdf[selectcols],finalbinsdf[\"Target\"],\"Various Features, Binned In-app Purchases\")"
   ]
  },
  {
   "cell_type": "markdown",
   "metadata": {},
   "source": [
    "# Modeling\n",
    "Trying different classifiers and comparing their accuracy metrics and then using grid search to tune hyperparameters.\n",
    "## Establishing a baseline"
   ]
  },
  {
   "cell_type": "code",
   "execution_count": 112,
   "metadata": {},
   "outputs": [],
   "source": [
    "#prints accuracy measures of model performance\n",
    "def printacc(ytest,predictions):\n",
    "    '''\n",
    "    Runs various tests of accuracy from sklearn comparing y_test to predictions.  Specifically, confusion_matrix,\n",
    "    f1_score and accuracy_score.\n",
    "    \n",
    "    Args\n",
    "        ytest (arraylike) : target data the same shape as predictions, such as from train_test_split\n",
    "        predictions (arraylike) : results from .predict method of the same shape as ytest, such as model.predict(X_test)\n",
    "        \n",
    "    Returns\n",
    "        Prints the confusion_matrix, f1_score and accuracy_score if possible, otherwise prints \"ran into an error\".\n",
    "        measures (list) : confusion_matrix, f1_score and accuracy_score if possible, otherwise np.nan\n",
    "    '''\n",
    "    measures=[]\n",
    "    for each,name in zip([confusion_matrix,f1_score,accuracy_score],[\"confusion_matrix\",\"f1_score\",\"accuracy_score\"]):\n",
    "        try:\n",
    "            measure = each(ytest,predictions)\n",
    "            print(name,\"\\n\",measure)\n",
    "            measures.append(measure)\n",
    "        except:\n",
    "            measures.append(np.nan)\n",
    "            print(f\"The {name} ran into an error.\")\n",
    "    #end for loop\n",
    "    return measures"
   ]
  },
  {
   "cell_type": "code",
   "execution_count": 113,
   "metadata": {},
   "outputs": [],
   "source": [
    "def fitclassifier(dataframe,classifier,seed=56):\n",
    "    '''\n",
    "    Takes in dataframe, splits into train and test sets with test_size .25, fits classifier, checks performance against \n",
    "    test set.\n",
    "    \n",
    "    Args\n",
    "        dataframe () : assumes target is stored in column labeled \"Target\"\n",
    "        classifier () : an initialized classifer that needs only to be called with the .fit method and provides predictions\n",
    "                        with .predict\n",
    "        seed (int) : defaults to 56, for the random_state of dataframe's train_test_split\n",
    "        \n",
    "    Returns\n",
    "        Prints sklearn.metrics confusion_matrix, f1_score, accuracy_score for dataframe's test set predicted by classifier\n",
    "        scores (list) : the test set's accuracy measures in the order: confusion matrix, f1, accuracy score\n",
    "    '''\n",
    "    \n",
    "    #separate dataframe into features and target\n",
    "    X = dataframe.drop(columns=[\"Target\"])\n",
    "    y = dataframe.Target\n",
    "    \n",
    "    print(\"X and y are created.\")#error-checking\n",
    "    \n",
    "    #split into training and test sets (75%-25%)\n",
    "    X_train, X_test, y_train, y_test = train_test_split(X, y, test_size=0.25,random_state=seed)\n",
    "    print(\"Train-test split accomplished.\")\n",
    "    \n",
    "    classifier.fit(X_train, y_train)#fit to training data\n",
    "    print(\"The classifier has been fitted.\")\n",
    "    preds = classifier.predict(X_test)#make predictions with the test set\n",
    "    print(\"Made predictions.\")\n",
    "    scores = printacc(y_test,preds)#prints accuracy measures, returns them in a list\n",
    "    return scores #returns list of accuracy measurements"
   ]
  },
  {
   "cell_type": "markdown",
   "metadata": {},
   "source": [
    "The features that have low feature importances will not be included in the models, contained in `dropfeats` and `dropbinsfeats`.\n",
    "\n",
    "Running a \"plain\" gini `DecisionTreeClassifier` with the rest of the important features:"
   ]
  },
  {
   "cell_type": "code",
   "execution_count": 116,
   "metadata": {},
   "outputs": [],
   "source": [
    "dropfeats = ['iap_0.99', 'iap_none']"
   ]
  },
  {
   "cell_type": "code",
   "execution_count": 117,
   "metadata": {},
   "outputs": [],
   "source": [
    "clfdf = finaldf.drop(columns=dropfeats)\n",
    "clfbinsdf =finalbinsdf.drop(columns=dropbinsfeats)"
   ]
  },
  {
   "cell_type": "code",
   "execution_count": 118,
   "metadata": {},
   "outputs": [
    {
     "name": "stdout",
     "output_type": "stream",
     "text": [
      "X and y are created.\n",
      "Train-test split accomplished.\n",
      "The classifier has been fitted.\n",
      "Made predictions.\n",
      "confusion_matrix \n",
      " [[511 409]\n",
      " [400 546]]\n",
      "f1_score \n",
      " 0.5744345081536033\n",
      "accuracy_score \n",
      " 0.5664523043944266\n"
     ]
    }
   ],
   "source": [
    "#seeing how well the gini model predicts\n",
    "baseclf = DecisionTreeClassifier(criterion='gini') #initializing 'gini' DecisionTree\n",
    "accuracylist = []\n",
    "#using the clfdf which contains the features that had importances above 0.010\n",
    "accuracylist.append(fitclassifier(clfdf,baseclf,5))"
   ]
  },
  {
   "cell_type": "code",
   "execution_count": 119,
   "metadata": {},
   "outputs": [
    {
     "name": "stdout",
     "output_type": "stream",
     "text": [
      "X and y are created.\n",
      "Train-test split accomplished.\n",
      "The classifier has been fitted.\n",
      "Made predictions.\n",
      "confusion_matrix \n",
      " [[519 401]\n",
      " [391 555]]\n",
      "f1_score \n",
      " 0.583596214511041\n",
      "accuracy_score \n",
      " 0.5755627009646302\n"
     ]
    }
   ],
   "source": [
    "#looking at accuracy measures for clfbinsdf\n",
    "baseclf = DecisionTreeClassifier(criterion='gini')\n",
    "accuracylist.append(fitclassifier(clfbinsdf,baseclf,5))"
   ]
  },
  {
   "cell_type": "markdown",
   "metadata": {},
   "source": [
    "The binned version of the dataframe is slightly better for the f1 and accuracy scores.  The differences are small, but for simplicity, the binned `clfbinsdf` will be used for the rest of the notebook."
   ]
  },
  {
   "cell_type": "code",
   "execution_count": 120,
   "metadata": {},
   "outputs": [
    {
     "data": {
      "text/plain": [
       "[[array([[511, 409],\n",
       "         [400, 546]]), 0.5744345081536033, 0.5664523043944266],\n",
       " [array([[519, 401],\n",
       "         [391, 555]]), 0.583596214511041, 0.5755627009646302]]"
      ]
     },
     "execution_count": 120,
     "metadata": {},
     "output_type": "execute_result"
    }
   ],
   "source": [
    "accuracylist"
   ]
  },
  {
   "cell_type": "markdown",
   "metadata": {},
   "source": [
    "I can compare the models based on `clfbinsdf` in a dictionary to be easily viewed in a dataframe."
   ]
  },
  {
   "cell_type": "markdown",
   "metadata": {},
   "source": [
    "## Trying Various Models"
   ]
  },
  {
   "cell_type": "code",
   "execution_count": 121,
   "metadata": {},
   "outputs": [],
   "source": [
    "#creating a dictionary to store the accuracy metrics from each model\n",
    "accudict ={}"
   ]
  },
  {
   "cell_type": "code",
   "execution_count": 122,
   "metadata": {},
   "outputs": [
    {
     "name": "stdout",
     "output_type": "stream",
     "text": [
      "X and y are created.\n",
      "Train-test split accomplished.\n",
      "The classifier has been fitted.\n",
      "Made predictions.\n",
      "confusion_matrix \n",
      " [[518 402]\n",
      " [388 558]]\n",
      "f1_score \n",
      " 0.5855194123819518\n",
      "accuracy_score \n",
      " 0.5766345123258306\n"
     ]
    }
   ],
   "source": [
    "clf = DecisionTreeClassifier()\n",
    "accudict[\"DecTree\"]=fitclassifier(clfbinsdf,clf,5)"
   ]
  },
  {
   "cell_type": "code",
   "execution_count": 123,
   "metadata": {},
   "outputs": [
    {
     "name": "stdout",
     "output_type": "stream",
     "text": [
      "X and y are created.\n",
      "Train-test split accomplished.\n",
      "The classifier has been fitted.\n",
      "Made predictions.\n",
      "confusion_matrix \n",
      " [[530 390]\n",
      " [398 548]]\n",
      "f1_score \n",
      " 0.5817409766454352\n",
      "accuracy_score \n",
      " 0.5777063236870311\n"
     ]
    }
   ],
   "source": [
    "clf = DecisionTreeClassifier(criterion='entropy')\n",
    "accudict[\"Entropy\"]=fitclassifier(clfbinsdf,clf,5)"
   ]
  },
  {
   "cell_type": "markdown",
   "metadata": {},
   "source": [
    "Typically you should scale data when fitting an SVM model. This is because if some variables have a larger scale than others, they will dominate variables that are on a smaller scale."
   ]
  },
  {
   "cell_type": "code",
   "execution_count": 124,
   "metadata": {},
   "outputs": [],
   "source": [
    "#scaling data before fitting SVM models\n",
    "scaler = StandardScaler\n",
    "scalecols = [\"NameLength\",\"DescripLength\",\"User Rating Count\",\"Size\"]#only the non-categorical/binary columns need to be scaled down\n",
    "scaledarr = scaler().fit_transform(clfbinsdf[scalecols].values)#fit the scaler"
   ]
  },
  {
   "cell_type": "code",
   "execution_count": 125,
   "metadata": {},
   "outputs": [
    {
     "data": {
      "text/plain": [
       "['NameLength_scal',\n",
       " 'DescripLength_scal',\n",
       " 'User Rating Count_scal',\n",
       " 'Size_scal']"
      ]
     },
     "execution_count": 125,
     "metadata": {},
     "output_type": "execute_result"
    }
   ],
   "source": [
    "scaledcols = [col+\"_scal\" for col in scalecols]#rename scaled columns\n",
    "scaledcols"
   ]
  },
  {
   "cell_type": "code",
   "execution_count": 126,
   "metadata": {},
   "outputs": [],
   "source": [
    "scaledX = pd.DataFrame(scaledarr,index=clfbinsdf.index, columns=scaledcols)#convert numpy array of scaled data to dataframe\n",
    "scaleddf = pd.concat([scaledX,clfbinsdf.drop(columns=scalecols)],axis=\"columns\")#put with Target, other categorical columns"
   ]
  },
  {
   "cell_type": "code",
   "execution_count": 127,
   "metadata": {},
   "outputs": [
    {
     "data": {
      "text/html": [
       "<div>\n",
       "<style scoped>\n",
       "    .dataframe tbody tr th:only-of-type {\n",
       "        vertical-align: middle;\n",
       "    }\n",
       "\n",
       "    .dataframe tbody tr th {\n",
       "        vertical-align: top;\n",
       "    }\n",
       "\n",
       "    .dataframe thead th {\n",
       "        text-align: right;\n",
       "    }\n",
       "</style>\n",
       "<table border=\"1\" class=\"dataframe\">\n",
       "  <thead>\n",
       "    <tr style=\"text-align: right;\">\n",
       "      <th></th>\n",
       "      <th>NameLength_scal</th>\n",
       "      <th>DescripLength_scal</th>\n",
       "      <th>User Rating Count_scal</th>\n",
       "      <th>Size_scal</th>\n",
       "      <th>HasSubtitle</th>\n",
       "      <th>iapb_1.99</th>\n",
       "      <th>iapb_19.49</th>\n",
       "      <th>lang_ja</th>\n",
       "      <th>genr_entertainment</th>\n",
       "      <th>genr_casual</th>\n",
       "      <th>genr_simulation</th>\n",
       "      <th>Target</th>\n",
       "    </tr>\n",
       "  </thead>\n",
       "  <tbody>\n",
       "    <tr>\n",
       "      <td>count</td>\n",
       "      <td>7.464000e+03</td>\n",
       "      <td>7.464000e+03</td>\n",
       "      <td>7.464000e+03</td>\n",
       "      <td>7.464000e+03</td>\n",
       "      <td>7464.000000</td>\n",
       "      <td>7464.000000</td>\n",
       "      <td>7464.000000</td>\n",
       "      <td>7464.000000</td>\n",
       "      <td>7464.000000</td>\n",
       "      <td>7464.000000</td>\n",
       "      <td>7464.000000</td>\n",
       "      <td>7464.000000</td>\n",
       "    </tr>\n",
       "    <tr>\n",
       "      <td>mean</td>\n",
       "      <td>-5.330974e-17</td>\n",
       "      <td>-3.807839e-17</td>\n",
       "      <td>-3.807839e-18</td>\n",
       "      <td>4.569407e-17</td>\n",
       "      <td>0.360263</td>\n",
       "      <td>0.295954</td>\n",
       "      <td>0.479502</td>\n",
       "      <td>0.181404</td>\n",
       "      <td>0.492899</td>\n",
       "      <td>0.070070</td>\n",
       "      <td>0.164925</td>\n",
       "      <td>0.509512</td>\n",
       "    </tr>\n",
       "    <tr>\n",
       "      <td>std</td>\n",
       "      <td>1.000067e+00</td>\n",
       "      <td>1.000067e+00</td>\n",
       "      <td>1.000067e+00</td>\n",
       "      <td>1.000067e+00</td>\n",
       "      <td>0.480109</td>\n",
       "      <td>0.456501</td>\n",
       "      <td>0.499613</td>\n",
       "      <td>0.385378</td>\n",
       "      <td>0.499983</td>\n",
       "      <td>0.255281</td>\n",
       "      <td>0.371138</td>\n",
       "      <td>0.499943</td>\n",
       "    </tr>\n",
       "    <tr>\n",
       "      <td>min</td>\n",
       "      <td>-1.509371e+00</td>\n",
       "      <td>-1.376053e+00</td>\n",
       "      <td>-7.773273e-02</td>\n",
       "      <td>-5.907909e-01</td>\n",
       "      <td>0.000000</td>\n",
       "      <td>0.000000</td>\n",
       "      <td>0.000000</td>\n",
       "      <td>0.000000</td>\n",
       "      <td>0.000000</td>\n",
       "      <td>0.000000</td>\n",
       "      <td>0.000000</td>\n",
       "      <td>0.000000</td>\n",
       "    </tr>\n",
       "    <tr>\n",
       "      <td>25%</td>\n",
       "      <td>-7.062620e-01</td>\n",
       "      <td>-7.433846e-01</td>\n",
       "      <td>-7.756834e-02</td>\n",
       "      <td>-4.723425e-01</td>\n",
       "      <td>0.000000</td>\n",
       "      <td>0.000000</td>\n",
       "      <td>0.000000</td>\n",
       "      <td>0.000000</td>\n",
       "      <td>0.000000</td>\n",
       "      <td>0.000000</td>\n",
       "      <td>0.000000</td>\n",
       "      <td>0.000000</td>\n",
       "    </tr>\n",
       "    <tr>\n",
       "      <td>50%</td>\n",
       "      <td>-2.377818e-01</td>\n",
       "      <td>-2.094411e-01</td>\n",
       "      <td>-7.676986e-02</td>\n",
       "      <td>-2.819769e-01</td>\n",
       "      <td>0.000000</td>\n",
       "      <td>0.000000</td>\n",
       "      <td>0.000000</td>\n",
       "      <td>0.000000</td>\n",
       "      <td>0.000000</td>\n",
       "      <td>0.000000</td>\n",
       "      <td>0.000000</td>\n",
       "      <td>1.000000</td>\n",
       "    </tr>\n",
       "    <tr>\n",
       "      <td>75%</td>\n",
       "      <td>3.645498e-01</td>\n",
       "      <td>4.909397e-01</td>\n",
       "      <td>-7.061686e-02</td>\n",
       "      <td>1.008154e-01</td>\n",
       "      <td>1.000000</td>\n",
       "      <td>1.000000</td>\n",
       "      <td>1.000000</td>\n",
       "      <td>0.000000</td>\n",
       "      <td>1.000000</td>\n",
       "      <td>0.000000</td>\n",
       "      <td>0.000000</td>\n",
       "      <td>1.000000</td>\n",
       "    </tr>\n",
       "    <tr>\n",
       "      <td>max</td>\n",
       "      <td>1.522206e+01</td>\n",
       "      <td>1.153370e+01</td>\n",
       "      <td>7.114504e+01</td>\n",
       "      <td>1.505567e+01</td>\n",
       "      <td>1.000000</td>\n",
       "      <td>1.000000</td>\n",
       "      <td>1.000000</td>\n",
       "      <td>1.000000</td>\n",
       "      <td>1.000000</td>\n",
       "      <td>1.000000</td>\n",
       "      <td>1.000000</td>\n",
       "      <td>1.000000</td>\n",
       "    </tr>\n",
       "  </tbody>\n",
       "</table>\n",
       "</div>"
      ],
      "text/plain": [
       "       NameLength_scal  DescripLength_scal  User Rating Count_scal  \\\n",
       "count     7.464000e+03        7.464000e+03            7.464000e+03   \n",
       "mean     -5.330974e-17       -3.807839e-17           -3.807839e-18   \n",
       "std       1.000067e+00        1.000067e+00            1.000067e+00   \n",
       "min      -1.509371e+00       -1.376053e+00           -7.773273e-02   \n",
       "25%      -7.062620e-01       -7.433846e-01           -7.756834e-02   \n",
       "50%      -2.377818e-01       -2.094411e-01           -7.676986e-02   \n",
       "75%       3.645498e-01        4.909397e-01           -7.061686e-02   \n",
       "max       1.522206e+01        1.153370e+01            7.114504e+01   \n",
       "\n",
       "          Size_scal  HasSubtitle    iapb_1.99   iapb_19.49      lang_ja  \\\n",
       "count  7.464000e+03  7464.000000  7464.000000  7464.000000  7464.000000   \n",
       "mean   4.569407e-17     0.360263     0.295954     0.479502     0.181404   \n",
       "std    1.000067e+00     0.480109     0.456501     0.499613     0.385378   \n",
       "min   -5.907909e-01     0.000000     0.000000     0.000000     0.000000   \n",
       "25%   -4.723425e-01     0.000000     0.000000     0.000000     0.000000   \n",
       "50%   -2.819769e-01     0.000000     0.000000     0.000000     0.000000   \n",
       "75%    1.008154e-01     1.000000     1.000000     1.000000     0.000000   \n",
       "max    1.505567e+01     1.000000     1.000000     1.000000     1.000000   \n",
       "\n",
       "       genr_entertainment  genr_casual  genr_simulation       Target  \n",
       "count         7464.000000  7464.000000      7464.000000  7464.000000  \n",
       "mean             0.492899     0.070070         0.164925     0.509512  \n",
       "std              0.499983     0.255281         0.371138     0.499943  \n",
       "min              0.000000     0.000000         0.000000     0.000000  \n",
       "25%              0.000000     0.000000         0.000000     0.000000  \n",
       "50%              0.000000     0.000000         0.000000     1.000000  \n",
       "75%              1.000000     0.000000         0.000000     1.000000  \n",
       "max              1.000000     1.000000         1.000000     1.000000  "
      ]
     },
     "execution_count": 127,
     "metadata": {},
     "output_type": "execute_result"
    }
   ],
   "source": [
    "scaleddf.describe()"
   ]
  },
  {
   "cell_type": "markdown",
   "metadata": {},
   "source": [
    "The selected features were successfully scaled down."
   ]
  },
  {
   "cell_type": "code",
   "execution_count": 128,
   "metadata": {},
   "outputs": [
    {
     "name": "stdout",
     "output_type": "stream",
     "text": [
      "X and y are created.\n",
      "Train-test split accomplished.\n",
      "The classifier has been fitted.\n",
      "Made predictions.\n",
      "confusion_matrix \n",
      " [[678 242]\n",
      " [499 447]]\n",
      "f1_score \n",
      " 0.5467889908256881\n",
      "accuracy_score \n",
      " 0.6028938906752411\n"
     ]
    }
   ],
   "source": [
    "#SVC linear (simple) - data would be very unlikely to fit well\n",
    "clf = svm.SVC(kernel='linear')#max_iter defaults to -1 for no limit to number of iterations in solver\n",
    "accudict[\"Linear SVC\"] = fitclassifier(scaleddf,clf,5)"
   ]
  },
  {
   "cell_type": "code",
   "execution_count": 129,
   "metadata": {},
   "outputs": [
    {
     "name": "stdout",
     "output_type": "stream",
     "text": [
      "X and y are created.\n",
      "Train-test split accomplished.\n",
      "The classifier has been fitted.\n",
      "Made predictions.\n",
      "confusion_matrix \n",
      " [[649 271]\n",
      " [425 521]]\n",
      "f1_score \n",
      " 0.5995397008055235\n",
      "accuracy_score \n",
      " 0.6270096463022508\n"
     ]
    }
   ],
   "source": [
    "#SVC poly\n",
    "clf = svm.SVC(kernel='poly',gamma='scale')\n",
    "accudict[\"Poly SVC scale\"]=fitclassifier(scaleddf,clf,5)"
   ]
  },
  {
   "cell_type": "code",
   "execution_count": 130,
   "metadata": {},
   "outputs": [
    {
     "name": "stdout",
     "output_type": "stream",
     "text": [
      "X and y are created.\n",
      "Train-test split accomplished.\n",
      "The classifier has been fitted.\n",
      "Made predictions.\n",
      "confusion_matrix \n",
      " [[583 337]\n",
      " [361 585]]\n",
      "f1_score \n",
      " 0.6263383297644539\n",
      "accuracy_score \n",
      " 0.6259378349410504\n"
     ]
    }
   ],
   "source": [
    "#SVC rbf\n",
    "clf = svm.SVC(kernel='rbf',gamma='scale')\n",
    "accudict[\"RBF SVC scale\"]=fitclassifier(scaleddf,clf,5)"
   ]
  },
  {
   "cell_type": "code",
   "execution_count": 131,
   "metadata": {},
   "outputs": [
    {
     "name": "stdout",
     "output_type": "stream",
     "text": [
      "X and y are created.\n",
      "Train-test split accomplished.\n",
      "The classifier has been fitted.\n",
      "Made predictions.\n",
      "confusion_matrix \n",
      " [[613 307]\n",
      " [434 512]]\n",
      "f1_score \n",
      " 0.5801699716713882\n",
      "accuracy_score \n",
      " 0.6028938906752411\n"
     ]
    }
   ],
   "source": [
    "clf = RandomForestClassifier(criterion='entropy',n_estimators=10)#default n_estimators will be 100 in version .22\n",
    "accudict[\"Entropy Forest\"]=fitclassifier(clfbinsdf,clf,5)"
   ]
  },
  {
   "cell_type": "code",
   "execution_count": 132,
   "metadata": {},
   "outputs": [
    {
     "name": "stdout",
     "output_type": "stream",
     "text": [
      "X and y are created.\n",
      "Train-test split accomplished.\n",
      "The classifier has been fitted.\n",
      "Made predictions.\n",
      "confusion_matrix \n",
      " [[629 291]\n",
      " [434 512]]\n",
      "f1_score \n",
      " 0.585477415666095\n",
      "accuracy_score \n",
      " 0.6114683815648446\n"
     ]
    }
   ],
   "source": [
    "clf = RandomForestClassifier(criterion='gini',n_estimators=10)#default n_estimators will be 100 in version .22\n",
    "accudict[\"Gini Forest\"]=fitclassifier(clfbinsdf,clf,5)"
   ]
  },
  {
   "cell_type": "code",
   "execution_count": 133,
   "metadata": {},
   "outputs": [
    {
     "name": "stdout",
     "output_type": "stream",
     "text": [
      "X and y are created.\n",
      "Train-test split accomplished.\n",
      "The classifier has been fitted.\n",
      "Made predictions.\n",
      "confusion_matrix \n",
      " [[578 342]\n",
      " [350 596]]\n",
      "f1_score \n",
      " 0.6326963906581742\n",
      "accuracy_score \n",
      " 0.6291532690246516\n"
     ]
    }
   ],
   "source": [
    "clf = AdaBoostClassifier()\n",
    "accudict[\"AdaBoost\"]=fitclassifier(clfbinsdf,clf,5)"
   ]
  },
  {
   "cell_type": "code",
   "execution_count": 134,
   "metadata": {},
   "outputs": [
    {
     "name": "stdout",
     "output_type": "stream",
     "text": [
      "X and y are created.\n",
      "Train-test split accomplished.\n",
      "The classifier has been fitted.\n",
      "Made predictions.\n",
      "confusion_matrix \n",
      " [[602 318]\n",
      " [370 576]]\n",
      "f1_score \n",
      " 0.6260869565217391\n",
      "accuracy_score \n",
      " 0.6312968917470525\n"
     ]
    }
   ],
   "source": [
    "clf = XGBClassifier()\n",
    "accudict[\"XGBoost\"]=fitclassifier(clfbinsdf,clf,5)"
   ]
  },
  {
   "cell_type": "code",
   "execution_count": 135,
   "metadata": {},
   "outputs": [
    {
     "data": {
      "text/html": [
       "<div>\n",
       "<style scoped>\n",
       "    .dataframe tbody tr th:only-of-type {\n",
       "        vertical-align: middle;\n",
       "    }\n",
       "\n",
       "    .dataframe tbody tr th {\n",
       "        vertical-align: top;\n",
       "    }\n",
       "\n",
       "    .dataframe thead th {\n",
       "        text-align: right;\n",
       "    }\n",
       "</style>\n",
       "<table border=\"1\" class=\"dataframe\">\n",
       "  <thead>\n",
       "    <tr style=\"text-align: right;\">\n",
       "      <th></th>\n",
       "      <th>DecTree</th>\n",
       "      <th>Entropy</th>\n",
       "      <th>Linear SVC</th>\n",
       "      <th>Poly SVC scale</th>\n",
       "      <th>RBF SVC scale</th>\n",
       "      <th>Entropy Forest</th>\n",
       "      <th>Gini Forest</th>\n",
       "      <th>AdaBoost</th>\n",
       "      <th>XGBoost</th>\n",
       "    </tr>\n",
       "  </thead>\n",
       "  <tbody>\n",
       "    <tr>\n",
       "      <td>confusion matrix</td>\n",
       "      <td>[[518, 402], [388, 558]]</td>\n",
       "      <td>[[530, 390], [398, 548]]</td>\n",
       "      <td>[[678, 242], [499, 447]]</td>\n",
       "      <td>[[649, 271], [425, 521]]</td>\n",
       "      <td>[[583, 337], [361, 585]]</td>\n",
       "      <td>[[613, 307], [434, 512]]</td>\n",
       "      <td>[[629, 291], [434, 512]]</td>\n",
       "      <td>[[578, 342], [350, 596]]</td>\n",
       "      <td>[[602, 318], [370, 576]]</td>\n",
       "    </tr>\n",
       "    <tr>\n",
       "      <td>f1 score</td>\n",
       "      <td>0.585519</td>\n",
       "      <td>0.581741</td>\n",
       "      <td>0.546789</td>\n",
       "      <td>0.59954</td>\n",
       "      <td>0.626338</td>\n",
       "      <td>0.58017</td>\n",
       "      <td>0.585477</td>\n",
       "      <td>0.632696</td>\n",
       "      <td>0.626087</td>\n",
       "    </tr>\n",
       "    <tr>\n",
       "      <td>accuracy score</td>\n",
       "      <td>0.576635</td>\n",
       "      <td>0.577706</td>\n",
       "      <td>0.602894</td>\n",
       "      <td>0.62701</td>\n",
       "      <td>0.625938</td>\n",
       "      <td>0.602894</td>\n",
       "      <td>0.611468</td>\n",
       "      <td>0.629153</td>\n",
       "      <td>0.631297</td>\n",
       "    </tr>\n",
       "  </tbody>\n",
       "</table>\n",
       "</div>"
      ],
      "text/plain": [
       "                                   DecTree                   Entropy  \\\n",
       "confusion matrix  [[518, 402], [388, 558]]  [[530, 390], [398, 548]]   \n",
       "f1 score                          0.585519                  0.581741   \n",
       "accuracy score                    0.576635                  0.577706   \n",
       "\n",
       "                                Linear SVC            Poly SVC scale  \\\n",
       "confusion matrix  [[678, 242], [499, 447]]  [[649, 271], [425, 521]]   \n",
       "f1 score                          0.546789                   0.59954   \n",
       "accuracy score                    0.602894                   0.62701   \n",
       "\n",
       "                             RBF SVC scale            Entropy Forest  \\\n",
       "confusion matrix  [[583, 337], [361, 585]]  [[613, 307], [434, 512]]   \n",
       "f1 score                          0.626338                   0.58017   \n",
       "accuracy score                    0.625938                  0.602894   \n",
       "\n",
       "                               Gini Forest                  AdaBoost  \\\n",
       "confusion matrix  [[629, 291], [434, 512]]  [[578, 342], [350, 596]]   \n",
       "f1 score                          0.585477                  0.632696   \n",
       "accuracy score                    0.611468                  0.629153   \n",
       "\n",
       "                                   XGBoost  \n",
       "confusion matrix  [[602, 318], [370, 576]]  \n",
       "f1 score                          0.626087  \n",
       "accuracy score                    0.631297  "
      ]
     },
     "execution_count": 135,
     "metadata": {},
     "output_type": "execute_result"
    }
   ],
   "source": [
    "#creating a dataframe to look at all the accuracy metrics' results\n",
    "accuframe = pd.DataFrame(accudict,index=[\"confusion matrix\",\"f1 score\",\"accuracy score\"])\n",
    "accuframe"
   ]
  },
  {
   "cell_type": "markdown",
   "metadata": {},
   "source": [
    "The highest accuracy metrics are the f1 for AdaBoost, RBF (Radial Basis Function) and XGBoost; and the accuracy score for XGBoost, AdaBoost, RBF and Gini Forest."
   ]
  },
  {
   "cell_type": "markdown",
   "metadata": {},
   "source": [
    "## Tuning Hyperparameters with GridSearch\n",
    "After determining the most accurate model, then the hyperparameters will be tuned.  It is more beneficial with regards to processing time relative to the improvement in accuracy to do it this way.  Tuning hyperparameters yields only a slight benefit for a large amount of work so it will be tuned after the model has been chosen."
   ]
  },
  {
   "cell_type": "code",
   "execution_count": 136,
   "metadata": {},
   "outputs": [],
   "source": [
    "#try with AdaBoost\n",
    "#default base_estimator is DecisionTreeClassifier with max_depth=1\n",
    "grid = [{'clf__n_estimators':[10,25,50,75,100,150],\n",
    "         'clf__learning_rate':[.1,.25,.5,1,1.5,2],'clf__algorithm':['SAMME', 'SAMME.R']}]\n",
    "#n_estimators and learning_rate have a trade-off"
   ]
  },
  {
   "cell_type": "code",
   "execution_count": 137,
   "metadata": {},
   "outputs": [],
   "source": [
    "#create Pipeline\n",
    "pipe = Pipeline([('clf',AdaBoostClassifier(random_state=5))])"
   ]
  },
  {
   "cell_type": "code",
   "execution_count": 138,
   "metadata": {},
   "outputs": [],
   "source": [
    "#set up GridSearchCV\n",
    "gs_ada = GridSearchCV(estimator=pipe,\n",
    "            param_grid=grid, scoring='f1', #f1 scoring uses a binary target\n",
    "            cv=3, verbose=2, return_train_score = True,n_jobs=-1)"
   ]
  },
  {
   "cell_type": "code",
   "execution_count": 139,
   "metadata": {},
   "outputs": [],
   "source": [
    "#create training and test split for the AdaBoost GridSearch\n",
    "X = clfbinsdf.drop(columns=[\"Target\"])\n",
    "y = clfbinsdf.Target\n",
    "X_train, X_test, y_train, y_test = train_test_split(X, y, test_size=0.25, random_state=5)"
   ]
  },
  {
   "cell_type": "code",
   "execution_count": 140,
   "metadata": {},
   "outputs": [],
   "source": [
    "#for RBF\n",
    "#get training and test sets using scaled version of data (scaleddf)\n",
    "X = scaleddf.drop(columns=[\"Target\"])\n",
    "y = scaleddf.Target\n",
    "X_train, X_test, y_train, y_test = train_test_split(X, y, test_size=0.25,random_state=5)"
   ]
  },
  {
   "cell_type": "code",
   "execution_count": 141,
   "metadata": {},
   "outputs": [
    {
     "name": "stdout",
     "output_type": "stream",
     "text": [
      "Fitting 3 folds for each of 72 candidates, totalling 216 fits\n"
     ]
    },
    {
     "name": "stderr",
     "output_type": "stream",
     "text": [
      "[Parallel(n_jobs=-1)]: Using backend LokyBackend with 8 concurrent workers.\n",
      "[Parallel(n_jobs=-1)]: Done  25 tasks      | elapsed:    3.2s\n",
      "[Parallel(n_jobs=-1)]: Done 146 tasks      | elapsed:    9.2s\n",
      "[Parallel(n_jobs=-1)]: Done 216 out of 216 | elapsed:   13.4s finished\n"
     ]
    },
    {
     "name": "stdout",
     "output_type": "stream",
     "text": [
      "It took 13.709 seconds long.\n",
      "Best accuracy: 0.630\n",
      "The optimal parameters were:\n",
      "clf__algorithm: 'SAMME.R'\n",
      "clf__learning_rate: 0.25\n",
      "clf__n_estimators: 75\n"
     ]
    }
   ],
   "source": [
    "start = time.time()\n",
    "\n",
    "gs_ada.fit(X_train, y_train)\n",
    "\n",
    "end = time.time()\n",
    "print(\"It took %.3f seconds long.\" % (end-start))\n",
    "\n",
    "print('Best accuracy: %.3f' % gs_ada.best_score_)\n",
    "\n",
    "bestparamdict = gs_ada.best_params_\n",
    "print('The optimal parameters were:')\n",
    "for param in sorted(bestparamdict.keys()):\n",
    "    print('%s: %r' % (param, bestparamdict[param]))"
   ]
  },
  {
   "cell_type": "code",
   "execution_count": 142,
   "metadata": {},
   "outputs": [
    {
     "name": "stdout",
     "output_type": "stream",
     "text": [
      "The accuracy metrics for the training set:\n",
      "confusion_matrix \n",
      " [[1741 1000]\n",
      " [1060 1797]]\n",
      "f1_score \n",
      " 0.6356561726211531\n",
      "accuracy_score \n",
      " 0.6320114326545194\n",
      "The accuracy metrics for the test set:\n",
      "confusion_matrix \n",
      " [[592 328]\n",
      " [346 600]]\n",
      "f1_score \n",
      " 0.6403415154749199\n",
      "accuracy_score \n",
      " 0.6387995712754555\n"
     ]
    }
   ],
   "source": [
    "train_preds = gs_ada.predict(X_train)\n",
    "preds = gs_ada.predict(X_test)\n",
    "\n",
    "print(\"The accuracy metrics for the training set:\")\n",
    "trainmetrics = printacc(y_train, train_preds)\n",
    "\n",
    "print(\"The accuracy metrics for the test set:\")\n",
    "testmetrics = printacc(y_test, preds)"
   ]
  },
  {
   "cell_type": "markdown",
   "metadata": {},
   "source": [
    "Now fitting an AdaBoostClassifier model with the optimal parameters:"
   ]
  },
  {
   "cell_type": "code",
   "execution_count": 143,
   "metadata": {},
   "outputs": [
    {
     "name": "stdout",
     "output_type": "stream",
     "text": [
      "X and y are created.\n",
      "Train-test split accomplished.\n",
      "The classifier has been fitted.\n",
      "Made predictions.\n",
      "confusion_matrix \n",
      " [[592 328]\n",
      " [346 600]]\n",
      "f1_score \n",
      " 0.6403415154749199\n",
      "accuracy_score \n",
      " 0.6387995712754555\n"
     ]
    }
   ],
   "source": [
    "#optimal parameters: (algorithm = 'SAMME.R', learning_rate = .25, n_estimators=75)\n",
    "clf = AdaBoostClassifier(algorithm = 'SAMME.R', learning_rate = .25, n_estimators=75)\n",
    "AdaBacc=fitclassifier(clfbinsdf,clf,5)"
   ]
  },
  {
   "cell_type": "markdown",
   "metadata": {},
   "source": [
    "The f1 score is 64%, which is only slightly improved from the AdaBoostClassifier without using optimal parameters: 63%.\n",
    "\n",
    "It would be interesting to see how well the model performs with only the features that had `feature_importances_` above $0.05$: `User Rating Count`, `HasSubtitle`, `Size`, `DescripLength` and (rounding up from $0.048$) `genr_simulation`."
   ]
  },
  {
   "cell_type": "code",
   "execution_count": 144,
   "metadata": {},
   "outputs": [
    {
     "data": {
      "text/html": [
       "<div>\n",
       "<style scoped>\n",
       "    .dataframe tbody tr th:only-of-type {\n",
       "        vertical-align: middle;\n",
       "    }\n",
       "\n",
       "    .dataframe tbody tr th {\n",
       "        vertical-align: top;\n",
       "    }\n",
       "\n",
       "    .dataframe thead th {\n",
       "        text-align: right;\n",
       "    }\n",
       "</style>\n",
       "<table border=\"1\" class=\"dataframe\">\n",
       "  <thead>\n",
       "    <tr style=\"text-align: right;\">\n",
       "      <th></th>\n",
       "      <th>User Rating Count</th>\n",
       "      <th>HasSubtitle</th>\n",
       "      <th>Size</th>\n",
       "      <th>DescripLength</th>\n",
       "      <th>genr_simulation</th>\n",
       "      <th>Target</th>\n",
       "    </tr>\n",
       "  </thead>\n",
       "  <tbody>\n",
       "    <tr>\n",
       "      <td>0</td>\n",
       "      <td>3553.0</td>\n",
       "      <td>0.0</td>\n",
       "      <td>15853568.0</td>\n",
       "      <td>1617.0</td>\n",
       "      <td>0.0</td>\n",
       "      <td>0.0</td>\n",
       "    </tr>\n",
       "    <tr>\n",
       "      <td>1</td>\n",
       "      <td>284.0</td>\n",
       "      <td>0.0</td>\n",
       "      <td>12328960.0</td>\n",
       "      <td>1222.0</td>\n",
       "      <td>0.0</td>\n",
       "      <td>0.0</td>\n",
       "    </tr>\n",
       "  </tbody>\n",
       "</table>\n",
       "</div>"
      ],
      "text/plain": [
       "   User Rating Count  HasSubtitle        Size  DescripLength  genr_simulation  \\\n",
       "0             3553.0          0.0  15853568.0         1617.0              0.0   \n",
       "1              284.0          0.0  12328960.0         1222.0              0.0   \n",
       "\n",
       "   Target  \n",
       "0     0.0  \n",
       "1     0.0  "
      ]
     },
     "execution_count": 144,
     "metadata": {},
     "output_type": "execute_result"
    }
   ],
   "source": [
    "importantdf = clfbinsdf[[\"User Rating Count\",\"HasSubtitle\",\"Size\",\"DescripLength\",\"genr_simulation\",\"Target\"]]\n",
    "importantdf.head(2)"
   ]
  },
  {
   "cell_type": "code",
   "execution_count": 145,
   "metadata": {},
   "outputs": [
    {
     "name": "stdout",
     "output_type": "stream",
     "text": [
      "X and y are created.\n",
      "Train-test split accomplished.\n",
      "The classifier has been fitted.\n",
      "Made predictions.\n",
      "confusion_matrix \n",
      " [[603 317]\n",
      " [396 550]]\n",
      "f1_score \n",
      " 0.6067291781577496\n",
      "accuracy_score \n",
      " 0.6178992497320471\n"
     ]
    }
   ],
   "source": [
    "#fitting classifier with optimal paramters to only the top five important features\n",
    "clf = AdaBoostClassifier(algorithm = 'SAMME.R', learning_rate = .25, n_estimators=75)\n",
    "AdaBacc=fitclassifier(importantdf,clf,5)"
   ]
  },
  {
   "cell_type": "markdown",
   "metadata": {},
   "source": [
    "That appeared to lower the f1 score to about 60% so using this few features, even if they do have the five highest `feature_importances_`, does not provide an improved result."
   ]
  },
  {
   "cell_type": "markdown",
   "metadata": {},
   "source": [
    "### Plots for Presentation"
   ]
  },
  {
   "cell_type": "code",
   "execution_count": 146,
   "metadata": {},
   "outputs": [
    {
     "data": {
      "text/plain": [
       "[('User Rating Count', 0.3042687409219296),\n",
       " ('HasSubtitle', 0.2819052585256443),\n",
       " ('Size', 0.13044393462097273),\n",
       " ('DescripLength', 0.08349237098949114),\n",
       " ('genr_simulation', 0.04817308594114681),\n",
       " ('genr_casual', 0.03321259326943433),\n",
       " ('iapb_1.99', 0.028601838386621937),\n",
       " ('NameLength', 0.022537061991685977),\n",
       " ('genr_entertainment', 0.02110888023026936),\n",
       " ('lang_ja', 0.019160838775017366),\n",
       " ('iapb_19.49', 0.011953178569926271),\n",
       " ('iapb_0.99', 0.006258619798139817),\n",
       " ('lang_gu', 0.0060387707987479),\n",
       " ('iapb_none', 0.0028448271809726434)]"
      ]
     },
     "execution_count": 146,
     "metadata": {},
     "output_type": "execute_result"
    }
   ],
   "source": [
    "sorted(finalbinsfeats.items(),key=lambda item: item[1],reverse=True)"
   ]
  },
  {
   "cell_type": "markdown",
   "metadata": {},
   "source": [
    "# Interpretation\n",
    "## Plotting and doing t-tests for the top few features\n",
    "Creating graphs to see the distributions of each of these features with respect to the target variable.\n",
    "Followed by a t-test to check for significance."
   ]
  },
  {
   "cell_type": "code",
   "execution_count": 147,
   "metadata": {},
   "outputs": [
    {
     "data": {
      "text/html": [
       "<div>\n",
       "<style scoped>\n",
       "    .dataframe tbody tr th:only-of-type {\n",
       "        vertical-align: middle;\n",
       "    }\n",
       "\n",
       "    .dataframe tbody tr th {\n",
       "        vertical-align: top;\n",
       "    }\n",
       "\n",
       "    .dataframe thead th {\n",
       "        text-align: right;\n",
       "    }\n",
       "</style>\n",
       "<table border=\"1\" class=\"dataframe\">\n",
       "  <thead>\n",
       "    <tr style=\"text-align: right;\">\n",
       "      <th></th>\n",
       "      <th>NameLength</th>\n",
       "      <th>HasSubtitle</th>\n",
       "      <th>DescripLength</th>\n",
       "      <th>iapb_none</th>\n",
       "      <th>iapb_1.99</th>\n",
       "      <th>iapb_0.99</th>\n",
       "      <th>iapb_19.49</th>\n",
       "      <th>lang_ja</th>\n",
       "      <th>lang_gu</th>\n",
       "      <th>genr_entertainment</th>\n",
       "      <th>genr_casual</th>\n",
       "      <th>genr_simulation</th>\n",
       "      <th>User Rating Count</th>\n",
       "      <th>Size</th>\n",
       "      <th>Target</th>\n",
       "    </tr>\n",
       "  </thead>\n",
       "  <tbody>\n",
       "    <tr>\n",
       "      <td>count</td>\n",
       "      <td>7464.000000</td>\n",
       "      <td>7464.000000</td>\n",
       "      <td>7464.000000</td>\n",
       "      <td>7464.000000</td>\n",
       "      <td>7464.000000</td>\n",
       "      <td>7464.000000</td>\n",
       "      <td>7464.000000</td>\n",
       "      <td>7464.000000</td>\n",
       "      <td>7464.000000</td>\n",
       "      <td>7464.000000</td>\n",
       "      <td>7464.000000</td>\n",
       "      <td>7464.000000</td>\n",
       "      <td>7.464000e+03</td>\n",
       "      <td>7.464000e+03</td>\n",
       "      <td>7464.000000</td>\n",
       "    </tr>\n",
       "    <tr>\n",
       "      <td>mean</td>\n",
       "      <td>23.552921</td>\n",
       "      <td>0.360263</td>\n",
       "      <td>1337.098875</td>\n",
       "      <td>0.387996</td>\n",
       "      <td>0.295954</td>\n",
       "      <td>0.383173</td>\n",
       "      <td>0.479502</td>\n",
       "      <td>0.181404</td>\n",
       "      <td>0.003617</td>\n",
       "      <td>0.492899</td>\n",
       "      <td>0.070070</td>\n",
       "      <td>0.164925</td>\n",
       "      <td>3.314929e+03</td>\n",
       "      <td>1.514538e+08</td>\n",
       "      <td>0.509512</td>\n",
       "    </tr>\n",
       "    <tr>\n",
       "      <td>std</td>\n",
       "      <td>14.942935</td>\n",
       "      <td>0.480109</td>\n",
       "      <td>967.395618</td>\n",
       "      <td>0.487326</td>\n",
       "      <td>0.456501</td>\n",
       "      <td>0.486192</td>\n",
       "      <td>0.499613</td>\n",
       "      <td>0.385378</td>\n",
       "      <td>0.060040</td>\n",
       "      <td>0.499983</td>\n",
       "      <td>0.255281</td>\n",
       "      <td>0.371138</td>\n",
       "      <td>4.258374e+04</td>\n",
       "      <td>2.560096e+08</td>\n",
       "      <td>0.499943</td>\n",
       "    </tr>\n",
       "    <tr>\n",
       "      <td>min</td>\n",
       "      <td>1.000000</td>\n",
       "      <td>0.000000</td>\n",
       "      <td>6.000000</td>\n",
       "      <td>0.000000</td>\n",
       "      <td>0.000000</td>\n",
       "      <td>0.000000</td>\n",
       "      <td>0.000000</td>\n",
       "      <td>0.000000</td>\n",
       "      <td>0.000000</td>\n",
       "      <td>0.000000</td>\n",
       "      <td>0.000000</td>\n",
       "      <td>0.000000</td>\n",
       "      <td>5.000000e+00</td>\n",
       "      <td>2.158400e+05</td>\n",
       "      <td>0.000000</td>\n",
       "    </tr>\n",
       "    <tr>\n",
       "      <td>25%</td>\n",
       "      <td>13.000000</td>\n",
       "      <td>0.000000</td>\n",
       "      <td>618.000000</td>\n",
       "      <td>0.000000</td>\n",
       "      <td>0.000000</td>\n",
       "      <td>0.000000</td>\n",
       "      <td>0.000000</td>\n",
       "      <td>0.000000</td>\n",
       "      <td>0.000000</td>\n",
       "      <td>0.000000</td>\n",
       "      <td>0.000000</td>\n",
       "      <td>0.000000</td>\n",
       "      <td>1.200000e+01</td>\n",
       "      <td>3.053773e+07</td>\n",
       "      <td>0.000000</td>\n",
       "    </tr>\n",
       "    <tr>\n",
       "      <td>50%</td>\n",
       "      <td>20.000000</td>\n",
       "      <td>0.000000</td>\n",
       "      <td>1134.500000</td>\n",
       "      <td>0.000000</td>\n",
       "      <td>0.000000</td>\n",
       "      <td>0.000000</td>\n",
       "      <td>0.000000</td>\n",
       "      <td>0.000000</td>\n",
       "      <td>0.000000</td>\n",
       "      <td>0.000000</td>\n",
       "      <td>0.000000</td>\n",
       "      <td>0.000000</td>\n",
       "      <td>4.600000e+01</td>\n",
       "      <td>7.926989e+07</td>\n",
       "      <td>1.000000</td>\n",
       "    </tr>\n",
       "    <tr>\n",
       "      <td>75%</td>\n",
       "      <td>29.000000</td>\n",
       "      <td>1.000000</td>\n",
       "      <td>1812.000000</td>\n",
       "      <td>1.000000</td>\n",
       "      <td>1.000000</td>\n",
       "      <td>1.000000</td>\n",
       "      <td>1.000000</td>\n",
       "      <td>0.000000</td>\n",
       "      <td>0.000000</td>\n",
       "      <td>1.000000</td>\n",
       "      <td>0.000000</td>\n",
       "      <td>0.000000</td>\n",
       "      <td>3.080000e+02</td>\n",
       "      <td>1.772618e+08</td>\n",
       "      <td>1.000000</td>\n",
       "    </tr>\n",
       "    <tr>\n",
       "      <td>max</td>\n",
       "      <td>251.000000</td>\n",
       "      <td>1.000000</td>\n",
       "      <td>12494.000000</td>\n",
       "      <td>1.000000</td>\n",
       "      <td>1.000000</td>\n",
       "      <td>1.000000</td>\n",
       "      <td>1.000000</td>\n",
       "      <td>1.000000</td>\n",
       "      <td>1.000000</td>\n",
       "      <td>1.000000</td>\n",
       "      <td>1.000000</td>\n",
       "      <td>1.000000</td>\n",
       "      <td>3.032734e+06</td>\n",
       "      <td>4.005591e+09</td>\n",
       "      <td>1.000000</td>\n",
       "    </tr>\n",
       "  </tbody>\n",
       "</table>\n",
       "</div>"
      ],
      "text/plain": [
       "        NameLength  HasSubtitle  DescripLength    iapb_none    iapb_1.99  \\\n",
       "count  7464.000000  7464.000000    7464.000000  7464.000000  7464.000000   \n",
       "mean     23.552921     0.360263    1337.098875     0.387996     0.295954   \n",
       "std      14.942935     0.480109     967.395618     0.487326     0.456501   \n",
       "min       1.000000     0.000000       6.000000     0.000000     0.000000   \n",
       "25%      13.000000     0.000000     618.000000     0.000000     0.000000   \n",
       "50%      20.000000     0.000000    1134.500000     0.000000     0.000000   \n",
       "75%      29.000000     1.000000    1812.000000     1.000000     1.000000   \n",
       "max     251.000000     1.000000   12494.000000     1.000000     1.000000   \n",
       "\n",
       "         iapb_0.99   iapb_19.49      lang_ja      lang_gu  genr_entertainment  \\\n",
       "count  7464.000000  7464.000000  7464.000000  7464.000000         7464.000000   \n",
       "mean      0.383173     0.479502     0.181404     0.003617            0.492899   \n",
       "std       0.486192     0.499613     0.385378     0.060040            0.499983   \n",
       "min       0.000000     0.000000     0.000000     0.000000            0.000000   \n",
       "25%       0.000000     0.000000     0.000000     0.000000            0.000000   \n",
       "50%       0.000000     0.000000     0.000000     0.000000            0.000000   \n",
       "75%       1.000000     1.000000     0.000000     0.000000            1.000000   \n",
       "max       1.000000     1.000000     1.000000     1.000000            1.000000   \n",
       "\n",
       "       genr_casual  genr_simulation  User Rating Count          Size  \\\n",
       "count  7464.000000      7464.000000       7.464000e+03  7.464000e+03   \n",
       "mean      0.070070         0.164925       3.314929e+03  1.514538e+08   \n",
       "std       0.255281         0.371138       4.258374e+04  2.560096e+08   \n",
       "min       0.000000         0.000000       5.000000e+00  2.158400e+05   \n",
       "25%       0.000000         0.000000       1.200000e+01  3.053773e+07   \n",
       "50%       0.000000         0.000000       4.600000e+01  7.926989e+07   \n",
       "75%       0.000000         0.000000       3.080000e+02  1.772618e+08   \n",
       "max       1.000000         1.000000       3.032734e+06  4.005591e+09   \n",
       "\n",
       "            Target  \n",
       "count  7464.000000  \n",
       "mean      0.509512  \n",
       "std       0.499943  \n",
       "min       0.000000  \n",
       "25%       0.000000  \n",
       "50%       1.000000  \n",
       "75%       1.000000  \n",
       "max       1.000000  "
      ]
     },
     "execution_count": 147,
     "metadata": {},
     "output_type": "execute_result"
    }
   ],
   "source": [
    "#almost the dataframe used in the final model, except that one dropped the three lower-importance features\n",
    "finalbinsdf = pd.read_csv(\"files/finalbins7464.csv\",index_col=[0])\n",
    "finalbinsdf.describe()"
   ]
  },
  {
   "cell_type": "code",
   "execution_count": 148,
   "metadata": {
    "scrolled": true
   },
   "outputs": [
    {
     "name": "stdout",
     "output_type": "stream",
     "text": [
      "<class 'pandas.core.frame.DataFrame'>\n",
      "Int64Index: 7464 entries, 0 to 16993\n",
      "Data columns (total 18 columns):\n",
      "URL                             7464 non-null object\n",
      "ID                              7464 non-null int64\n",
      "Name                            7464 non-null object\n",
      "Subtitle                        2689 non-null object\n",
      "Icon URL                        7464 non-null object\n",
      "Average User Rating             7464 non-null float64\n",
      "User Rating Count               7464 non-null float64\n",
      "Price                           7464 non-null float64\n",
      "In-app Purchases                4573 non-null object\n",
      "Description                     7464 non-null object\n",
      "Developer                       7464 non-null object\n",
      "Age Rating                      7464 non-null object\n",
      "Languages                       7464 non-null object\n",
      "Size                            7464 non-null float64\n",
      "Primary Genre                   7464 non-null object\n",
      "Genres                          7464 non-null object\n",
      "Original Release Date           7464 non-null object\n",
      "Current Version Release Date    7464 non-null object\n",
      "dtypes: float64(4), int64(1), object(13)\n",
      "memory usage: 1.1+ MB\n"
     ]
    }
   ],
   "source": [
    "#the original dataframe, minus duplicates and most rows with null values\n",
    "edadf = getData(\"files/data7464.csv\")\n",
    "edadf.info()"
   ]
  },
  {
   "cell_type": "markdown",
   "metadata": {},
   "source": [
    "#### Considering User Rating Count"
   ]
  },
  {
   "cell_type": "code",
   "execution_count": 149,
   "metadata": {},
   "outputs": [
    {
     "data": {
      "image/png": "[encoded data removed]",
      "text/plain": [
       "<Figure size 432x288 with 1 Axes>"
      ]
     },
     "metadata": {
      "needs_background": "light"
     },
     "output_type": "display_data"
    }
   ],
   "source": [
    "#plot of User Rating Count against the original target from edadf (Average User Rating)\n",
    "plt.scatter(edadf[\"User Rating Count\"],edadf[\"Average User Rating\"])\n",
    "plt.show()"
   ]
  },
  {
   "cell_type": "markdown",
   "metadata": {},
   "source": [
    "It does look like higher-rated apps have a higher number of users that have rated them."
   ]
  },
  {
   "cell_type": "code",
   "execution_count": 150,
   "metadata": {},
   "outputs": [
    {
     "data": {
      "image/png": "[encoded data removed]",
      "text/plain": [
       "<Figure size 432x288 with 1 Axes>"
      ]
     },
     "metadata": {
      "needs_background": "light"
     },
     "output_type": "display_data"
    }
   ],
   "source": [
    "#cut off chart at 500000 on the x-axis\n",
    "plt.scatter(edadf[\"User Rating Count\"],edadf[\"Average User Rating\"])\n",
    "plt.xlim(-10000, 510000)\n",
    "plt.ylabel(\"Rating (number of stars)\")\n",
    "plt.xlabel(\"Number of Ratings\")\n",
    "plt.title(\"The Number of Ratings Given Compared to a Strategy Game App's Average Star Rating\")\n",
    "plt.show()"
   ]
  },
  {
   "cell_type": "code",
   "execution_count": 151,
   "metadata": {},
   "outputs": [
    {
     "data": {
      "image/png": "[encoded data removed]",
      "text/plain": [
       "<Figure size 432x288 with 1 Axes>"
      ]
     },
     "metadata": {
      "needs_background": "light"
     },
     "output_type": "display_data"
    }
   ],
   "source": [
    "#a version with log-scaled User Rating Count\n",
    "plt.scatter(np.log(edadf[\"User Rating Count\"]),edadf[\"Average User Rating\"],marker=\"d\",c=\"black\")\n",
    "plt.ylabel(\"App's Average Rating\")\n",
    "plt.xlabel(\"Log of Number of User Ratings\")\n",
    "plt.title(\"Amount of Ratings Compared to Average Rating\")\n",
    "plt.tight_layout()\n",
    "plt.savefig(\"images/Distribution of Rating Count.png\")"
   ]
  },
  {
   "cell_type": "markdown",
   "metadata": {},
   "source": [
    "There appears to be a trend that as the average rating increases, so does the number of ratings.  As a hypothesis test:\n",
    "\n",
    "$H_0$ : The mean difference between the number of ratings for lower-rated apps and those of higher-rated apps is zero or greater than zero. Rephrased, $\\mu_{lower} \\ge \\mu_{higher}$\n",
    "\n",
    "$H_1$ : The mean difference between the number of ratings for lower-rated apps and those of higher-rated apps is less than zero. When $\\mu_{lower} < \\mu_{higher}$.\n",
    "\n",
    "To prove the alternative hypothesis, I need a one-tailed less-than test.\n",
    "\n",
    "With the $p$ and $t$ values from a two-tailed test (returned by `ttest_ind`), I can reject the null hypothesis of a less-than test when $p \\div 2 < \\alpha$ (where $p$ is significant for an $\\alpha$ of 0.05) and $t < 0$ because those would indicate that $\\mu_{lower}$ has to be less than $\\mu_{higher}$."
   ]
  },
  {
   "cell_type": "code",
   "execution_count": 152,
   "metadata": {},
   "outputs": [],
   "source": [
    "def splitbyTarget(series, targetdf):\n",
    "    '''\n",
    "    Split series into two based on each item in series' corresponding value in targetdf for the same index.\n",
    "    \n",
    "    Args\n",
    "        series (pandas Series) : a Series with the same index as targetdf\n",
    "        targetdf (pandas Series) : a Series where a value of 1 means that the record at that index matches the target and\n",
    "                                    0 means it does not\n",
    "    \n",
    "    Returns\n",
    "        isTarget (pandas Series) : a Series of values from series that match the target (1 in targetdf)\n",
    "        notTarget (pandas Series) : a Series of values from series that do not match the target (0 in targetdf)\n",
    "    '''\n",
    "    \n",
    "    #filter to get the indices that have value of 1 in the target\n",
    "    indices_1 = targetdf.loc[targetdf==1].index #the index from the target where the values are 1\n",
    "    isTarget = series[indices_1] #filtering target by selected indices\n",
    "    \n",
    "    #filter to get indices that have value 0 in the target\n",
    "    indices_0 = targetdf.loc[targetdf==0].index #the index from the target where the values are 0\n",
    "    notTarget = series[indices_0] #using that index to get the corresponding values in series\n",
    "        \n",
    "    return isTarget, notTarget"
   ]
  },
  {
   "cell_type": "code",
   "execution_count": 154,
   "metadata": {},
   "outputs": [],
   "source": [
    "#split User Rating Count into higher and lower ratings\n",
    "higher_count,lower_count = splitbyTarget(finalbinsdf[\"User Rating Count\"],finalbinsdf.Target)"
   ]
  },
  {
   "cell_type": "code",
   "execution_count": 155,
   "metadata": {},
   "outputs": [],
   "source": [
    "#convert to lists for t-test\n",
    "highclist = [high_rating for high_rating in higher_count]\n",
    "lowclist =[low_rating for low_rating in lower_count]"
   ]
  },
  {
   "cell_type": "code",
   "execution_count": 156,
   "metadata": {},
   "outputs": [
    {
     "data": {
      "text/plain": [
       "Ttest_indResult(statistic=3.571877625404681, pvalue=0.0003566642909901036)"
      ]
     },
     "execution_count": 156,
     "metadata": {},
     "output_type": "execute_result"
    }
   ],
   "source": [
    "# a t-test to compare Average User Ratings (with Target) and User Rating Count\n",
    "# for alternative hypothesis mean(lower) < mean(higher),\n",
    "#needs mean(higher)-mean(lower) which is (higher, lower):\n",
    "countresults = stats.ttest_ind(highclist,lowclist)\n",
    "countresults"
   ]
  },
  {
   "cell_type": "code",
   "execution_count": 157,
   "metadata": {},
   "outputs": [],
   "source": [
    "def onetailresult(results, alpha=0.05):\n",
    "    '''\n",
    "    Print a statement saying whether the test results from ttest_ind were significant or not,\n",
    "    for a one-tailed test.  Since ttest_ind returns numbers for a two-tailed test, this divides\n",
    "    the p-value by 2 before comparing it to the alpha.  If the t-statistic is negative, it \n",
    "    compares 1 - p/2 to alpha.\n",
    "    \n",
    "    Args:\n",
    "        results (Ttest_indResult or 1-D arraylike) : where the t-statistic is the first entry \n",
    "                                                    and the p-value is the second.\n",
    "        alpha (float) : defaults to 0.05, the threshold for below which the p-value is significant\n",
    "    \n",
    "    Returns:\n",
    "        Prints sentence with the statistic, true p-value and whether it is significant.\n",
    "    '''\n",
    "    #divide p by 2, check if it's less than alpha\n",
    "    alpha = 0.05\n",
    "    zresult = results[0]>0#first result is the statistic and if positive, is the z score\n",
    "    pvalue = results[1]/2\n",
    "    if zresult: #if statistic is positive\n",
    "        presult = pvalue<=alpha #check if p is smaller than alpha\n",
    "    else: #if statistic is negative,\n",
    "        presult = (1-pvalue)<=alpha #the real p-value is 1-p/2\n",
    "        pvalue=1-pvalue\n",
    "    \n",
    "    if presult:\n",
    "        print(f\"With statistic {results[0]} and p-value {pvalue}, the result is significant.\")\n",
    "    else:#if the p-value is greater than the alpha\n",
    "        print(f\"With statistic {results[0]} and p-value {pvalue}, the result is not significant.\")"
   ]
  },
  {
   "cell_type": "code",
   "execution_count": 158,
   "metadata": {},
   "outputs": [
    {
     "name": "stdout",
     "output_type": "stream",
     "text": [
      "With statistic 3.571877625404681 and p-value 0.0001783321454950518, the result is significant.\n"
     ]
    }
   ],
   "source": [
    "onetailresult(countresults)"
   ]
  },
  {
   "cell_type": "markdown",
   "metadata": {},
   "source": [
    "This means the null hypothesis can be rejected and the alternative hypothesis is proven.  Lower-rated apps have significantly fewer user ratings (a smaller User Rating Count)."
   ]
  },
  {
   "cell_type": "code",
   "execution_count": 159,
   "metadata": {},
   "outputs": [],
   "source": [
    "#function to graph stacked bar charts of one categorical feature and its inverse with an option to save\n",
    "def barchart(seriesdata,binarytarget,titlename,toSave=False, barwidth=0.3):\n",
    "    '''\n",
    "    Plots a stacked bar chart created by comparing the column given by seriesdata and its inverse to the binarytarget.  All \n",
    "        records that possess the feature (represented by a 1 in seriesdata) have percentages taken of whether they match\n",
    "        binarytarget or not (if the value at the same index is 1 or 0). The other bar in this stacked bar chart is made\n",
    "        from the inverse of seriesdata, so it looks at those records without the feature and compares them to binarytarget.\n",
    "        Each bar in the plot is split into the two percentages of whether they match binarytarget. The graph also has a \n",
    "        horizontal black line at 51, which is the binarytarget ratio across the entire dataset (51% are 1, 49% are 0). \n",
    "        The percentage of positive for the target on the bottom of the stacked chart and negative on the top.\n",
    "    \n",
    "    Args\n",
    "        seriesdata (pandas Series) : a series made up of 1's and 0's only with the same indices as binarytarget, to be \n",
    "                                    plotted as a stacked bar chart and its inverse is if 1's were 0's and 0's were 1's.\n",
    "        binarytarget (pandas Series) : the target with the same indices as seriesdata, in 1's and 0's only, against which \n",
    "                                    to compare the data in seriesdata, where 1's are higher ratings and 0's are lower\n",
    "        titlename (str) : the desired title of the plot and if toSave is True, the plot image is titlename.png\n",
    "        toSave (bool) : defaults to False, to display (False, using .show) or to save as .PNG (True, using .savefig)\n",
    "        barwidth (float or int) : defaults to 0.3, determines how wide the bars are relative to the rest of the plot\n",
    "    \n",
    "    Returns\n",
    "        displays a plot of the stacked bar graph\n",
    "    '''\n",
    "    #each of the two groups becomes an array-like of values\n",
    "    ind = [1,3]#locations on the x-axis for each stacked bar\n",
    "    \n",
    "    #turn series into dataframe\n",
    "    seriesdata = seriesdata.to_frame()\n",
    "    \n",
    "    #create inverse of seriesdata\n",
    "    colname = seriesdata.columns[0]\n",
    "    invcolname = colname+\"_inv\"\n",
    "    seriesdata[invcolname] = [0 if i else 1 for i in seriesdata[colname]]\n",
    "    \n",
    "    #get percentages for both\n",
    "    yesTarget, noTarget = barPercentages(seriesdata,binarytarget) #percentages without having the feature\n",
    "    \n",
    "    colors = [[\"darkred\",\"brown\"],[\"gray\",\"darkgray\"]]#alternating colors\n",
    "    \n",
    "    plt.figure(figsize=(6,10))\n",
    "    bars1 = plt.bar(ind, yesTarget, barwidth, color=colors[0]) #the positives for the target\n",
    "    bars2 = plt.bar(ind, noTarget, barwidth, bottom=yesTarget, color=colors[1]) #that do not have the target\n",
    "\n",
    "    plt.axhline(51,color=\"k\")#Target is 51%-49% distribution\n",
    "\n",
    "    pts = 18 #font pt size\n",
    "\n",
    "    plt.rc('axes', titlesize=pts, labelsize=pts)     # font size of the axes titles and labels\n",
    "    plt.rc('xtick', labelsize=pts)    # font size of the tick labels\n",
    "    plt.rc('ytick', labelsize=pts)    # font size of the tick labels\n",
    "    plt.rc('figure', titlesize=pts+2) #title font size, slightly larger than the other text\n",
    "    \n",
    "    plt.ylabel('Percentages')\n",
    "    plt.title(titlename)\n",
    "    plt.xticks(ind, [colname,\"Not \"+colname])\n",
    "    \n",
    "    plt.legend((bars1[0], bars2[0]), ('4.5- or 5-rated', '4 or lower-rated'))#assuming binarytarget is from User Ratings\n",
    "    if toSave==False:\n",
    "        plt.show()\n",
    "    else:\n",
    "        plt.savefig(\"images/\"+titlename+\".png\")"
   ]
  },
  {
   "cell_type": "markdown",
   "metadata": {},
   "source": [
    "#### Considering HasSubtitle\n",
    "The ratings of apps with subtitles compared to ratings of apps without."
   ]
  },
  {
   "cell_type": "code",
   "execution_count": 160,
   "metadata": {},
   "outputs": [
    {
     "data": {
      "image/png": "[encoded data removed]",
      "text/plain": [
       "<Figure size 432x720 with 1 Axes>"
      ]
     },
     "metadata": {
      "needs_background": "light"
     },
     "output_type": "display_data"
    }
   ],
   "source": [
    "#looking at HasSubtitle\n",
    "barchart(finalbinsdf[\"HasSubtitle\"],finalbinsdf[\"Target\"],\"Target Percentages for HasSubtitle\",True)"
   ]
  },
  {
   "cell_type": "code",
   "execution_count": 162,
   "metadata": {},
   "outputs": [
    {
     "data": {
      "text/plain": [
       "HasSubtitle\n",
       "0.0    0.438115\n",
       "1.0    0.636296\n",
       "Name: Target, dtype: float64"
      ]
     },
     "execution_count": 162,
     "metadata": {},
     "output_type": "execute_result"
    }
   ],
   "source": [
    "finalbinsdf.groupby('HasSubtitle')['Target'].mean()"
   ]
  },
  {
   "cell_type": "markdown",
   "metadata": {},
   "source": [
    "##### Hypothesis test for HasSubtitle\n",
    "\n",
    "A hypothesis test to check whether significantly more apps with higher ratings have a subtitle compared to apps with lower ratings:\n",
    "\n",
    "$H_0$ : The mean difference between the distributions, across `HasSubtitle`, of lower-rated apps and higher-rated apps is zero or greater than zero, or $\\mu_{lower} \\ge \\mu_{higher}$\n",
    "\n",
    "$H_1$ : The mean difference between the distributions across `HasSubtitle` for lower-rated apps and higher-rated apps is less than zero, or $\\mu_{lower} < \\mu_{higher}$.\n",
    "\n",
    "To prove the alternative hypothesis by rejecting the null hypothesis, I use a one-tailed less-than test."
   ]
  },
  {
   "cell_type": "code",
   "execution_count": 163,
   "metadata": {},
   "outputs": [],
   "source": [
    "#from HasSubtitle by looking at Target\n",
    "higher_sub, lower_sub = splitbyTarget(finalbinsdf.HasSubtitle,finalbinsdf.Target)"
   ]
  },
  {
   "cell_type": "code",
   "execution_count": 164,
   "metadata": {},
   "outputs": [],
   "source": [
    "hsublist = [higher_rating for higher_rating in higher_sub]\n",
    "lsublist = [lower_rating for lower_rating in lower_sub]"
   ]
  },
  {
   "cell_type": "code",
   "execution_count": 165,
   "metadata": {},
   "outputs": [],
   "source": [
    "results_sub = stats.ttest_ind(hsublist, lsublist)"
   ]
  },
  {
   "cell_type": "code",
   "execution_count": 166,
   "metadata": {},
   "outputs": [
    {
     "name": "stdout",
     "output_type": "stream",
     "text": [
      "With statistic 16.746329541306363 and p-value 4.010618646239367e-62, the result is significant.\n"
     ]
    }
   ],
   "source": [
    "onetailresult(results_sub)"
   ]
  },
  {
   "cell_type": "markdown",
   "metadata": {},
   "source": [
    "Thus, the null hypothesis $\\mu_{lower} \\ge \\mu_{higher}$ is rejected and the alternative $\\mu_{lower} < \\mu_{higher}$ must be true.  So, apps with lower ratings have a subtitle less often on average than apps with higher ratings."
   ]
  },
  {
   "cell_type": "markdown",
   "metadata": {},
   "source": [
    "#### Comparing App Size"
   ]
  },
  {
   "cell_type": "code",
   "execution_count": 167,
   "metadata": {},
   "outputs": [
    {
     "data": {
      "image/png": "[encoded data removed]",
      "text/plain": [
       "<Figure size 432x288 with 1 Axes>"
      ]
     },
     "metadata": {
      "needs_background": "light"
     },
     "output_type": "display_data"
    }
   ],
   "source": [
    "#looking at Size (in bytes), converted to Gibibytes\n",
    "plt.scatter(edadf[\"Size\"]/(1024**3),edadf[\"Average User Rating\"],marker=\"d\",c=\"black\")\n",
    "plt.ylabel(\"App's Average Rating\")\n",
    "plt.xlabel(\"App Size in Gibibytes (GiB)\")\n",
    "plt.title(\"App Size Compared to User Ratings\")\n",
    "plt.tight_layout()#so xlabel is not cut off when saving the figure\n",
    "plt.savefig(\"images/Distribution of Size.png\")"
   ]
  },
  {
   "cell_type": "markdown",
   "metadata": {},
   "source": [
    "Apps with sizes larger than $1.07\\times 10^9$ bytes (about 1 Gibibyte) appear to have higher ratings.  Similarly, few apps larger than 2 GiB have ratings below 4.  However, the apps with a rating of 5 (the highest possible) are mostly under 1.5 GiB while it's more common for those rated 4.5 to be as large as 2.5 GiB."
   ]
  },
  {
   "cell_type": "markdown",
   "metadata": {},
   "source": [
    "##### A note on converting bytes, with help from Wikipedia\n",
    "https://en.wikipedia.org/wiki/Mebibyte\n",
    "\n",
    "Since the computer architecture is built on the binary bit (1 or 0), amounts of bytes scale by powers or multiples of two.  International standards bodies created the term Mebibyte, and others, to refer to these larger amounts and to make this distinction because a prefix like \"mega\" has the specific meaning of 1 million, for instance. This is a fairly recent nomenclature decision in the history of computing, so many people (inside and outside the field) still consider a megabyte to be $1024^2$ bytes.\n",
    "\n",
    "A megabyte is 1 million bytes:\n",
    "1 Megabyte (MB) = $1000^2$ bytes = 1,000,000 bytes = $5^6\\times2^{6}$ bytes\n",
    "\n",
    "A mebibyte is $1024^2$ bytes:\n",
    "1 Mebibyte (MiB) = $1024^2$ bytes = 1,048,576 bytes = $2^{20}$ bytes\n",
    "\n",
    "1 Gibibyte (GiB) = 1024 MiB = $1024^3$ bytes = 1,073,741,824 bytes = $2^{30}$ bytes"
   ]
  },
  {
   "cell_type": "markdown",
   "metadata": {},
   "source": [
    "##### Hypothesis Test\n",
    "\n",
    "A hypothesis test to check for significance of whether apps with higher ratings have more bytes compared to apps with lower ratings:\n",
    "\n",
    "$H_0$ : The mean difference between the sizes of lower-rated apps and those of higher-rated apps is zero or greater than zero, or $\\mu_{lower} \\ge \\mu_{higher}$\n",
    "\n",
    "$H_1$ : The mean difference between the sizes of lower-rated apps and those of higher-rated apps is less than zero, or $\\mu_{lower} < \\mu_{higher}$.\n",
    "\n",
    "To prove the alternative hypothesis by rejecting the null hypothesis, I use a one-tailed less-than test."
   ]
  },
  {
   "cell_type": "code",
   "execution_count": 175,
   "metadata": {},
   "outputs": [
    {
     "data": {
      "text/plain": [
       "Target\n",
       "0.0    139023396.0\n",
       "1.0    163420158.0\n",
       "Name: Size, dtype: float64"
      ]
     },
     "execution_count": 175,
     "metadata": {},
     "output_type": "execute_result"
    }
   ],
   "source": [
    "finalbinsdf.groupby('Target')['Size'].mean().round()"
   ]
  },
  {
   "cell_type": "code",
   "execution_count": 171,
   "metadata": {},
   "outputs": [
    {
     "data": {
      "text/plain": [
       "7305"
      ]
     },
     "execution_count": 171,
     "metadata": {},
     "output_type": "execute_result"
    }
   ],
   "source": [
    "finalbinsdf.Size.nunique()"
   ]
  },
  {
   "cell_type": "code",
   "execution_count": 172,
   "metadata": {},
   "outputs": [],
   "source": [
    "#compare average sizes from Size by looking at Target\n",
    "higher_size, lower_size = splitbyTarget(finalbinsdf.Size,finalbinsdf.Target)"
   ]
  },
  {
   "cell_type": "code",
   "execution_count": 173,
   "metadata": {},
   "outputs": [
    {
     "data": {
      "text/plain": [
       "59        55803904.0\n",
       "78       500501504.0\n",
       "82        33033216.0\n",
       "91        39997440.0\n",
       "118       47129600.0\n",
       "            ...     \n",
       "16932     44067840.0\n",
       "16956     79646720.0\n",
       "16962    125348864.0\n",
       "16967    128687104.0\n",
       "16993      8845312.0\n",
       "Name: Size, Length: 3803, dtype: float64"
      ]
     },
     "execution_count": 173,
     "metadata": {},
     "output_type": "execute_result"
    }
   ],
   "source": [
    "higher_size"
   ]
  },
  {
   "cell_type": "code",
   "execution_count": null,
   "metadata": {},
   "outputs": [],
   "source": [
    "hslist = [higher_rating for higher_rating in higher_size]\n",
    "lslist = [lower_rating for lower_rating in lower_size]"
   ]
  },
  {
   "cell_type": "code",
   "execution_count": null,
   "metadata": {},
   "outputs": [],
   "source": [
    "results_sz = stats.ttest_ind(hslist, lslist)"
   ]
  },
  {
   "cell_type": "code",
   "execution_count": null,
   "metadata": {},
   "outputs": [],
   "source": [
    "onetailresult(results_sz)"
   ]
  },
  {
   "cell_type": "markdown",
   "metadata": {},
   "source": [
    "Thus, the null hypothesis $\\mu_{lower} \\ge \\mu_{higher}$ is rejected and the alternative $\\mu_{lower} < \\mu_{higher}$ must be true.  So, apps with lower ratings have smaller sizes on average than apps with higher ratings."
   ]
  },
  {
   "cell_type": "markdown",
   "metadata": {},
   "source": [
    "#### Description Length (in Characters)"
   ]
  },
  {
   "cell_type": "code",
   "execution_count": 178,
   "metadata": {},
   "outputs": [],
   "source": [
    "#filtering the DescripLength data using .loc\n",
    "descripdict = {}\n",
    "descripdict[\"Higher Ratings\"] = finalbinsdf.loc[finalbinsdf[\"Target\"]==1].DescripLength\n",
    "descripdict[\"Lower Ratings\"] = finalbinsdf.loc[finalbinsdf[\"Target\"]==0].DescripLength"
   ]
  },
  {
   "cell_type": "code",
   "execution_count": 179,
   "metadata": {},
   "outputs": [
    {
     "name": "stdout",
     "output_type": "stream",
     "text": [
      "Higher Ratings\n",
      "1394.22 +/- 974.949\n",
      "Lower Ratings\n",
      "1277.762 +/- 955.745\n"
     ]
    }
   ],
   "source": [
    "for key, values in descripdict.items():\n",
    "    print(key) #printing the averages and standard deviations for each\n",
    "    print(str(round(np.average(values),3))+\" +/- \"+str(round(np.std(values),3)))"
   ]
  },
  {
   "cell_type": "markdown",
   "metadata": {},
   "source": [
    "There is a difference between the higher- and the lower-rated apps. Although the bulk of them overlap, the group of those with higher ratings have a higher average by about 100 characters."
   ]
  },
  {
   "cell_type": "code",
   "execution_count": 180,
   "metadata": {},
   "outputs": [
    {
     "data": {
      "image/png": "[encoded data removed]",
      "text/plain": [
       "<Figure size 432x288 with 1 Axes>"
      ]
     },
     "metadata": {
      "needs_background": "light"
     },
     "output_type": "display_data"
    }
   ],
   "source": [
    "plt.scatter(finalbinsdf[\"DescripLength\"],edadf[\"Average User Rating\"])\n",
    "plt.show()"
   ]
  },
  {
   "cell_type": "code",
   "execution_count": 181,
   "metadata": {},
   "outputs": [
    {
     "data": {
      "text/html": [
       "<div>\n",
       "<style scoped>\n",
       "    .dataframe tbody tr th:only-of-type {\n",
       "        vertical-align: middle;\n",
       "    }\n",
       "\n",
       "    .dataframe tbody tr th {\n",
       "        vertical-align: top;\n",
       "    }\n",
       "\n",
       "    .dataframe thead th {\n",
       "        text-align: right;\n",
       "    }\n",
       "</style>\n",
       "<table border=\"1\" class=\"dataframe\">\n",
       "  <thead>\n",
       "    <tr style=\"text-align: right;\">\n",
       "      <th></th>\n",
       "      <th>Higher Ratings</th>\n",
       "      <th>Lower Ratings</th>\n",
       "    </tr>\n",
       "  </thead>\n",
       "  <tbody>\n",
       "    <tr>\n",
       "      <td>count</td>\n",
       "      <td>3803.000000</td>\n",
       "      <td>3661.000000</td>\n",
       "    </tr>\n",
       "    <tr>\n",
       "      <td>mean</td>\n",
       "      <td>1394.219826</td>\n",
       "      <td>1277.762360</td>\n",
       "    </tr>\n",
       "    <tr>\n",
       "      <td>std</td>\n",
       "      <td>975.077489</td>\n",
       "      <td>955.875071</td>\n",
       "    </tr>\n",
       "    <tr>\n",
       "      <td>min</td>\n",
       "      <td>6.000000</td>\n",
       "      <td>6.000000</td>\n",
       "    </tr>\n",
       "    <tr>\n",
       "      <td>25%</td>\n",
       "      <td>640.000000</td>\n",
       "      <td>598.000000</td>\n",
       "    </tr>\n",
       "    <tr>\n",
       "      <td>50%</td>\n",
       "      <td>1198.000000</td>\n",
       "      <td>1066.000000</td>\n",
       "    </tr>\n",
       "    <tr>\n",
       "      <td>75%</td>\n",
       "      <td>1903.000000</td>\n",
       "      <td>1700.000000</td>\n",
       "    </tr>\n",
       "    <tr>\n",
       "      <td>max</td>\n",
       "      <td>8084.000000</td>\n",
       "      <td>12494.000000</td>\n",
       "    </tr>\n",
       "  </tbody>\n",
       "</table>\n",
       "</div>"
      ],
      "text/plain": [
       "       Higher Ratings  Lower Ratings\n",
       "count     3803.000000    3661.000000\n",
       "mean      1394.219826    1277.762360\n",
       "std        975.077489     955.875071\n",
       "min          6.000000       6.000000\n",
       "25%        640.000000     598.000000\n",
       "50%       1198.000000    1066.000000\n",
       "75%       1903.000000    1700.000000\n",
       "max       8084.000000   12494.000000"
      ]
     },
     "execution_count": 181,
     "metadata": {},
     "output_type": "execute_result"
    }
   ],
   "source": [
    "hilodf = pd.DataFrame(descripdict)\n",
    "hilodf.describe()"
   ]
  },
  {
   "cell_type": "code",
   "execution_count": 177,
   "metadata": {},
   "outputs": [
    {
     "ename": "NameError",
     "evalue": "name 'descripdict' is not defined",
     "output_type": "error",
     "traceback": [
      "\u001b[0;31m---------------------------------------------------------------------------\u001b[0m",
      "\u001b[0;31mNameError\u001b[0m                                 Traceback (most recent call last)",
      "\u001b[0;32m<ipython-input-177-86bd5ce0ea70>\u001b[0m in \u001b[0;36m<module>\u001b[0;34m\u001b[0m\n\u001b[1;32m      3\u001b[0m \u001b[0mplt\u001b[0m\u001b[0;34m.\u001b[0m\u001b[0mylim\u001b[0m\u001b[0;34m(\u001b[0m\u001b[0;34m-\u001b[0m\u001b[0;36m100\u001b[0m\u001b[0;34m,\u001b[0m\u001b[0;36m4500\u001b[0m\u001b[0;34m)\u001b[0m\u001b[0;34m\u001b[0m\u001b[0;34m\u001b[0m\u001b[0m\n\u001b[1;32m      4\u001b[0m \u001b[0mfig\u001b[0m\u001b[0;34m.\u001b[0m\u001b[0msuptitle\u001b[0m\u001b[0;34m(\u001b[0m\u001b[0;34m\"Description Lengths without Outliers\"\u001b[0m\u001b[0;34m)\u001b[0m\u001b[0;34m\u001b[0m\u001b[0;34m\u001b[0m\u001b[0m\n\u001b[0;32m----> 5\u001b[0;31m \u001b[0mbox1\u001b[0m\u001b[0;34m.\u001b[0m\u001b[0mboxplot\u001b[0m\u001b[0;34m(\u001b[0m\u001b[0mdescripdict\u001b[0m\u001b[0;34m[\u001b[0m\u001b[0;34m\"Higher Ratings\"\u001b[0m\u001b[0;34m]\u001b[0m\u001b[0;34m)\u001b[0m\u001b[0;34m\u001b[0m\u001b[0;34m\u001b[0m\u001b[0m\n\u001b[0m\u001b[1;32m      6\u001b[0m \u001b[0mbox1\u001b[0m\u001b[0;34m.\u001b[0m\u001b[0mset_title\u001b[0m\u001b[0;34m(\u001b[0m\u001b[0;34m\"Higher-Rated\"\u001b[0m\u001b[0;34m)\u001b[0m\u001b[0;34m\u001b[0m\u001b[0;34m\u001b[0m\u001b[0m\n\u001b[1;32m      7\u001b[0m \u001b[0mbox2\u001b[0m\u001b[0;34m.\u001b[0m\u001b[0mboxplot\u001b[0m\u001b[0;34m(\u001b[0m\u001b[0mdescripdict\u001b[0m\u001b[0;34m[\u001b[0m\u001b[0;34m\"Lower Ratings\"\u001b[0m\u001b[0;34m]\u001b[0m\u001b[0;34m)\u001b[0m\u001b[0;34m\u001b[0m\u001b[0;34m\u001b[0m\u001b[0m\n",
      "\u001b[0;31mNameError\u001b[0m: name 'descripdict' is not defined"
     ]
    },
    {
     "data": {
      "image/png": "[encoded data removed]",
      "text/plain": [
       "<Figure size 576x288 with 2 Axes>"
      ]
     },
     "metadata": {
      "needs_background": "light"
     },
     "output_type": "display_data"
    }
   ],
   "source": [
    "#boxplots of description length, separated into higher and lower\n",
    "fig, (box1, box2) = plt.subplots(1, 2,sharex=True,sharey=True,figsize=(8,4))\n",
    "plt.ylim(-100,4500)\n",
    "fig.suptitle(\"Description Lengths without Outliers\")\n",
    "box1.boxplot(descripdict[\"Higher Ratings\"])\n",
    "box1.set_title(\"Higher-Rated\")\n",
    "box2.boxplot(descripdict[\"Lower Ratings\"])\n",
    "box2.set_title(\"Lower-Rated\")\n",
    "plt.xticks([],\"box-plot\")\n",
    "plt.savefig(\"images/Description Box-Plots.png\")\n",
    "#plt.show()"
   ]
  },
  {
   "cell_type": "markdown",
   "metadata": {},
   "source": [
    "The lower ratings are more clustered around a lower number just above 1000 characters, and the higher-rated Description lengths are longer, with the third quartile close to 2000. Below is a box plot for the combined data; all of the DescripLength column."
   ]
  },
  {
   "cell_type": "code",
   "execution_count": 176,
   "metadata": {},
   "outputs": [
    {
     "data": {
      "image/png": "[encoded data removed]",
      "text/plain": [
       "<Figure size 432x288 with 1 Axes>"
      ]
     },
     "metadata": {
      "needs_background": "light"
     },
     "output_type": "display_data"
    }
   ],
   "source": [
    "#plot of DescripLength to compare overall distribution\n",
    "plt.boxplot(finalbinsdf[\"DescripLength\"])\n",
    "plt.ylim(-100,4500)\n",
    "plt.show()"
   ]
  },
  {
   "cell_type": "markdown",
   "metadata": {},
   "source": [
    "##### Hypothesis Test\n",
    "\n",
    "A hypothesis test to check for significance of whether apps with higher ratings have longer descriptions compared to apps with lower ratings:\n",
    "\n",
    "$H_0$ : The mean difference between the lower-rated apps' description lengths and those of higher-rated apps is zero or greater than zero, or $\\mu_{lower} \\ge \\mu_{higher}$\n",
    "\n",
    "$H_1$ : The mean difference between the description lengths (in characters) for lower-rated apps and those of higher-rated apps is less than zero, or $\\mu_{lower} < \\mu_{higher}$.\n",
    "\n",
    "To prove the alternative hypothesis by rejecting the null hypothesis, I use a one-tailed less-than test."
   ]
  },
  {
   "cell_type": "code",
   "execution_count": 182,
   "metadata": {},
   "outputs": [],
   "source": [
    "#using descripdict[\"Higher Ratings\"] and [\"Lower Ratings\"]\n",
    "results_ds = stats.ttest_ind(descripdict[\"Higher Ratings\"], descripdict[\"Lower Ratings\"])"
   ]
  },
  {
   "cell_type": "code",
   "execution_count": 183,
   "metadata": {},
   "outputs": [
    {
     "name": "stdout",
     "output_type": "stream",
     "text": [
      "With statistic 5.208339729767996 and p-value 9.781581252580088e-08, the result is significant.\n"
     ]
    }
   ],
   "source": [
    "onetailresult(results_ds)"
   ]
  },
  {
   "cell_type": "markdown",
   "metadata": {},
   "source": [
    "Thus, the null hypothesis $\\mu_{lower} \\ge \\mu_{higher}$ is rejected and the alternative $\\mu_{lower} < \\mu_{higher}$ must be true.  So, apps with lower ratings have fewer characters in their descriptions on average than apps with higher ratings."
   ]
  },
  {
   "cell_type": "markdown",
   "metadata": {},
   "source": [
    "#### Considering the Simulation and Casual genres"
   ]
  },
  {
   "cell_type": "code",
   "execution_count": 190,
   "metadata": {},
   "outputs": [
    {
     "data": {
      "image/png": "[encoded data removed]",
      "text/plain": [
       "<Figure size 432x720 with 1 Axes>"
      ]
     },
     "metadata": {
      "needs_background": "light"
     },
     "output_type": "display_data"
    },
    {
     "data": {
      "image/png": "[encoded data removed]",
      "text/plain": [
       "<Figure size 432x720 with 1 Axes>"
      ]
     },
     "metadata": {
      "needs_background": "light"
     },
     "output_type": "display_data"
    }
   ],
   "source": [
    "#looking at genr_simulation and genr_casual and those records without\n",
    "for genrename in [\"genr_simulation\",\"genr_casual\"]:\n",
    "    barchart(finalbinsdf[genrename],finalbinsdf[\"Target\"],\"Target Percentages for \"+genrename,barwidth=.8,toSave=True)"
   ]
  },
  {
   "cell_type": "markdown",
   "metadata": {},
   "source": [
    "If an app is in the Simulation genre, it is likely to have a lower rating and if it is in the Casual genre, it is more likely to have a higher rating.  If it is not Casual, then it is closer to the average probability of a higher rating (51%). In this case, it appears that having the feature `genr_simulation` is a predictor of not having a higher rating."
   ]
  },
  {
   "cell_type": "markdown",
   "metadata": {},
   "source": [
    "##### Hypothesis test for Simulation genre\n",
    "\n",
    "A hypothesis test to check whether significantly more apps with lower ratings fall into the simulation genre compared to apps with higher ratings:\n",
    "\n",
    "$H_0$ : The mean difference between the distribution, across the simulation genre, of lower-rated apps and that of higher-rated apps is zero or less than zero, or $\\mu_{lower} \\le \\mu_{higher}$\n",
    "\n",
    "$H_1$ : The mean difference between the distributions across the simulation genre for lower-rated apps and higher-rated apps is greater than zero, or $\\mu_{lower} > \\mu_{higher}$.\n",
    "\n",
    "To prove the alternative hypothesis by rejecting the null hypothesis, I use a one-tailed greater-than test."
   ]
  },
  {
   "cell_type": "code",
   "execution_count": 189,
   "metadata": {},
   "outputs": [
    {
     "data": {
      "text/plain": [
       "0    0.0\n",
       "1    0.0\n",
       "2    0.0\n",
       "3    0.0\n",
       "4    0.0\n",
       "Name: genr_simulation, dtype: float64"
      ]
     },
     "execution_count": 189,
     "metadata": {},
     "output_type": "execute_result"
    }
   ],
   "source": [
    "finalbinsdf['genr_simulation'].head()"
   ]
  },
  {
   "cell_type": "code",
   "execution_count": 184,
   "metadata": {},
   "outputs": [],
   "source": [
    "#from genr_simulation by looking at Target\n",
    "higher_gsim, lower_gsim = splitbyTarget(finalbinsdf.genr_simulation,finalbinsdf.Target)"
   ]
  },
  {
   "cell_type": "code",
   "execution_count": 185,
   "metadata": {},
   "outputs": [],
   "source": [
    "hsimlist = [higher_rating for higher_rating in higher_gsim]\n",
    "lsimlist = [lower_rating for lower_rating in lower_gsim]"
   ]
  },
  {
   "cell_type": "code",
   "execution_count": 186,
   "metadata": {},
   "outputs": [],
   "source": [
    "#for greater-than, the lower ratings go first to get a positive t-statistic\n",
    "results_sim = stats.ttest_ind(lsimlist, hsimlist)"
   ]
  },
  {
   "cell_type": "code",
   "execution_count": 187,
   "metadata": {},
   "outputs": [
    {
     "name": "stdout",
     "output_type": "stream",
     "text": [
      "With statistic 2.946742382982834 and p-value 0.0016106708263357978, the result is significant.\n"
     ]
    }
   ],
   "source": [
    "onetailresult(results_sim)"
   ]
  },
  {
   "cell_type": "markdown",
   "metadata": {},
   "source": [
    "Thus, the null hypothesis $\\mu_{lower} \\le \\mu_{higher}$ is rejected and the alternative $\\mu_{lower} > \\mu_{higher}$ must be true.  So, apps with lower ratings on average fall into the Simulation genre than apps with higher ratings."
   ]
  },
  {
   "cell_type": "markdown",
   "metadata": {},
   "source": [
    "##### Hypothesis test for Casual genre\n",
    "\n",
    "A hypothesis test to check whether significantly more apps with higher ratings fall into the casual genre compared to apps with lower ratings:\n",
    "\n",
    "$H_0$ : The mean difference between the distributions, across the casual genre, of lower-rated apps and higher-rated apps is zero or greater than zero, or $\\mu_{lower} \\ge \\mu_{higher}$\n",
    "\n",
    "$H_1$ : The mean difference between the distributions across the casual genre for lower-rated apps and higher-rated apps is less than zero, or $\\mu_{lower} < \\mu_{higher}$.\n",
    "\n",
    "To prove the alternative hypothesis by rejecting the null hypothesis, I use a one-tailed less-than test."
   ]
  },
  {
   "cell_type": "code",
   "execution_count": null,
   "metadata": {},
   "outputs": [],
   "source": [
    "#from the Casual genre by looking at Target\n",
    "higher_gcas, lower_gcas = splitbyTarget(finalbinsdf.genr_casual,finalbinsdf.Target)"
   ]
  },
  {
   "cell_type": "code",
   "execution_count": null,
   "metadata": {},
   "outputs": [],
   "source": [
    "hcaslist = [higher_rating for higher_rating in higher_gcas]\n",
    "lcaslist = [lower_rating for lower_rating in lower_gcas]"
   ]
  },
  {
   "cell_type": "code",
   "execution_count": null,
   "metadata": {},
   "outputs": [],
   "source": [
    "results_cas = stats.ttest_ind(hcaslist, lcaslist)"
   ]
  },
  {
   "cell_type": "code",
   "execution_count": null,
   "metadata": {},
   "outputs": [],
   "source": [
    "onetailresult(results_cas)"
   ]
  },
  {
   "cell_type": "markdown",
   "metadata": {},
   "source": [
    "Thus, the null hypothesis $\\mu_{lower} \\ge \\mu_{higher}$ is rejected and the alternative $\\mu_{lower} < \\mu_{higher}$ must be true.  So, apps with lower ratings fall into the casual genre less often on average than apps with higher ratings."
   ]
  },
  {
   "cell_type": "markdown",
   "metadata": {},
   "source": [
    "### Comparing the rest of the top 11 important features\n",
    "Using plots, checking to see whether possessing the feature or not is what correlates to a higher rating."
   ]
  },
  {
   "cell_type": "code",
   "execution_count": null,
   "metadata": {},
   "outputs": [],
   "source": [
    "#iapb_1.99\n",
    "barchart(finalbinsdf[\"iapb_1.99\"],finalbinsdf[\"Target\"],\"Target Percentages for In-app Purchases 1.99 or 1.49\",\n",
    "            barwidth=.8,toSave=True)"
   ]
  },
  {
   "cell_type": "code",
   "execution_count": null,
   "metadata": {},
   "outputs": [],
   "source": [
    "#NameLength scatter plot with up to 120 chars\n",
    "plt.scatter(finalbinsdf[\"NameLength\"],edadf[\"Average User Rating\"])\n",
    "plt.xlim(-10,120)\n",
    "plt.show()"
   ]
  },
  {
   "cell_type": "code",
   "execution_count": null,
   "metadata": {},
   "outputs": [],
   "source": [
    "plt.scatter(finalbinsdf[\"NameLength\"],finalbinsdf[\"Target\"],marker=\"d\",alpha=0.3)\n",
    "#plt.xlim(-10,120)\n",
    "plt.show()"
   ]
  },
  {
   "cell_type": "code",
   "execution_count": null,
   "metadata": {},
   "outputs": [],
   "source": [
    "#picking out the NameLength data using .loc\n",
    "namedict = {}\n",
    "namedict[\"Higher Ratings\"] = finalbinsdf.loc[finalbinsdf[\"Target\"]==1].NameLength\n",
    "namedict[\"Lower Ratings\"] = finalbinsdf.loc[finalbinsdf[\"Target\"]==0].NameLength"
   ]
  },
  {
   "cell_type": "code",
   "execution_count": null,
   "metadata": {},
   "outputs": [],
   "source": [
    "for key, values in namedict.items():\n",
    "    print(key) #printing the averages and standard deviations for each\n",
    "    print(str(round(np.average(values),3))+\" +/- \"+str(round(np.std(values),3)))"
   ]
  },
  {
   "cell_type": "markdown",
   "metadata": {},
   "source": [
    "The higher-rated apps' names range from roughly 9 to 37 characters in length and the lower-rated, from 8 to 40.  The lower-rated appear to have a very slightly flatter bell curve.  Although the differences are slight, the higher-rated apps' average length of a name is about 1 character shorter than the lower-rated apps'. Further research with t-tests or similar measures would determine the significance of this difference more precisely."
   ]
  },
  {
   "cell_type": "code",
   "execution_count": null,
   "metadata": {},
   "outputs": [],
   "source": [
    "#genr_entertainment, lang_ja, iapb_19.49\n",
    "for eachname in [\"genr_entertainment\", \"lang_ja\", \"iapb_19.49\"]:\n",
    "    barchart(finalbinsdf[eachname],finalbinsdf[\"Target\"],\"Target Percentages for \"+eachname,barwidth=.8,toSave=True)"
   ]
  },
  {
   "cell_type": "markdown",
   "metadata": {},
   "source": [
    "##### One-tailed t-test results for all except NameLength\n",
    "Three of these have the same hypotheses and alternative hypotheses, namely:\n",
    "\n",
    "$H_0$ : The mean difference between the distributions, across the Japanese language/ 1.99 bin/ 19.49 bin, of lower-rated apps and higher-rated apps is zero or greater than zero, or $\\mu_{lower} \\ge \\mu_{higher}$\n",
    "\n",
    "$H_1$ : The mean difference between the distributions across the Japanese language/ 1.99 bin/ 19.49 bin for lower-rated apps and higher-rated apps is less than zero, or $\\mu_{lower} < \\mu_{higher}$.\n",
    "\n",
    "The entertainment genre is different:\n",
    "\n",
    "$H_0$ : The mean difference between the distributions, across the entertainment genre, of lower-rated apps and higher-rated apps is zero or less than zero, or $\\mu_{lower} \\le \\mu_{higher}$\n",
    "\n",
    "$H_1$ : The mean difference between the distributions across the entertainment genre for lower-rated apps and higher-rated apps is greater than zero, or $\\mu_{lower} > \\mu_{higher}$."
   ]
  },
  {
   "cell_type": "code",
   "execution_count": null,
   "metadata": {},
   "outputs": [],
   "source": [
    "for colname in [\"iapb_1.99\",\"genr_entertainment\", \"lang_ja\", \"iapb_19.49\"]:\n",
    "    higher_r, lower_r = splitbyTarget(finalbinsdf[colname],finalbinsdf.Target)\n",
    "    hlist = [higher_rating for higher_rating in higher_r]\n",
    "    llist = [lower_rating for lower_rating in lower_r]\n",
    "    if colname==\"genr_entertainment\":\n",
    "        print(\"\\n\",colname,\"greater-than test\")\n",
    "        results_ent = stats.ttest_ind(llist, hlist)\n",
    "        onetailresult(results_ent)\n",
    "    else:\n",
    "        results = stats.ttest_ind(hlist, llist)\n",
    "        print(\"\\n\",colname,\"less-than test\")\n",
    "        onetailresult(results)"
   ]
  },
  {
   "cell_type": "markdown",
   "metadata": {},
   "source": [
    "Thus, the null hypothesis $\\mu_{lower} \\ge \\mu_{higher}$ is rejected and the alternative $\\mu_{lower} < \\mu_{higher}$ must be true for whether a game has a Japanese language option, or has in-app purchases in the 1.99 range or the 19.49 range (both are detailed in **Conclusion**, below)."
   ]
  },
  {
   "cell_type": "markdown",
   "metadata": {},
   "source": [
    "##### Hypothesis test for NameLength\n",
    "The remaining feature is the length of the app's name in characters.  This will check for significance of whether apps with higher ratings have fewer characters in their names than apps with lower ratings.\n",
    "\n",
    "$H_0$ : The mean difference between the lengths of the names of lower-rated apps and higher-rated apps is zero or less than zero, or $\\mu_{lower} \\le \\mu_{higher}$\n",
    "\n",
    "$H_1$ : The mean difference between the lengths of names of lower-rated apps and higher-rated apps is greater than zero, or $\\mu_{lower} > \\mu_{higher}$."
   ]
  },
  {
   "cell_type": "code",
   "execution_count": null,
   "metadata": {},
   "outputs": [],
   "source": [
    "#using namedict\n",
    "results_nl = stats.ttest_ind(namedict[\"Lower Ratings\"], namedict[\"Higher Ratings\"])"
   ]
  },
  {
   "cell_type": "code",
   "execution_count": null,
   "metadata": {},
   "outputs": [],
   "source": [
    "onetailresult(results_nl)"
   ]
  },
  {
   "cell_type": "markdown",
   "metadata": {},
   "source": [
    "Thus, the null hypothesis $\\mu_{lower} \\le \\mu_{higher}$ is rejected and the alternative $\\mu_{lower} > \\mu_{higher}$ must be true.  So, apps with lower ratings have more characters in their names on average than apps with higher ratings."
   ]
  },
  {
   "cell_type": "markdown",
   "metadata": {},
   "source": [
    "# Conclusion\n",
    "The best model for predicting whether an app rating would be more than 4.5 stars or not was the `AdaBoostClassifier` with the parameters(`algorithm` = '`SAMME.R`', `learning_rate` = 0.25 and `n_estimators` = 75).  The features that were included in this model were: \n",
    "1. User Rating Count : the number of ratings the app had\n",
    "2. HasSubtitle : whether the app had a one-line summary\n",
    "3. Size : the size of the app in bytes\n",
    "4. DescripLength : how long the description text of the app was, in total characters (including newlines and punctuation)\n",
    "5. genr_simulation : whether the app fell into the Simulation genre\n",
    "6. genr_casual : whether the app fell into the Casual genre\n",
    "7. iapb_1.99 : whether among the app's in-app purchases, at least one cost 1.99 or 1.49\n",
    "8. NameLength : how many characters long the title of the game was (including punctuation and spaces)\n",
    "9. genr_entertainment : whether the app fell into the Entertainment genre\n",
    "10. lang_ja : whether one of its supported languages was Japanese\n",
    "11. iapb_19.49 : whether among the app's in-app purchases, at least one cost more than 1.99 but less than 19.49 (Specifically, for this dataset: 2.49, 2.99, 3.49, 3.99, 4.49, 4.99, 5.49, 5.99, 6.99, 7.49, 7.99, 8.49, 8.99, 9.49, 9.99, 10.99, 11.99, 12.99, 13.99, 14.99, 15.99, 16.99, 17.99, 18.99 or 19.49.)\n",
    "\n",
    "Each had a score greater than 0.010 as `feature_importances_` in the base classifier model (a \"gini\" type `DecisionTreeClassifier` with `max_depth` of 5)."
   ]
  },
  {
   "cell_type": "markdown",
   "metadata": {},
   "source": [
    "With this model, a Strategy Game developer selling on the Apple App Store looking for a high rating (4.5 or 5) may want to consider shortening the advertised name of the app and check whether it's in the Simulation and/or Casual genre and adjust accordingly.  It's also not much of a concern what languages other than English the app is available in, except making a Japanese language option available might help. Frequent updates did not have much of an effect.\n",
    "\n",
    "To increase the average user rating, this developer might add more content to the game, thereby necessitating an addition to the description text and increasing the size of the app.\n",
    "\n",
    "Also, it might improve a Stratey Game app's rating to have the Name be more succinct and this could be done by moving some of the trimmed words to the Subtitle or Description."
   ]
  },
  {
   "cell_type": "markdown",
   "metadata": {},
   "source": [
    "## Future Opportunities, Further Research Questions\n",
    "Bots or fake users can be bought to give a positive review, which is one way to increase the rating of an app.  However, legitimate reviewers may simply choose a number of stars to rate and leave no explanation for what it is they like or dislike about the app.  Often users are asked to rate an app from within the app itself.  There may be an incentive for doing so, like more in-game currency or something similarly valuable.  Many users are not aware that leaving a negative review has no negative effect on receiving the in-app reward.  Even though paying for *specifically* positive reviews (whether with in-app items of value or real-world money) is likely against the Terms and Policies of the app store, there is an implied quid pro quo that users may feel obligated to uphold (or they may be concerned about in-game repercussions if they give anything less than a 5).\n",
    "\n",
    "On one occasion, I read about an app that had a pop-up asking the user whether they liked the app or not.  If they chose the affirmative, the link sent the user to the review page but if not, it linked to the Contact Us or provided a complaints form.  So an app with a high rating may well be deserved and could be due to addressing user complaints through the app itself, privately, and encouraging those without complaints to write a review.  Often, app developers reply to negative user reviews on the Google Play Store with an email address or link, asking for more details and in a way that's easier for them to address the issues raised in the review, but the negative review and low rating will still bring down the app's average rating until the user updates their rating.\n",
    "\n",
    "Separating out true reviews from bots and identifying those five-star reviews that were incentivized would take more Natural Language Processing work, especially deciding on which criteria indicates a review is sincere.\n",
    "\n",
    "Also, using NLP would be a more accurate way to determine exactly what users prefer or dislike about certain apps by analyzing the sincere reviews."
   ]
  }
 ],
 "metadata": {
  "kernelspec": {
   "display_name": "Python 3",
   "language": "python",
   "name": "python3"
  },
  "language_info": {
   "codemirror_mode": {
    "name": "ipython",
    "version": 3
   },
   "file_extension": ".py",
   "mimetype": "text/x-python",
   "name": "python",
   "nbconvert_exporter": "python",
   "pygments_lexer": "ipython3",
   "version": "3.6.9"
  }
 },
 "nbformat": 4,
 "nbformat_minor": 2
}
